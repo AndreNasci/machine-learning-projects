{
  "cells": [
    {
      "cell_type": "markdown",
      "metadata": {
        "id": "view-in-github",
        "colab_type": "text"
      },
      "source": [
        "<a href=\"https://colab.research.google.com/github/AndreNasci/TinyML/blob/main/Class%208%20-%20Classification%20with%20DNN/TF_MNIST_Classification.ipynb\" target=\"_parent\"><img src=\"https://colab.research.google.com/assets/colab-badge.svg\" alt=\"Open In Colab\"/></a>"
      ]
    },
    {
      "cell_type": "markdown",
      "metadata": {
        "id": "Zo2JiEtkzvQL"
      },
      "source": [
        "# Digit Classification using Dense Neural Network (DNN) "
      ]
    },
    {
      "cell_type": "markdown",
      "source": [
        "**NOTE**: Confirm if Runtime Type is set to: `GPU`"
      ],
      "metadata": {
        "id": "MoBLov_rmT5W"
      }
    },
    {
      "cell_type": "markdown",
      "metadata": {
        "id": "z56YN3JZ0Duh"
      },
      "source": [
        "## Import Libraries"
      ]
    },
    {
      "cell_type": "code",
      "execution_count": null,
      "metadata": {
        "id": "YfPnR74Gzc_q"
      },
      "outputs": [],
      "source": [
        "import numpy as np\n",
        "import matplotlib.pyplot as plt\n",
        "import tensorflow as tf"
      ]
    },
    {
      "cell_type": "markdown",
      "metadata": {
        "id": "xrGLDV6q0PCc"
      },
      "source": [
        "## Upload and Explore Dataset\n",
        "**MNIST** handwritten digits dataset\n",
        "\n",
        "The MNIST database of handwritten digits, available from this [page](http://yann.lecun.com/exdb/mnist/), has a training set of 60,000 28x28 grayscale images of the 10 digits along a test set of 10,000 images. It is a subset of a larger set available from NIST. The digits have been size-normalized and centered in a fixed-size image.\n",
        "\n",
        "<img src=\"https://i.imgur.com/ITrm9x4.png\" width=\"500px\">\n"
      ]
    },
    {
      "cell_type": "code",
      "execution_count": null,
      "metadata": {
        "id": "Ib2Ihepx0N6h",
        "outputId": "96c98b3f-4546-4252-e4ad-ba397dd31a19",
        "colab": {
          "base_uri": "https://localhost:8080/"
        }
      },
      "outputs": [
        {
          "output_type": "stream",
          "name": "stdout",
          "text": [
            "Downloading data from https://storage.googleapis.com/tensorflow/tf-keras-datasets/mnist.npz\n",
            "11490434/11490434 [==============================] - 0s 0us/step\n"
          ]
        }
      ],
      "source": [
        "# Importar dataset\n",
        "data = tf.keras.datasets.mnist\n",
        "\n",
        "# Separar dataset em dados de treino e validação\n",
        "(training_images, training_labels), (val_images, val_labels) = data.load_data()"
      ]
    },
    {
      "cell_type": "code",
      "execution_count": null,
      "metadata": {
        "id": "pq1bMIRd38b8",
        "outputId": "621e0318-934e-44c7-a734-d444ca9cd2e5",
        "colab": {
          "base_uri": "https://localhost:8080/"
        }
      },
      "outputs": [
        {
          "output_type": "stream",
          "name": "stdout",
          "text": [
            "(60000, 28, 28)\n",
            "(60000,)\n"
          ]
        }
      ],
      "source": [
        "print(training_images.shape)\n",
        "print(training_labels.shape)\n",
        "# 60000 imagens de treino (linhas/casos), 28x28 atributos/features"
      ]
    },
    {
      "cell_type": "code",
      "execution_count": null,
      "metadata": {
        "id": "qHaUYnSs4bq4",
        "outputId": "55daae95-e0e3-446b-e6e3-7b707c22daea",
        "colab": {
          "base_uri": "https://localhost:8080/"
        }
      },
      "outputs": [
        {
          "output_type": "stream",
          "name": "stdout",
          "text": [
            "(10000, 28, 28)\n",
            "(10000,)\n"
          ]
        }
      ],
      "source": [
        "print(val_images.shape)\n",
        "print(val_labels.shape)\n",
        "# 10000 imagens de teste (linhas/casos), 28x28 atributos/features"
      ]
    },
    {
      "cell_type": "markdown",
      "metadata": {
        "id": "p5b0wydUaU1N"
      },
      "source": [
        "### Exploring Labels"
      ]
    },
    {
      "cell_type": "code",
      "execution_count": null,
      "metadata": {
        "id": "qyfWBrrW9gAd",
        "outputId": "5f03f88a-c4e5-4091-8d50-b3ab9b8b2acd",
        "colab": {
          "base_uri": "https://localhost:8080/"
        }
      },
      "outputs": [
        {
          "output_type": "execute_result",
          "data": {
            "text/plain": [
              "array([5, 0, 4, ..., 5, 6, 8], dtype=uint8)"
            ]
          },
          "metadata": {},
          "execution_count": 8
        }
      ],
      "source": [
        "training_labels"
      ]
    },
    {
      "cell_type": "markdown",
      "metadata": {
        "id": "Cv8z_QGpYoEj"
      },
      "source": [
        "It is possible to keep training labels as \"numbers\", but in this case when compiling the model, you should use: `loss=\"sparse_categorical_crossentropy\".`"
      ]
    },
    {
      "cell_type": "markdown",
      "metadata": {
        "id": "sr8u2BMUZbwq"
      },
      "source": [
        "**And how about changing labels to categorical?**"
      ]
    },
    {
      "cell_type": "code",
      "execution_count": null,
      "metadata": {
        "id": "qc-FKEkWYRXL",
        "outputId": "69556cfd-4d47-47d8-d02d-1103d081417c",
        "colab": {
          "base_uri": "https://localhost:8080/"
        }
      },
      "outputs": [
        {
          "output_type": "execute_result",
          "data": {
            "text/plain": [
              "array([5, 0, 4, 1, 9, 2, 1, 3, 1, 4], dtype=uint8)"
            ]
          },
          "metadata": {},
          "execution_count": 9
        }
      ],
      "source": [
        "training_labels[:10]"
      ]
    },
    {
      "cell_type": "code",
      "execution_count": null,
      "metadata": {
        "id": "PRwje9DsX2EA",
        "outputId": "643ed3d8-dda5-48f7-9589-7e3caf737196",
        "colab": {
          "base_uri": "https://localhost:8080/"
        }
      },
      "outputs": [
        {
          "output_type": "execute_result",
          "data": {
            "text/plain": [
              "array([[0., 0., 0., 0., 0., 1., 0., 0., 0., 0.],\n",
              "       [1., 0., 0., 0., 0., 0., 0., 0., 0., 0.],\n",
              "       [0., 0., 0., 0., 1., 0., 0., 0., 0., 0.],\n",
              "       [0., 1., 0., 0., 0., 0., 0., 0., 0., 0.],\n",
              "       [0., 0., 0., 0., 0., 0., 0., 0., 0., 1.],\n",
              "       [0., 0., 1., 0., 0., 0., 0., 0., 0., 0.],\n",
              "       [0., 1., 0., 0., 0., 0., 0., 0., 0., 0.],\n",
              "       [0., 0., 0., 1., 0., 0., 0., 0., 0., 0.],\n",
              "       [0., 1., 0., 0., 0., 0., 0., 0., 0., 0.],\n",
              "       [0., 0., 0., 0., 1., 0., 0., 0., 0., 0.]], dtype=float32)"
            ]
          },
          "metadata": {},
          "execution_count": 10
        }
      ],
      "source": [
        "from tensorflow.keras.utils import to_categorical\n",
        "to_categorical(training_labels[:10])\n",
        "# se o Y é dessa maneira, devemos usar categorical_crossentropy"
      ]
    },
    {
      "cell_type": "markdown",
      "metadata": {
        "id": "9cPQOQsnZtcK"
      },
      "source": [
        "When labels are defined as categories, when compiling the model you should use: `loss=\"categorical_crossentropy\".`"
      ]
    },
    {
      "cell_type": "markdown",
      "metadata": {
        "id": "ZF4d2rJfaL3T"
      },
      "source": [
        "### Exploring images"
      ]
    },
    {
      "cell_type": "code",
      "execution_count": null,
      "metadata": {
        "id": "TMu0y_Az4hRr",
        "outputId": "dfee6cb0-0173-413b-d118-ff41dc12f9a5",
        "colab": {
          "base_uri": "https://localhost:8080/"
        }
      },
      "outputs": [
        {
          "output_type": "stream",
          "name": "stdout",
          "text": [
            "[[  0   0   0   0   0   0   0   0   0   0   0   0   0   0   0   0   0   0   0   0   0   0   0   0   0   0   0   0]\n",
            " [  0   0   0   0   0   0   0   0   0   0   0   0   0   0   0   0   0   0   0   0   0   0   0   0   0   0   0   0]\n",
            " [  0   0   0   0   0   0   0   0   0   0   0   0   0   0   0   0   0   0   0   0   0   0   0   0   0   0   0   0]\n",
            " [  0   0   0   0   0   0   0   0   0   0   0   0   0   0   0   0   0   0   0   0   0   0   0   0   0   0   0   0]\n",
            " [  0   0   0   0   0   0   0   0   0   0   0   0   0   0   0   0   0   0   0   0   0   0   0   0   0   0   0   0]\n",
            " [  0   0   0   0   0   0   0   0   0   0   0   0   0   0   0   0   0   0   0   0  67 232  39   0   0   0   0   0]\n",
            " [  0   0   0   0  62  81   0   0   0   0   0   0   0   0   0   0   0   0   0   0 120 180  39   0   0   0   0   0]\n",
            " [  0   0   0   0 126 163   0   0   0   0   0   0   0   0   0   0   0   0   0   2 153 210  40   0   0   0   0   0]\n",
            " [  0   0   0   0 220 163   0   0   0   0   0   0   0   0   0   0   0   0   0  27 254 162   0   0   0   0   0   0]\n",
            " [  0   0   0   0 222 163   0   0   0   0   0   0   0   0   0   0   0   0   0 183 254 125   0   0   0   0   0   0]\n",
            " [  0   0   0  46 245 163   0   0   0   0   0   0   0   0   0   0   0   0   0 198 254  56   0   0   0   0   0   0]\n",
            " [  0   0   0 120 254 163   0   0   0   0   0   0   0   0   0   0   0   0  23 231 254  29   0   0   0   0   0   0]\n",
            " [  0   0   0 159 254 120   0   0   0   0   0   0   0   0   0   0   0   0 163 254 216  16   0   0   0   0   0   0]\n",
            " [  0   0   0 159 254  67   0   0   0   0   0   0   0   0   0  14  86 178 248 254  91   0   0   0   0   0   0   0]\n",
            " [  0   0   0 159 254  85   0   0   0  47  49 116 144 150 241 243 234 179 241 252  40   0   0   0   0   0   0   0]\n",
            " [  0   0   0 150 253 237 207 207 207 253 254 250 240 198 143  91  28   5 233 250   0   0   0   0   0   0   0   0]\n",
            " [  0   0   0   0 119 177 177 177 177 177  98  56   0   0   0   0   0 102 254 220   0   0   0   0   0   0   0   0]\n",
            " [  0   0   0   0   0   0   0   0   0   0   0   0   0   0   0   0   0 169 254 137   0   0   0   0   0   0   0   0]\n",
            " [  0   0   0   0   0   0   0   0   0   0   0   0   0   0   0   0   0 169 254  57   0   0   0   0   0   0   0   0]\n",
            " [  0   0   0   0   0   0   0   0   0   0   0   0   0   0   0   0   0 169 254  57   0   0   0   0   0   0   0   0]\n",
            " [  0   0   0   0   0   0   0   0   0   0   0   0   0   0   0   0   0 169 255  94   0   0   0   0   0   0   0   0]\n",
            " [  0   0   0   0   0   0   0   0   0   0   0   0   0   0   0   0   0 169 254  96   0   0   0   0   0   0   0   0]\n",
            " [  0   0   0   0   0   0   0   0   0   0   0   0   0   0   0   0   0 169 254 153   0   0   0   0   0   0   0   0]\n",
            " [  0   0   0   0   0   0   0   0   0   0   0   0   0   0   0   0   0 169 255 153   0   0   0   0   0   0   0   0]\n",
            " [  0   0   0   0   0   0   0   0   0   0   0   0   0   0   0   0   0  96 254 153   0   0   0   0   0   0   0   0]\n",
            " [  0   0   0   0   0   0   0   0   0   0   0   0   0   0   0   0   0   0   0   0   0   0   0   0   0   0   0   0]\n",
            " [  0   0   0   0   0   0   0   0   0   0   0   0   0   0   0   0   0   0   0   0   0   0   0   0   0   0   0   0]\n",
            " [  0   0   0   0   0   0   0   0   0   0   0   0   0   0   0   0   0   0   0   0   0   0   0   0   0   0   0   0]]\n"
          ]
        }
      ],
      "source": [
        "np.set_printoptions(linewidth=200)\n",
        "print(training_images[2])"
      ]
    },
    {
      "cell_type": "code",
      "execution_count": null,
      "metadata": {
        "colab": {
          "base_uri": "https://localhost:8080/"
        },
        "id": "yxbAHxFY6JVK",
        "outputId": "786d12ee-6c13-49aa-bc79-e7ba63605243"
      },
      "outputs": [
        {
          "output_type": "execute_result",
          "data": {
            "text/plain": [
              "4"
            ]
          },
          "metadata": {},
          "execution_count": 12
        }
      ],
      "source": [
        "training_labels[2]"
      ]
    },
    {
      "cell_type": "code",
      "execution_count": null,
      "metadata": {
        "id": "3K1XrD3a5cU0",
        "outputId": "6ddc8a7c-da0a-4bb8-b404-c2a598e3399e",
        "colab": {
          "base_uri": "https://localhost:8080/",
          "height": 448
        }
      },
      "outputs": [
        {
          "output_type": "stream",
          "name": "stdout",
          "text": [
            "     Label of image 2 is: 4\n"
          ]
        },
        {
          "output_type": "display_data",
          "data": {
            "text/plain": [
              "<Figure size 640x480 with 1 Axes>"
            ],
            "image/png": "[encoded data removed]"
          },
          "metadata": {}
        }
      ],
      "source": [
        "img = 2\n",
        "print(\"     Label of image {} is: {}\".format(img, training_labels[img]))\n",
        "plt.imshow(training_images[img], cmap='gray');"
      ]
    },
    {
      "cell_type": "code",
      "execution_count": null,
      "metadata": {
        "id": "wHbD0jQj7NaL",
        "outputId": "1fd54abe-a48f-4c03-879e-9d7109fc9b5d",
        "colab": {
          "base_uri": "https://localhost:8080/"
        }
      },
      "outputs": [
        {
          "output_type": "execute_result",
          "data": {
            "text/plain": [
              "255"
            ]
          },
          "metadata": {},
          "execution_count": 17
        }
      ],
      "source": [
        "training_images.max() # valor máximo de cada pixel"
      ]
    },
    {
      "cell_type": "code",
      "execution_count": null,
      "metadata": {
        "id": "OSY9uSFD7WOc",
        "outputId": "44bf3f67-bee7-4d3c-cb8b-a39d761256f5",
        "colab": {
          "base_uri": "https://localhost:8080/"
        }
      },
      "outputs": [
        {
          "output_type": "execute_result",
          "data": {
            "text/plain": [
              "0"
            ]
          },
          "metadata": {},
          "execution_count": 18
        }
      ],
      "source": [
        "training_images.min() # valor mínimo de cada pixel"
      ]
    },
    {
      "cell_type": "code",
      "source": [
        "# imprime os 10 primeiros dígitos em duas linhas\n",
        "plt.figure(figsize=(10,4))\n",
        "for i in range(10):\n",
        "    plt.subplot(2,5,i+1)\n",
        "    plt.xticks([])\n",
        "    plt.yticks([])\n",
        "    plt.grid(False)\n",
        "    plt.imshow(training_images[i], cmap='binary') # cmap = 'gray'\n",
        "    plt.xlabel(training_labels[i])"
      ],
      "metadata": {
        "id": "s5W2UKkqoBX0",
        "outputId": "e3c8318d-999a-4008-9b3c-c38d378dd7ff",
        "colab": {
          "base_uri": "https://localhost:8080/",
          "height": 358
        }
      },
      "execution_count": null,
      "outputs": [
        {
          "output_type": "display_data",
          "data": {
            "text/plain": [
              "<Figure size 1000x400 with 10 Axes>"
            ],
            "image/png": "[encoded data removed]"
          },
          "metadata": {}
        }
      ]
    },
    {
      "cell_type": "markdown",
      "metadata": {
        "id": "0-H0LwB_7von"
      },
      "source": [
        "### Preprocessing Data \n",
        "\n",
        "**Normalizing Data**: \n",
        "We notice that all of the values in the number are between 0 and 255. If we are training a neural network, for various reasons it's easier if we treat all values as between 0 and 1, a process called 'normalizing'."
      ]
    },
    {
      "cell_type": "code",
      "execution_count": null,
      "metadata": {
        "id": "uZrGVMsH0X3F"
      },
      "outputs": [],
      "source": [
        "# é mais fácil (menos custoso) treinar o modelo com valores de 0 a 1\n",
        "# isso também diminui o erro\n",
        "training_images  = training_images / 255.0 \n",
        "val_images = val_images / 255.0"
      ]
    },
    {
      "cell_type": "code",
      "execution_count": null,
      "metadata": {
        "id": "Khec4VhU8mkR",
        "outputId": "172dbed3-6cde-4013-a033-4be9ab2d3cbc",
        "colab": {
          "base_uri": "https://localhost:8080/"
        }
      },
      "outputs": [
        {
          "output_type": "stream",
          "name": "stdout",
          "text": [
            "[[0.         0.         0.         0.         0.         0.         0.         0.         0.         0.         0.         0.         0.         0.         0.         0.         0.\n",
            "  0.         0.         0.         0.         0.         0.         0.         0.         0.         0.         0.        ]\n",
            " [0.         0.         0.         0.         0.         0.         0.         0.         0.         0.         0.         0.         0.         0.         0.         0.         0.\n",
            "  0.         0.         0.         0.         0.         0.         0.         0.         0.         0.         0.        ]\n",
            " [0.         0.         0.         0.         0.         0.         0.         0.         0.         0.         0.         0.         0.         0.         0.         0.         0.\n",
            "  0.         0.         0.         0.         0.         0.         0.         0.         0.         0.         0.        ]\n",
            " [0.         0.         0.         0.         0.         0.         0.         0.         0.         0.         0.         0.         0.         0.         0.         0.         0.\n",
            "  0.         0.         0.         0.         0.         0.         0.         0.         0.         0.         0.        ]\n",
            " [0.         0.         0.         0.         0.         0.         0.         0.         0.         0.         0.         0.         0.         0.         0.         0.         0.\n",
            "  0.         0.         0.         0.         0.         0.         0.         0.         0.         0.         0.        ]\n",
            " [0.         0.         0.         0.         0.         0.         0.         0.         0.         0.         0.         0.         0.         0.         0.         0.         0.\n",
            "  0.         0.         0.         0.2627451  0.90980392 0.15294118 0.         0.         0.         0.         0.        ]\n",
            " [0.         0.         0.         0.         0.24313725 0.31764706 0.         0.         0.         0.         0.         0.         0.         0.         0.         0.         0.\n",
            "  0.         0.         0.         0.47058824 0.70588235 0.15294118 0.         0.         0.         0.         0.        ]\n",
            " [0.         0.         0.         0.         0.49411765 0.63921569 0.         0.         0.         0.         0.         0.         0.         0.         0.         0.         0.\n",
            "  0.         0.         0.00784314 0.6        0.82352941 0.15686275 0.         0.         0.         0.         0.        ]\n",
            " [0.         0.         0.         0.         0.8627451  0.63921569 0.         0.         0.         0.         0.         0.         0.         0.         0.         0.         0.\n",
            "  0.         0.         0.10588235 0.99607843 0.63529412 0.         0.         0.         0.         0.         0.        ]\n",
            " [0.         0.         0.         0.         0.87058824 0.63921569 0.         0.         0.         0.         0.         0.         0.         0.         0.         0.         0.\n",
            "  0.         0.         0.71764706 0.99607843 0.49019608 0.         0.         0.         0.         0.         0.        ]\n",
            " [0.         0.         0.         0.18039216 0.96078431 0.63921569 0.         0.         0.         0.         0.         0.         0.         0.         0.         0.         0.\n",
            "  0.         0.         0.77647059 0.99607843 0.21960784 0.         0.         0.         0.         0.         0.        ]\n",
            " [0.         0.         0.         0.47058824 0.99607843 0.63921569 0.         0.         0.         0.         0.         0.         0.         0.         0.         0.         0.\n",
            "  0.         0.09019608 0.90588235 0.99607843 0.11372549 0.         0.         0.         0.         0.         0.        ]\n",
            " [0.         0.         0.         0.62352941 0.99607843 0.47058824 0.         0.         0.         0.         0.         0.         0.         0.         0.         0.         0.\n",
            "  0.         0.63921569 0.99607843 0.84705882 0.0627451  0.         0.         0.         0.         0.         0.        ]\n",
            " [0.         0.         0.         0.62352941 0.99607843 0.2627451  0.         0.         0.         0.         0.         0.         0.         0.         0.         0.05490196 0.3372549\n",
            "  0.69803922 0.97254902 0.99607843 0.35686275 0.         0.         0.         0.         0.         0.         0.        ]\n",
            " [0.         0.         0.         0.62352941 0.99607843 0.33333333 0.         0.         0.         0.18431373 0.19215686 0.45490196 0.56470588 0.58823529 0.94509804 0.95294118 0.91764706\n",
            "  0.70196078 0.94509804 0.98823529 0.15686275 0.         0.         0.         0.         0.         0.         0.        ]\n",
            " [0.         0.         0.         0.58823529 0.99215686 0.92941176 0.81176471 0.81176471 0.81176471 0.99215686 0.99607843 0.98039216 0.94117647 0.77647059 0.56078431 0.35686275 0.10980392\n",
            "  0.01960784 0.91372549 0.98039216 0.         0.         0.         0.         0.         0.         0.         0.        ]\n",
            " [0.         0.         0.         0.         0.46666667 0.69411765 0.69411765 0.69411765 0.69411765 0.69411765 0.38431373 0.21960784 0.         0.         0.         0.         0.\n",
            "  0.4        0.99607843 0.8627451  0.         0.         0.         0.         0.         0.         0.         0.        ]\n",
            " [0.         0.         0.         0.         0.         0.         0.         0.         0.         0.         0.         0.         0.         0.         0.         0.         0.\n",
            "  0.6627451  0.99607843 0.5372549  0.         0.         0.         0.         0.         0.         0.         0.        ]\n",
            " [0.         0.         0.         0.         0.         0.         0.         0.         0.         0.         0.         0.         0.         0.         0.         0.         0.\n",
            "  0.6627451  0.99607843 0.22352941 0.         0.         0.         0.         0.         0.         0.         0.        ]\n",
            " [0.         0.         0.         0.         0.         0.         0.         0.         0.         0.         0.         0.         0.         0.         0.         0.         0.\n",
            "  0.6627451  0.99607843 0.22352941 0.         0.         0.         0.         0.         0.         0.         0.        ]\n",
            " [0.         0.         0.         0.         0.         0.         0.         0.         0.         0.         0.         0.         0.         0.         0.         0.         0.\n",
            "  0.6627451  1.         0.36862745 0.         0.         0.         0.         0.         0.         0.         0.        ]\n",
            " [0.         0.         0.         0.         0.         0.         0.         0.         0.         0.         0.         0.         0.         0.         0.         0.         0.\n",
            "  0.6627451  0.99607843 0.37647059 0.         0.         0.         0.         0.         0.         0.         0.        ]\n",
            " [0.         0.         0.         0.         0.         0.         0.         0.         0.         0.         0.         0.         0.         0.         0.         0.         0.\n",
            "  0.6627451  0.99607843 0.6        0.         0.         0.         0.         0.         0.         0.         0.        ]\n",
            " [0.         0.         0.         0.         0.         0.         0.         0.         0.         0.         0.         0.         0.         0.         0.         0.         0.\n",
            "  0.6627451  1.         0.6        0.         0.         0.         0.         0.         0.         0.         0.        ]\n",
            " [0.         0.         0.         0.         0.         0.         0.         0.         0.         0.         0.         0.         0.         0.         0.         0.         0.\n",
            "  0.37647059 0.99607843 0.6        0.         0.         0.         0.         0.         0.         0.         0.        ]\n",
            " [0.         0.         0.         0.         0.         0.         0.         0.         0.         0.         0.         0.         0.         0.         0.         0.         0.\n",
            "  0.         0.         0.         0.         0.         0.         0.         0.         0.         0.         0.        ]\n",
            " [0.         0.         0.         0.         0.         0.         0.         0.         0.         0.         0.         0.         0.         0.         0.         0.         0.\n",
            "  0.         0.         0.         0.         0.         0.         0.         0.         0.         0.         0.        ]\n",
            " [0.         0.         0.         0.         0.         0.         0.         0.         0.         0.         0.         0.         0.         0.         0.         0.         0.\n",
            "  0.         0.         0.         0.         0.         0.         0.         0.         0.         0.         0.        ]]\n"
          ]
        }
      ],
      "source": [
        "print(training_images[2])"
      ]
    },
    {
      "cell_type": "code",
      "execution_count": null,
      "metadata": {
        "id": "TbxuCDhg-djD",
        "outputId": "94bd86e3-7740-4ab4-bed9-d176a6860df3",
        "colab": {
          "base_uri": "https://localhost:8080/"
        }
      },
      "outputs": [
        {
          "output_type": "execute_result",
          "data": {
            "text/plain": [
              "255"
            ]
          },
          "metadata": {},
          "execution_count": 21
        }
      ],
      "source": [
        "training_images.max()"
      ]
    },
    {
      "cell_type": "code",
      "execution_count": null,
      "metadata": {
        "id": "W8aRT6RL8fIG",
        "outputId": "efe466c5-5fcb-4262-d459-900ebd8bf21f",
        "colab": {
          "base_uri": "https://localhost:8080/",
          "height": 430
        }
      },
      "outputs": [
        {
          "output_type": "display_data",
          "data": {
            "text/plain": [
              "<Figure size 640x480 with 1 Axes>"
            ],
            "image/png": "[encoded data removed]"
          },
          "metadata": {}
        }
      ],
      "source": [
        "plt.imshow(training_images[2]);"
      ]
    },
    {
      "cell_type": "markdown",
      "metadata": {
        "id": "pYMsyOk8-xnf"
      },
      "source": [
        "## Define and Compile Model"
      ]
    },
    {
      "cell_type": "code",
      "execution_count": null,
      "metadata": {
        "id": "dEdoqWl28dB3",
        "outputId": "ac90b8e1-57b6-495f-d02a-6815c23bd803",
        "colab": {
          "base_uri": "https://localhost:8080/"
        }
      },
      "outputs": [
        {
          "output_type": "stream",
          "name": "stdout",
          "text": [
            "Model: \"sequential\"\n",
            "_________________________________________________________________\n",
            " Layer (type)                Output Shape              Param #   \n",
            "=================================================================\n",
            " flatten (Flatten)           (None, 784)               0         \n",
            "                                                                 \n",
            " dense (Dense)               (None, 20)                15700     \n",
            "                                                                 \n",
            " dense_1 (Dense)             (None, 10)                210       \n",
            "                                                                 \n",
            "=================================================================\n",
            "Total params: 15,910\n",
            "Trainable params: 15,910\n",
            "Non-trainable params: 0\n",
            "_________________________________________________________________\n"
          ]
        }
      ],
      "source": [
        "model = tf.keras.models.Sequential([tf.keras.layers.Flatten(input_shape=(28,28)), # flatten converte 28x28 em 1x784\n",
        "                                    tf.keras.layers.Dense(20, activation=tf.nn.relu), # relu = applies non-linearity into the model\n",
        "                                    tf.keras.layers.Dense(10, activation=tf.nn.softmax)]) # função de ativação = softmax \n",
        "                                    # softmax pondera de forma que, independente do número de classes, a soma dos valores de saída seja =1\n",
        "                                    # ou seja, uma saída de probabilidades\n",
        "model.summary()"
      ]
    },
    {
      "cell_type": "code",
      "execution_count": null,
      "metadata": {
        "id": "NA21O9Y0_BJ7"
      },
      "outputs": [],
      "source": [
        "model.compile(\n",
        "    optimizer='adam',\n",
        "    loss='sparse_categorical_crossentropy', # Labels are presented as numeric [0,5,...] and not as an array \n",
        "    metrics=['accuracy'] # Calculates how often predictions equal labels\n",
        "    )\n",
        "\n",
        "# Em classificação, não faz sentido usar MSE, pois temos que comparar classes\n",
        "# Usamos, em classificação, crossentropy ou sparse crossentropy"
      ]
    },
    {
      "cell_type": "markdown",
      "metadata": {
        "id": "pJZ4fvT3_yd7"
      },
      "source": [
        "## Train the model"
      ]
    },
    {
      "cell_type": "code",
      "execution_count": null,
      "metadata": {
        "id": "RxklrX_R_uvn",
        "outputId": "a34394f0-89ef-4b77-ffba-37c368233c3c",
        "colab": {
          "base_uri": "https://localhost:8080/"
        }
      },
      "outputs": [
        {
          "output_type": "stream",
          "name": "stdout",
          "text": [
            "Epoch 1/20\n",
            "1875/1875 [==============================] - 10s 2ms/step - loss: 2.3596 - accuracy: 0.3779\n",
            "Epoch 2/20\n",
            "1875/1875 [==============================] - 5s 2ms/step - loss: 1.2231 - accuracy: 0.5562\n",
            "Epoch 3/20\n",
            "1875/1875 [==============================] - 5s 3ms/step - loss: 1.0152 - accuracy: 0.6267\n",
            "Epoch 4/20\n",
            "1875/1875 [==============================] - 5s 2ms/step - loss: 0.8213 - accuracy: 0.7121\n",
            "Epoch 5/20\n",
            "1875/1875 [==============================] - 5s 3ms/step - loss: 0.6582 - accuracy: 0.7787\n",
            "Epoch 6/20\n",
            "1875/1875 [==============================] - 4s 2ms/step - loss: 0.5797 - accuracy: 0.8013\n",
            "Epoch 7/20\n",
            "1875/1875 [==============================] - 4s 2ms/step - loss: 0.5516 - accuracy: 0.8077\n",
            "Epoch 8/20\n",
            "1875/1875 [==============================] - 5s 3ms/step - loss: 0.5110 - accuracy: 0.8210\n",
            "Epoch 9/20\n",
            "1875/1875 [==============================] - 5s 2ms/step - loss: 0.4852 - accuracy: 0.8485\n",
            "Epoch 10/20\n",
            "1875/1875 [==============================] - 5s 3ms/step - loss: 0.4556 - accuracy: 0.8717\n",
            "Epoch 11/20\n",
            "1875/1875 [==============================] - 4s 2ms/step - loss: 0.4319 - accuracy: 0.8796\n",
            "Epoch 12/20\n",
            "1875/1875 [==============================] - 4s 2ms/step - loss: 0.4091 - accuracy: 0.8863\n",
            "Epoch 13/20\n",
            "1875/1875 [==============================] - 5s 3ms/step - loss: 0.3993 - accuracy: 0.8921\n",
            "Epoch 14/20\n",
            "1875/1875 [==============================] - 5s 3ms/step - loss: 0.3911 - accuracy: 0.8954\n",
            "Epoch 15/20\n",
            "1875/1875 [==============================] - 5s 3ms/step - loss: 0.3853 - accuracy: 0.8974\n",
            "Epoch 16/20\n",
            "1875/1875 [==============================] - 6s 3ms/step - loss: 0.3764 - accuracy: 0.8993\n",
            "Epoch 17/20\n",
            "1875/1875 [==============================] - 8s 4ms/step - loss: 0.3704 - accuracy: 0.9026\n",
            "Epoch 18/20\n",
            "1875/1875 [==============================] - 4s 2ms/step - loss: 0.3670 - accuracy: 0.9029\n",
            "Epoch 19/20\n",
            "1875/1875 [==============================] - 5s 3ms/step - loss: 0.3638 - accuracy: 0.9023\n",
            "Epoch 20/20\n",
            "1875/1875 [==============================] - 5s 3ms/step - loss: 0.3661 - accuracy: 0.9037\n",
            "CPU times: user 1min 48s, sys: 8.78 s, total: 1min 56s\n",
            "Wall time: 2min 22s\n"
          ]
        }
      ],
      "source": [
        "%%time\n",
        "# diz quanto tempo levou para executar essa célula\n",
        "history = model.fit(\n",
        "    training_images, \n",
        "    training_labels, \n",
        "    epochs=20, \n",
        "    )"
      ]
    },
    {
      "cell_type": "markdown",
      "metadata": {
        "id": "0xAXSo5-HCIo"
      },
      "source": [
        "Inspecting the model"
      ]
    },
    {
      "cell_type": "code",
      "execution_count": null,
      "metadata": {
        "id": "ChxfmUKr8xrA",
        "outputId": "16388bfa-72c0-49d6-9011-79c34d011838",
        "colab": {
          "base_uri": "https://localhost:8080/"
        }
      },
      "outputs": [
        {
          "output_type": "stream",
          "name": "stdout",
          "text": [
            "1875/1875 [==============================] - 4s 2ms/step - loss: 0.3440 - accuracy: 0.9075\n",
            "Training data Accuracy: 90.7%\n"
          ]
        }
      ],
      "source": [
        "# Accuracy com dados de treino\n",
        "train_eval = model.evaluate(training_images, training_labels)\n",
        "print (\"Training data Accuracy: {:.1f}%\".format(train_eval[1]*100))"
      ]
    },
    {
      "cell_type": "code",
      "execution_count": null,
      "metadata": {
        "id": "g6qHpwg8BpZi",
        "outputId": "df40bdb3-eb86-462c-d19f-5e5ada724045",
        "colab": {
          "base_uri": "https://localhost:8080/",
          "height": 472
        }
      },
      "outputs": [
        {
          "output_type": "display_data",
          "data": {
            "text/plain": [
              "<Figure size 640x480 with 1 Axes>"
            ],
            "image/png": "[encoded data removed]"
          },
          "metadata": {}
        }
      ],
      "source": [
        "plt.plot(history.history['loss'])\n",
        "plt.title('model loss')\n",
        "plt.ylabel('loss')\n",
        "plt.xlabel('epoch')\n",
        "plt.legend(['train'], loc='upper right')\n",
        "plt.show()"
      ]
    },
    {
      "cell_type": "code",
      "execution_count": null,
      "metadata": {
        "id": "yRvANX7cHU2n",
        "outputId": "eee1a799-a3f6-4edf-d21f-3789ceb77881",
        "colab": {
          "base_uri": "https://localhost:8080/",
          "height": 472
        }
      },
      "outputs": [
        {
          "output_type": "display_data",
          "data": {
            "text/plain": [
              "<Figure size 640x480 with 1 Axes>"
            ],
            "image/png": "[encoded data removed]"
          },
          "metadata": {}
        }
      ],
      "source": [
        "# Gráfico da acurácia\n",
        "plt.plot(history.history['accuracy'])\n",
        "plt.title('model accuracy')\n",
        "plt.ylabel('accuracy')\n",
        "plt.xlabel('epoch')\n",
        "plt.legend(['accuraccy'], loc='upper left')\n",
        "plt.show()\n",
        "# Nota-se que tende a um valor alto, poderia até mesmo ser o caso de aumentar o número de épocas"
      ]
    },
    {
      "cell_type": "markdown",
      "metadata": {
        "id": "JYHTdEJVH0tZ"
      },
      "source": [
        "## Testing the trained model\n",
        "\n",
        "Using `model.evaluate`, you can get metrics for a test set. In this case we only have a training set and a validation set, so we can try it out with the validation set. The accuracy will be slightly lower, at maybe 96%. This is because the model hasn't previously seen this data and may not be fully generalized for all data. Still it's a pretty good score.\n",
        "You can also predict images, and compare against their actual label. The [0] image in the set is a number 7, and here you can see that neuron 7 has a 9.9e-1 (99%+) probability, so it got it right!"
      ]
    },
    {
      "cell_type": "code",
      "execution_count": null,
      "metadata": {
        "id": "QBuJGqbSH6xT",
        "outputId": "ebd1db51-cb10-4629-eb51-a57cda9cb98a",
        "colab": {
          "base_uri": "https://localhost:8080/"
        }
      },
      "outputs": [
        {
          "output_type": "stream",
          "name": "stdout",
          "text": [
            "313/313 [==============================] - 1s 2ms/step - loss: 0.3803 - accuracy: 0.9028\n",
            "Testing data Accuracy: 90.3%\n"
          ]
        }
      ],
      "source": [
        "# A acurácia cai um pouco para dados de teste, o que é normal \n",
        "test_eval = model.evaluate(val_images, val_labels)\n",
        "print (\"Testing data Accuracy: {:.1f}%\".format(test_eval[1]*100))"
      ]
    },
    {
      "cell_type": "code",
      "execution_count": null,
      "metadata": {
        "id": "rvNEv5BPIwPE",
        "outputId": "c7b3c48e-cc49-449a-f2e7-0fa59d494a23",
        "colab": {
          "base_uri": "https://localhost:8080/",
          "height": 430
        }
      },
      "outputs": [
        {
          "output_type": "display_data",
          "data": {
            "text/plain": [
              "<Figure size 640x480 with 1 Axes>"
            ],
            "image/png": "[encoded data removed]"
          },
          "metadata": {}
        }
      ],
      "source": [
        "plt.imshow(val_images[0]);"
      ]
    },
    {
      "cell_type": "code",
      "execution_count": null,
      "metadata": {
        "id": "ysGu1V_PJ28-",
        "outputId": "b2dd7247-47d0-499e-9cd0-3bd0e4293a4f",
        "colab": {
          "base_uri": "https://localhost:8080/"
        }
      },
      "outputs": [
        {
          "output_type": "stream",
          "name": "stdout",
          "text": [
            "7\n"
          ]
        }
      ],
      "source": [
        "print(val_labels[0])"
      ]
    },
    {
      "cell_type": "code",
      "execution_count": null,
      "metadata": {
        "id": "tkaTLMaTIbIL",
        "outputId": "c4beb1e1-b883-4c27-d0cb-3739923b5c15",
        "colab": {
          "base_uri": "https://localhost:8080/"
        }
      },
      "outputs": [
        {
          "output_type": "stream",
          "name": "stdout",
          "text": [
            "313/313 [==============================] - 1s 1ms/step\n"
          ]
        },
        {
          "output_type": "execute_result",
          "data": {
            "text/plain": [
              "(10000, 10)"
            ]
          },
          "metadata": {},
          "execution_count": 32
        }
      ],
      "source": [
        "classifications = model.predict(val_images)\n",
        "classifications.shape"
      ]
    },
    {
      "cell_type": "code",
      "source": [
        "classifications[0]"
      ],
      "metadata": {
        "id": "KnjQSnVurth8",
        "outputId": "edcac079-8ec8-4ffb-8c2c-718a1a582590",
        "colab": {
          "base_uri": "https://localhost:8080/"
        }
      },
      "execution_count": null,
      "outputs": [
        {
          "output_type": "execute_result",
          "data": {
            "text/plain": [
              "array([6.7438779e-13, 3.7378931e-10, 6.9930818e-04, 4.0608319e-04, 2.6703876e-07, 3.5993377e-08, 2.5871912e-15, 9.9889427e-01, 1.9590903e-10, 2.9544780e-12], dtype=float32)"
            ]
          },
          "metadata": {},
          "execution_count": 44
        }
      ]
    },
    {
      "cell_type": "code",
      "execution_count": null,
      "metadata": {
        "id": "yjenS2EZJH6h",
        "outputId": "656c9a57-85b5-416e-d159-ec1f369973f0",
        "colab": {
          "base_uri": "https://localhost:8080/"
        }
      },
      "outputs": [
        {
          "output_type": "execute_result",
          "data": {
            "text/plain": [
              "7"
            ]
          },
          "metadata": {},
          "execution_count": 45
        }
      ],
      "source": [
        "# Returns the indices of the maximum values along an axis.\n",
        "np.argmax(classifications[0])"
      ]
    },
    {
      "cell_type": "markdown",
      "metadata": {
        "id": "wT3DM9IRjy6J"
      },
      "source": [
        "## Inspecting Errors"
      ]
    },
    {
      "cell_type": "code",
      "execution_count": null,
      "metadata": {
        "id": "ZNzmTmJmATNQ",
        "outputId": "1800b714-7888-4571-f894-8f4f751c2def",
        "colab": {
          "base_uri": "https://localhost:8080/"
        }
      },
      "outputs": [
        {
          "output_type": "stream",
          "name": "stdout",
          "text": [
            "0.8963\n"
          ]
        }
      ],
      "source": [
        "# Armazena em predict_erros os casos em que o modelo errou\n",
        "predict_errors = []\n",
        "for i in range(len(val_labels)):\n",
        "  predicted_label = np.argmax(classifications[i])\n",
        "  if predicted_label != val_labels[i]:\n",
        "    predict_errors.append(i)\n",
        "\n",
        "print(1-(len(predict_errors)/len(val_labels)))"
      ]
    },
    {
      "cell_type": "code",
      "execution_count": null,
      "metadata": {
        "id": "Sq2oMvHyFLH_",
        "outputId": "98b38e34-160b-44ff-f48f-1ec2a5f51b76",
        "colab": {
          "base_uri": "https://localhost:8080/"
        }
      },
      "outputs": [
        {
          "output_type": "execute_result",
          "data": {
            "text/plain": [
              "[8, 18, 33, 38, 59, 63, 64, 65, 66, 78]"
            ]
          },
          "metadata": {},
          "execution_count": 36
        }
      ],
      "source": [
        "predict_errors[:10]"
      ]
    },
    {
      "cell_type": "code",
      "execution_count": null,
      "metadata": {
        "id": "K6eEPtN5AdCX",
        "outputId": "c0923f2c-9abf-4b94-d8a2-91b12f53e2a9",
        "colab": {
          "base_uri": "https://localhost:8080/",
          "height": 466
        }
      },
      "outputs": [
        {
          "output_type": "stream",
          "name": "stdout",
          "text": [
            "    Real label of image 8 is: 5\n",
            " Predict label of image 8 is: 6\n"
          ]
        },
        {
          "output_type": "display_data",
          "data": {
            "text/plain": [
              "<Figure size 640x480 with 1 Axes>"
            ],
            "image/png": "[encoded data removed]"
          },
          "metadata": {}
        }
      ],
      "source": [
        "i = predict_errors[0]\n",
        "predicted_label = np.argmax(classifications[i])\n",
        "print(\"    Real label of image {} is: {}\".format(i, val_labels[i]))\n",
        "print(\" Predict label of image {} is: {}\".format(i, predicted_label))\n",
        "plt.imshow(val_images[i]);"
      ]
    },
    {
      "cell_type": "markdown",
      "metadata": {
        "id": "N_D_yEaAKHlr"
      },
      "source": [
        "## Modify to inspect learned values\n",
        "\n",
        "This code is identical, except that the layers are named prior to adding to the sequential. This allows us to inspect their learned parameters later."
      ]
    },
    {
      "cell_type": "code",
      "execution_count": null,
      "metadata": {
        "id": "DCwgerwjKaLz",
        "outputId": "1e9d5866-f637-4fc6-f66d-761b8716d738",
        "colab": {
          "base_uri": "https://localhost:8080/"
        }
      },
      "outputs": [
        {
          "output_type": "stream",
          "name": "stdout",
          "text": [
            "313/313 [==============================] - 1s 2ms/step - loss: 0.4226 - accuracy: 0.8963\n",
            "Testing data Accuracy: 89.6%\n"
          ]
        }
      ],
      "source": [
        "# Nomeia as camadas antes de adicioná-las ao keras.model.Sequential\n",
        "layer_1 = tf.keras.layers.Dense(20, activation=tf.nn.relu)\n",
        "layer_2 = tf.keras.layers.Dense(10, activation=tf.nn.softmax)\n",
        "\n",
        "model = tf.keras.models.Sequential([tf.keras.layers.Flatten(input_shape=(28,28)),\n",
        "                                    layer_1,\n",
        "                                    layer_2])\n",
        "\n",
        "model.compile(optimizer='adam',\n",
        "              loss='sparse_categorical_crossentropy',\n",
        "              metrics=['accuracy'])\n",
        "\n",
        "model.fit(training_images, \n",
        "          training_labels, \n",
        "          epochs=20,\n",
        "          verbose=0\n",
        "          )\n",
        "\n",
        "test_eval = model.evaluate(val_images, val_labels)\n",
        "print (\"Testing data Accuracy: {:.1f}%\".format(test_eval[1]*100))"
      ]
    },
    {
      "cell_type": "code",
      "execution_count": null,
      "metadata": {
        "id": "oNUJdZ6gKwf0",
        "outputId": "9c73867b-7eb8-483f-b634-0f0363dbd666",
        "colab": {
          "base_uri": "https://localhost:8080/"
        }
      },
      "outputs": [
        {
          "output_type": "stream",
          "name": "stdout",
          "text": [
            "313/313 [==============================] - 0s 1ms/step\n",
            "[6.7438779e-13 3.7378931e-10 6.9930818e-04 4.0608319e-04 2.6703876e-07 3.5993377e-08 2.5871912e-15 9.9889427e-01 1.9590903e-10 2.9544780e-12]\n",
            "7\n",
            "7\n"
          ]
        }
      ],
      "source": [
        "classifications = model.predict(val_images)\n",
        "print(classifications[0])\n",
        "print(np.argmax(classifications[0]))\n",
        "print(val_labels[0])"
      ]
    },
    {
      "cell_type": "markdown",
      "metadata": {
        "id": "Kr4qEvowLSai"
      },
      "source": [
        "Inspect Layer 1"
      ]
    },
    {
      "cell_type": "code",
      "execution_count": null,
      "metadata": {
        "id": "2qbgKY71Latz",
        "outputId": "a2e7e35c-e4cd-4dfa-846e-edbcedd49e1d",
        "colab": {
          "base_uri": "https://localhost:8080/"
        }
      },
      "outputs": [
        {
          "output_type": "stream",
          "name": "stdout",
          "text": [
            "Layer 1 Ws ==> 15680\n",
            "Layer 1 bs ==> 20\n"
          ]
        }
      ],
      "source": [
        "print(\"Layer 1 Ws ==>\", layer_1.get_weights()[0].size)\n",
        "print(\"Layer 1 bs ==>\", layer_1.get_weights()[1].size)"
      ]
    },
    {
      "cell_type": "markdown",
      "metadata": {
        "id": "0IOf5K5_LqLw"
      },
      "source": [
        "The `get_weights()[0]` contains the weights (Ws). Why we have 15,680 w's on layer 1? Recall that there are 20 neurons in the first layer and, that the images are 28x28 pixels, which is 784. So, if you multiply 784 x 20 you get 15,680.\n",
        "\n",
        "This layer has 20 neurons, and each neuron learns a W parameter for each pixel. So instead of y=Mx+c, we have \n",
        "y=M1X1+M2X2+M3X3+....+M784X784+C in every neuron! Every pixel has a weight in every neuron. Those weights are multiplied by the pixel value, summed up, and given a bias.\n",
        "\n",
        "The `get_weights()[1]` contains the biases (bs), one for each of the 20 neurons in this layer.\n"
      ]
    },
    {
      "cell_type": "markdown",
      "metadata": {
        "id": "AtzjbvbeNxts"
      },
      "source": [
        "Inspect Layer 2"
      ]
    },
    {
      "cell_type": "code",
      "execution_count": null,
      "metadata": {
        "id": "_FCiM_CEOPep",
        "outputId": "8e9cf119-4355-4d3b-d2ce-2e7c1cbb08ca",
        "colab": {
          "base_uri": "https://localhost:8080/"
        }
      },
      "outputs": [
        {
          "output_type": "stream",
          "name": "stdout",
          "text": [
            "Layer 2 Ws ==> 200\n",
            "Layer 2 bs ==> 10\n"
          ]
        }
      ],
      "source": [
        "print(\"Layer 2 Ws ==>\", layer_2.get_weights()[0].size)\n",
        "print(\"Layer 2 bs ==>\", layer_2.get_weights()[1].size)"
      ]
    },
    {
      "cell_type": "markdown",
      "metadata": {
        "id": "YbvQq_3vOlVf"
      },
      "source": [
        "Layer 2 has 200 Ws. This is because are 10 neurons in this layer, but there are 20 neurons in the previous layer. So, each neuron in this layer will learn a weight for the incoming value from the previous layer. So, for example, the if the first neuron in this layer is N21, and the neurons output from the previous layers are N11-N120, then this neuron will have 20 weights (W1-W20) and it will calculate its output to be:\n",
        "\n",
        "`W1N11+W2N12+W3N13+...+W20N120+Bias`\n",
        "\n",
        "So each of these weights will be learned as will the bias, for every neuron.\n",
        "\n",
        "Note that N11 refers to Layer 1 Neuron 1."
      ]
    },
    {
      "cell_type": "markdown",
      "metadata": {
        "id": "dnPuvtrWPJ0f"
      },
      "source": [
        "...and as expected there are 10 elements in the second array, representing the 10 biases for the 10 neurons.\n",
        "Hopefully this helps you see how the element of a simple neuron containing y=mx+c can be expanded greatly into a deep neural network, and that DNN can learn the parameters that match the 784 pixels of an image to their output!"
      ]
    }
  ],
  "metadata": {
    "accelerator": "GPU",
    "colab": {
      "name": "TF_MNIST_Classification.ipynb",
      "provenance": [],
      "include_colab_link": true
    },
    "kernelspec": {
      "display_name": "Python 3 (ipykernel)",
      "language": "python",
      "name": "python3"
    },
    "language_info": {
      "codemirror_mode": {
        "name": "ipython",
        "version": 3
      },
      "file_extension": ".py",
      "mimetype": "text/x-python",
      "name": "python",
      "nbconvert_exporter": "python",
      "pygments_lexer": "ipython3",
      "version": "3.9.7"
    }
  },
  "nbformat": 4,
  "nbformat_minor": 0
}
