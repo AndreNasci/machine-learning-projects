{
  "nbformat": 4,
  "nbformat_minor": 0,
  "metadata": {
    "colab": {
      "provenance": [],
      "gpuType": "T4",
      "include_colab_link": true
    },
    "kernelspec": {
      "name": "python3",
      "display_name": "Python 3"
    },
    "language_info": {
      "name": "python"
    },
    "accelerator": "GPU",
    "gpuClass": "standard"
  },
  "cells": [
    {
      "cell_type": "markdown",
      "metadata": {
        "id": "view-in-github",
        "colab_type": "text"
      },
      "source": [
        "<a href=\"https://colab.research.google.com/github/AndreNasci/ECO904/blob/main/07_(Em_Sala)_Intro_DL.ipynb\" target=\"_parent\"><img src=\"https://colab.research.google.com/assets/colab-badge.svg\" alt=\"Open In Colab\"/></a>"
      ]
    },
    {
      "cell_type": "markdown",
      "source": [
        "# Introdução ao Aprendizado Profundo"
      ],
      "metadata": {
        "id": "gUAGDzj5rx5u"
      }
    },
    {
      "cell_type": "markdown",
      "source": [
        "Imagens geradas por IA:\n",
        "\n",
        "<img src=\"https://t.ctcdn.com.br/BfbrGpmHER4KkagiccfsUO7a5ho=/720x405/smart/filters:format(webp)/i713984.jpeg\" />\n",
        "\n",
        "<img src=\"https://s2.glbimg.com/3WMP7E3cAurQulIDkCUEtPL3I_c=/0x0:1024x1024/984x0/smart/filters:strip_icc()/i.s3.glbimg.com/v1/AUTH_59edd422c0c84a879bd37670ae4f538a/internal_photos/bs/2023/Z/K/rLjLsBTX2slgMPgXqFqw/frswiwrxwaai6qq.jpeg\" width=\"600px\" />\n",
        "\n",
        "\n",
        "[Linux by Balenciaga](https://youtu.be/zpVD24fBI7g)\n",
        "\n",
        "Vídeo Gerado por IA:\n",
        "\n",
        "[Propaganda de Pizzaria](https://9gag.com/photo/aYVD8Wx_460sv.mp4)\n",
        "\n",
        "[Trump Goes Fishing, Catches an Octopus and Cooks It](https://youtu.be/h0UUhUZ7mkE)\n"
      ],
      "metadata": {
        "id": "-KCaUVSsJU20"
      }
    },
    {
      "cell_type": "markdown",
      "source": [
        "Ativar no menu do Colab:\n",
        "- Ambiente de execução\n",
        "  - Alterar tipo de ambiente de execução\n",
        "    - Uso de GPU ou TPU"
      ],
      "metadata": {
        "id": "e9W512YMl8Bv"
      }
    },
    {
      "cell_type": "markdown",
      "source": [
        "**Exemplos Keras: **\n",
        "\n",
        "https://keras.io/examples/vision/"
      ],
      "metadata": {
        "id": "lV8pSQSxmTMv"
      }
    },
    {
      "cell_type": "markdown",
      "source": [
        "# Classificador MNIST com Aprendizado Profundo"
      ],
      "metadata": {
        "id": "CmaVKY2MVOz_"
      }
    },
    {
      "cell_type": "code",
      "source": [
        "import tensorflow as tf\n",
        "print(\"TensorFlow version:\", tf.__version__)"
      ],
      "metadata": {
        "colab": {
          "base_uri": "https://localhost:8080/"
        },
        "id": "APRS6f3ru1rG",
        "outputId": "2eb325c3-e8fb-4f4c-de64-7a09cb4f7eea"
      },
      "execution_count": null,
      "outputs": [
        {
          "output_type": "stream",
          "name": "stdout",
          "text": [
            "TensorFlow version: 2.12.0\n"
          ]
        }
      ]
    },
    {
      "cell_type": "markdown",
      "source": [
        "## Base de Dados"
      ],
      "metadata": {
        "id": "6-sJtH6cvb0N"
      }
    },
    {
      "cell_type": "code",
      "source": [
        "# Tipos de camadas importadas do keras\n",
        "from tensorflow.keras.layers import Dense, Flatten, Conv2D\n",
        "from tensorflow.keras import Model\n",
        "\n",
        "# Importando dataset\n",
        "mnist = tf.keras.datasets.mnist\n",
        "\n",
        "# Separando dados de treino e de teste\n",
        "(x_train, y_train), (x_test, y_test) = mnist.load_data()\n",
        "x_train, x_test = x_train / 255.0, x_test / 255.0 # normalização\n",
        "\n",
        "# Inserindo dimensão adicional\n",
        "x_train = x_train[..., tf.newaxis].astype(\"float32\")\n",
        "x_test = x_test[..., tf.newaxis].astype(\"float32\")\n",
        "\n",
        "#agrupar e embaralhar o conjunto de dados\n",
        "train_ds = tf.data.Dataset.from_tensor_slices((x_train, y_train)).shuffle(10000).batch(32)\n",
        "test_ds = tf.data.Dataset.from_tensor_slices((x_test, y_test)).batch(32)"
      ],
      "metadata": {
        "id": "P_i8YC7HvdrW"
      },
      "execution_count": null,
      "outputs": []
    },
    {
      "cell_type": "code",
      "source": [
        "(x_train, y_train), (x_test, y_test) = mnist.load_data()\n",
        "x_train.shape, x_test.shape"
      ],
      "metadata": {
        "colab": {
          "base_uri": "https://localhost:8080/"
        },
        "id": "7Mbc41KqybYZ",
        "outputId": "5f10f1cc-c44d-40bd-ccdf-831e97e9dd1a"
      },
      "execution_count": null,
      "outputs": [
        {
          "output_type": "execute_result",
          "data": {
            "text/plain": [
              "((60000, 28, 28), (10000, 28, 28))"
            ]
          },
          "metadata": {},
          "execution_count": 3
        }
      ]
    },
    {
      "cell_type": "markdown",
      "source": [
        "## Modelo da Rede Profunda"
      ],
      "metadata": {
        "id": "MwO2vWoFwVX2"
      }
    },
    {
      "cell_type": "code",
      "source": [
        "# classe MyModel é filha de Model, importada do tf\n",
        "class MyModel(Model):\n",
        "  def __init__(self):\n",
        "    super(MyModel, self).__init__()\n",
        "\n",
        "    self.conv1 = Conv2D(32, 3, activation='relu')\n",
        "    self.flatten = Flatten()\n",
        "    self.d1 = Dense(128, activation='relu')\n",
        "    self.d2 = Dense(10)\n",
        "\n",
        "  def call(self, x):\n",
        "    x = self.conv1(x)\n",
        "    x = self.flatten(x)\n",
        "    x = self.d1(x)\n",
        "    return self.d2(x)\n",
        "\n",
        "# Create an instance of the model\n",
        "model = MyModel()"
      ],
      "metadata": {
        "id": "8onyEeTwwxDV"
      },
      "execution_count": null,
      "outputs": []
    },
    {
      "cell_type": "code",
      "source": [
        "model.__dict__"
      ],
      "metadata": {
        "id": "vslDFSuT4EVT"
      },
      "execution_count": null,
      "outputs": []
    },
    {
      "cell_type": "code",
      "source": [
        "from tensorflow.keras import Sequential\n",
        "\n",
        "x = Sequential([\n",
        "    Conv2D(32, 3, activation='relu'),\n",
        "    Flatten(),\n",
        "    Dense(128, activation='relu'),\n",
        "    Dense(10)\n",
        "])\n",
        "x.build((32,28,28,1))\n",
        "x.summary()"
      ],
      "metadata": {
        "colab": {
          "base_uri": "https://localhost:8080/"
        },
        "id": "E7bncnutAeoL",
        "outputId": "65ab3883-cb33-41a9-fa9f-6c318def2fd4"
      },
      "execution_count": null,
      "outputs": [
        {
          "output_type": "stream",
          "name": "stdout",
          "text": [
            "Model: \"sequential\"\n",
            "_________________________________________________________________\n",
            " Layer (type)                Output Shape              Param #   \n",
            "=================================================================\n",
            " conv2d_1 (Conv2D)           (32, 26, 26, 32)          320       \n",
            "                                                                 \n",
            " flatten_1 (Flatten)         (32, 21632)               0         \n",
            "                                                                 \n",
            " dense_2 (Dense)             (32, 128)                 2769024   \n",
            "                                                                 \n",
            " dense_3 (Dense)             (32, 10)                  1290      \n",
            "                                                                 \n",
            "=================================================================\n",
            "Total params: 2,770,634\n",
            "Trainable params: 2,770,634\n",
            "Non-trainable params: 0\n",
            "_________________________________________________________________\n"
          ]
        }
      ]
    },
    {
      "cell_type": "markdown",
      "source": [
        "## Treinamento"
      ],
      "metadata": {
        "id": "xIc6RPRqx78N"
      }
    },
    {
      "cell_type": "markdown",
      "source": [
        "### Otimizador de Treinamento"
      ],
      "metadata": {
        "id": "QSyNdzcdxlE6"
      }
    },
    {
      "cell_type": "code",
      "source": [
        "loss_object = tf.keras.losses.SparseCategoricalCrossentropy(from_logits=True)\n",
        "optimizer = tf.keras.optimizers.Adam()"
      ],
      "metadata": {
        "id": "Ut8u5nwRxuQ-"
      },
      "execution_count": null,
      "outputs": []
    },
    {
      "cell_type": "markdown",
      "source": [
        "### Métricas de Otimização e Validação"
      ],
      "metadata": {
        "id": "fZYqv9oYxz0G"
      }
    },
    {
      "cell_type": "code",
      "source": [
        "train_loss = tf.keras.metrics.Mean(name='train_loss')\n",
        "train_accuracy = tf.keras.metrics.SparseCategoricalAccuracy(name='train_accuracy')\n",
        "\n",
        "test_loss = tf.keras.metrics.Mean(name='test_loss')\n",
        "test_accuracy = tf.keras.metrics.SparseCategoricalAccuracy(name='test_accuracy')"
      ],
      "metadata": {
        "id": "gTZwOoXCx4ae"
      },
      "execution_count": null,
      "outputs": []
    },
    {
      "cell_type": "markdown",
      "source": [
        "### Passo de Treinamento"
      ],
      "metadata": {
        "id": "fIQQgduZx_ul"
      }
    },
    {
      "cell_type": "code",
      "source": [
        "@tf.function\n",
        "def train_step(images, labels):\n",
        "\n",
        "  with tf.GradientTape() as tape:\n",
        "    # training=True só é necessário se houver camadas com diferentes\n",
        "    # comportamento durante o treinamento versus inferência (por exemplo, Dropout).\n",
        "    predictions = model(images, training=True)\n",
        "    loss = loss_object(labels, predictions)\n",
        "\n",
        "  gradients = tape.gradient(loss, model.trainable_variables)\n",
        "  optimizer.apply_gradients(zip(gradients, model.trainable_variables))\n",
        "\n",
        "  train_loss(loss)\n",
        "  train_accuracy(labels, predictions)"
      ],
      "metadata": {
        "id": "LCl-Jv0DycJA"
      },
      "execution_count": null,
      "outputs": []
    },
    {
      "cell_type": "code",
      "source": [
        "@tf.function\n",
        "def test_step(images, labels):\n",
        "  # training=True só é necessário se houver camadas com diferentes\n",
        "  # comportamento durante o treinamento versus inferência (por exemplo, Dropout).\n",
        "  predictions = model(images, training=False)\n",
        "  t_loss = loss_object(labels, predictions)\n",
        "\n",
        "  test_loss(t_loss)\n",
        "  test_accuracy(labels, predictions)"
      ],
      "metadata": {
        "id": "adyF_7i1yqdN"
      },
      "execution_count": null,
      "outputs": []
    },
    {
      "cell_type": "markdown",
      "source": [
        "### Treinamento"
      ],
      "metadata": {
        "id": "tOgN0pIGy2EW"
      }
    },
    {
      "cell_type": "code",
      "source": [
        "EPOCHS = 5\n",
        "\n",
        "for epoch in range(EPOCHS):\n",
        "  # Reset the metrics at the start of the next epoch\n",
        "  train_loss.reset_states()\n",
        "  train_accuracy.reset_states()\n",
        "  test_loss.reset_states()\n",
        "  test_accuracy.reset_states()\n",
        "\n",
        "  for images, labels in train_ds:\n",
        "    train_step(images, labels)\n",
        "\n",
        "  for test_images, test_labels in test_ds:\n",
        "    test_step(test_images, test_labels)\n",
        "\n",
        "  print(\n",
        "    f'Epoch {epoch + 1}, '\n",
        "    f'Loss: {train_loss.result()}, '\n",
        "    f'Accuracy: {train_accuracy.result() * 100}, '\n",
        "    f'Test Loss: {test_loss.result()}, '\n",
        "    f'Test Accuracy: {test_accuracy.result() * 100}'\n",
        "  )"
      ],
      "metadata": {
        "colab": {
          "base_uri": "https://localhost:8080/"
        },
        "id": "VprvFjkpy5s-",
        "outputId": "dddaf0da-2150-434d-eef8-dcde8ab6f262"
      },
      "execution_count": null,
      "outputs": [
        {
          "output_type": "stream",
          "name": "stdout",
          "text": [
            "Epoch 1, Loss: 0.1308353990316391, Accuracy: 96.10333251953125, Test Loss: 0.0618010088801384, Test Accuracy: 97.87999725341797\n",
            "Epoch 2, Loss: 0.04012171924114227, Accuracy: 98.71666717529297, Test Loss: 0.06081961840391159, Test Accuracy: 98.04000091552734\n",
            "Epoch 3, Loss: 0.019323814660310745, Accuracy: 99.37166595458984, Test Loss: 0.05254754051566124, Test Accuracy: 98.25\n",
            "Epoch 4, Loss: 0.013094739988446236, Accuracy: 99.56999969482422, Test Loss: 0.05982445925474167, Test Accuracy: 98.22999572753906\n",
            "Epoch 5, Loss: 0.007256273180246353, Accuracy: 99.73999786376953, Test Loss: 0.07194215059280396, Test Accuracy: 98.0999984741211\n"
          ]
        }
      ]
    },
    {
      "cell_type": "code",
      "source": [
        "for epoch in range(EPOCHS):\n",
        "  # Reset the metrics at the start of the next epoch\n",
        "  train_loss.reset_states()\n",
        "  train_accuracy.reset_states()\n",
        "  test_loss.reset_states()\n",
        "  test_accuracy.reset_states()\n",
        "\n",
        "  for images, labels in train_ds:\n",
        "    train_step(images, labels)\n",
        "\n",
        "  for test_images, test_labels in test_ds:\n",
        "    test_step(test_images, test_labels)\n",
        "\n",
        "  print(\n",
        "    f'Epoch {epoch + 1}, '\n",
        "    f'Loss: {train_loss.result()}, '\n",
        "    f'Accuracy: {train_accuracy.result() * 100}, '\n",
        "    f'Test Loss: {test_loss.result()}, '\n",
        "    f'Test Accuracy: {test_accuracy.result() * 100}'\n",
        "  )"
      ],
      "metadata": {
        "id": "Yi99evHaCYAn",
        "colab": {
          "base_uri": "https://localhost:8080/"
        },
        "outputId": "b8fae4dc-f937-4270-fd0d-ef433f6355de"
      },
      "execution_count": null,
      "outputs": [
        {
          "output_type": "stream",
          "name": "stdout",
          "text": [
            "Epoch 1, Loss: 0.007321821991354227, Accuracy: 99.74832916259766, Test Loss: 0.07291685789823532, Test Accuracy: 98.27999877929688\n",
            "Epoch 2, Loss: 0.004863716196268797, Accuracy: 99.84333801269531, Test Loss: 0.07163689285516739, Test Accuracy: 98.38999938964844\n",
            "Epoch 3, Loss: 0.004526935517787933, Accuracy: 99.84166717529297, Test Loss: 0.07189249992370605, Test Accuracy: 98.27999877929688\n",
            "Epoch 4, Loss: 0.003991817589849234, Accuracy: 99.86499786376953, Test Loss: 0.06322993338108063, Test Accuracy: 98.5999984741211\n",
            "Epoch 5, Loss: 0.0028089124243706465, Accuracy: 99.90333557128906, Test Loss: 0.09786021709442139, Test Accuracy: 98.13999938964844\n"
          ]
        }
      ]
    },
    {
      "cell_type": "code",
      "source": [
        "model.save('mnist_net.tf',save_format=\"tf\")"
      ],
      "metadata": {
        "id": "zQ5QMkSU99Ax",
        "colab": {
          "base_uri": "https://localhost:8080/"
        },
        "outputId": "dfb6f964-e264-4884-f2dd-105ecdaffe25"
      },
      "execution_count": null,
      "outputs": [
        {
          "output_type": "stream",
          "name": "stderr",
          "text": [
            "WARNING:absl:Found untraced functions such as _jit_compiled_convolution_op while saving (showing 1 of 1). These functions will not be directly callable after loading.\n"
          ]
        }
      ]
    },
    {
      "cell_type": "code",
      "source": [
        "from keras.models import load_model\n",
        "inferidor = load_model('mnist_net.tf')\n",
        "\n",
        "for test_images, test_labels in test_ds :\n",
        "  y_pred = inferidor(test_images)\n",
        "  break\n",
        "\n",
        "y_pred[5]"
      ],
      "metadata": {
        "colab": {
          "base_uri": "https://localhost:8080/"
        },
        "id": "PNYlMvup_COi",
        "outputId": "09c8fd49-4bfc-4e15-b668-f752dca4b528"
      },
      "execution_count": null,
      "outputs": [
        {
          "output_type": "stream",
          "name": "stderr",
          "text": [
            "WARNING:tensorflow:No training configuration found in save file, so the model was *not* compiled. Compile it manually.\n"
          ]
        },
        {
          "output_type": "execute_result",
          "data": {
            "text/plain": [
              "<tf.Tensor: shape=(10,), dtype=float32, numpy=\n",
              "array([-10.516045 ,  17.764292 ,  -5.7312603, -20.873909 ,  -7.633141 ,\n",
              "       -14.290304 ,  -3.9925842,  -3.344146 ,  -6.727666 ,  -9.6704645],\n",
              "      dtype=float32)>"
            ]
          },
          "metadata": {},
          "execution_count": 18
        }
      ]
    },
    {
      "cell_type": "code",
      "source": [
        "y_pred[1]"
      ],
      "metadata": {
        "id": "FemNPF_9B_lA"
      },
      "execution_count": null,
      "outputs": []
    },
    {
      "cell_type": "code",
      "source": [
        "import matplotlib.pyplot as plt\n",
        "\n",
        "fig = plt.figure\n",
        "plt.imshow(test_images[1], cmap='gray')\n",
        "plt.show()"
      ],
      "metadata": {
        "colab": {
          "base_uri": "https://localhost:8080/",
          "height": 430
        },
        "id": "aQNQSOk0ABar",
        "outputId": "2265e0f6-570f-4d3b-e59a-cdb0890e168b"
      },
      "execution_count": null,
      "outputs": [
        {
          "output_type": "display_data",
          "data": {
            "text/plain": [
              "<Figure size 640x480 with 1 Axes>"
            ],
            "image/png": "[encoded data removed]"
          },
          "metadata": {}
        }
      ]
    },
    {
      "cell_type": "markdown",
      "source": [
        "https://www.tensorflow.org/tutorials/keras/text_classification?hl=pt-br"
      ],
      "metadata": {
        "id": "A42-GzLb0d_x"
      }
    }
  ]
}