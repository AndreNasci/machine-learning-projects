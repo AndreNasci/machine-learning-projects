{
  "nbformat": 4,
  "nbformat_minor": 0,
  "metadata": {
    "colab": {
      "provenance": [],
      "include_colab_link": true
    },
    "kernelspec": {
      "name": "python3",
      "display_name": "Python 3"
    },
    "language_info": {
      "name": "python"
    },
    "widgets": {
      "application/vnd.jupyter.widget-state+json": {
        "a32bf9041cb046bc8ca6f30cef3c5a6e": {
          "model_module": "@jupyter-widgets/controls",
          "model_name": "HBoxModel",
          "model_module_version": "1.5.0",
          "state": {
            "_dom_classes": [],
            "_model_module": "@jupyter-widgets/controls",
            "_model_module_version": "1.5.0",
            "_model_name": "HBoxModel",
            "_view_count": null,
            "_view_module": "@jupyter-widgets/controls",
            "_view_module_version": "1.5.0",
            "_view_name": "HBoxView",
            "box_style": "",
            "children": [
              "IPY_MODEL_d5eebb914bfc44b48f9976a27ecb2a27",
              "IPY_MODEL_aa90015885ce437c99eb6d87625eedf7",
              "IPY_MODEL_fad51f902de84cdea1c2f4dd01a48f53"
            ],
            "layout": "IPY_MODEL_71f312ff622e4c90991eb9dcbcc0f89f"
          }
        },
        "d5eebb914bfc44b48f9976a27ecb2a27": {
          "model_module": "@jupyter-widgets/controls",
          "model_name": "HTMLModel",
          "model_module_version": "1.5.0",
          "state": {
            "_dom_classes": [],
            "_model_module": "@jupyter-widgets/controls",
            "_model_module_version": "1.5.0",
            "_model_name": "HTMLModel",
            "_view_count": null,
            "_view_module": "@jupyter-widgets/controls",
            "_view_module_version": "1.5.0",
            "_view_name": "HTMLView",
            "description": "",
            "description_tooltip": null,
            "layout": "IPY_MODEL_365b948e716d45adb70d70ebfc67cdd3",
            "placeholder": "​",
            "style": "IPY_MODEL_a984a4e289b343cf817575c1ae061684",
            "value": "100%"
          }
        },
        "aa90015885ce437c99eb6d87625eedf7": {
          "model_module": "@jupyter-widgets/controls",
          "model_name": "FloatProgressModel",
          "model_module_version": "1.5.0",
          "state": {
            "_dom_classes": [],
            "_model_module": "@jupyter-widgets/controls",
            "_model_module_version": "1.5.0",
            "_model_name": "FloatProgressModel",
            "_view_count": null,
            "_view_module": "@jupyter-widgets/controls",
            "_view_module_version": "1.5.0",
            "_view_name": "ProgressView",
            "bar_style": "success",
            "description": "",
            "description_tooltip": null,
            "layout": "IPY_MODEL_d3629ea5e7b6473593786e208b67e8f1",
            "max": 10,
            "min": 0,
            "orientation": "horizontal",
            "style": "IPY_MODEL_ba8bc085acd44fd29fd849c3698c46d1",
            "value": 10
          }
        },
        "fad51f902de84cdea1c2f4dd01a48f53": {
          "model_module": "@jupyter-widgets/controls",
          "model_name": "HTMLModel",
          "model_module_version": "1.5.0",
          "state": {
            "_dom_classes": [],
            "_model_module": "@jupyter-widgets/controls",
            "_model_module_version": "1.5.0",
            "_model_name": "HTMLModel",
            "_view_count": null,
            "_view_module": "@jupyter-widgets/controls",
            "_view_module_version": "1.5.0",
            "_view_name": "HTMLView",
            "description": "",
            "description_tooltip": null,
            "layout": "IPY_MODEL_89a6b81c627b4a26ac9670d423a0bb29",
            "placeholder": "​",
            "style": "IPY_MODEL_49eae3afa9904085b43d7666cbd4c7b7",
            "value": " 10/10 [00:11&lt;00:00,  1.99s/it]"
          }
        },
        "71f312ff622e4c90991eb9dcbcc0f89f": {
          "model_module": "@jupyter-widgets/base",
          "model_name": "LayoutModel",
          "model_module_version": "1.2.0",
          "state": {
            "_model_module": "@jupyter-widgets/base",
            "_model_module_version": "1.2.0",
            "_model_name": "LayoutModel",
            "_view_count": null,
            "_view_module": "@jupyter-widgets/base",
            "_view_module_version": "1.2.0",
            "_view_name": "LayoutView",
            "align_content": null,
            "align_items": null,
            "align_self": null,
            "border": null,
            "bottom": null,
            "display": null,
            "flex": null,
            "flex_flow": null,
            "grid_area": null,
            "grid_auto_columns": null,
            "grid_auto_flow": null,
            "grid_auto_rows": null,
            "grid_column": null,
            "grid_gap": null,
            "grid_row": null,
            "grid_template_areas": null,
            "grid_template_columns": null,
            "grid_template_rows": null,
            "height": null,
            "justify_content": null,
            "justify_items": null,
            "left": null,
            "margin": null,
            "max_height": null,
            "max_width": null,
            "min_height": null,
            "min_width": null,
            "object_fit": null,
            "object_position": null,
            "order": null,
            "overflow": null,
            "overflow_x": null,
            "overflow_y": null,
            "padding": null,
            "right": null,
            "top": null,
            "visibility": null,
            "width": null
          }
        },
        "365b948e716d45adb70d70ebfc67cdd3": {
          "model_module": "@jupyter-widgets/base",
          "model_name": "LayoutModel",
          "model_module_version": "1.2.0",
          "state": {
            "_model_module": "@jupyter-widgets/base",
            "_model_module_version": "1.2.0",
            "_model_name": "LayoutModel",
            "_view_count": null,
            "_view_module": "@jupyter-widgets/base",
            "_view_module_version": "1.2.0",
            "_view_name": "LayoutView",
            "align_content": null,
            "align_items": null,
            "align_self": null,
            "border": null,
            "bottom": null,
            "display": null,
            "flex": null,
            "flex_flow": null,
            "grid_area": null,
            "grid_auto_columns": null,
            "grid_auto_flow": null,
            "grid_auto_rows": null,
            "grid_column": null,
            "grid_gap": null,
            "grid_row": null,
            "grid_template_areas": null,
            "grid_template_columns": null,
            "grid_template_rows": null,
            "height": null,
            "justify_content": null,
            "justify_items": null,
            "left": null,
            "margin": null,
            "max_height": null,
            "max_width": null,
            "min_height": null,
            "min_width": null,
            "object_fit": null,
            "object_position": null,
            "order": null,
            "overflow": null,
            "overflow_x": null,
            "overflow_y": null,
            "padding": null,
            "right": null,
            "top": null,
            "visibility": null,
            "width": null
          }
        },
        "a984a4e289b343cf817575c1ae061684": {
          "model_module": "@jupyter-widgets/controls",
          "model_name": "DescriptionStyleModel",
          "model_module_version": "1.5.0",
          "state": {
            "_model_module": "@jupyter-widgets/controls",
            "_model_module_version": "1.5.0",
            "_model_name": "DescriptionStyleModel",
            "_view_count": null,
            "_view_module": "@jupyter-widgets/base",
            "_view_module_version": "1.2.0",
            "_view_name": "StyleView",
            "description_width": ""
          }
        },
        "d3629ea5e7b6473593786e208b67e8f1": {
          "model_module": "@jupyter-widgets/base",
          "model_name": "LayoutModel",
          "model_module_version": "1.2.0",
          "state": {
            "_model_module": "@jupyter-widgets/base",
            "_model_module_version": "1.2.0",
            "_model_name": "LayoutModel",
            "_view_count": null,
            "_view_module": "@jupyter-widgets/base",
            "_view_module_version": "1.2.0",
            "_view_name": "LayoutView",
            "align_content": null,
            "align_items": null,
            "align_self": null,
            "border": null,
            "bottom": null,
            "display": null,
            "flex": null,
            "flex_flow": null,
            "grid_area": null,
            "grid_auto_columns": null,
            "grid_auto_flow": null,
            "grid_auto_rows": null,
            "grid_column": null,
            "grid_gap": null,
            "grid_row": null,
            "grid_template_areas": null,
            "grid_template_columns": null,
            "grid_template_rows": null,
            "height": null,
            "justify_content": null,
            "justify_items": null,
            "left": null,
            "margin": null,
            "max_height": null,
            "max_width": null,
            "min_height": null,
            "min_width": null,
            "object_fit": null,
            "object_position": null,
            "order": null,
            "overflow": null,
            "overflow_x": null,
            "overflow_y": null,
            "padding": null,
            "right": null,
            "top": null,
            "visibility": null,
            "width": null
          }
        },
        "ba8bc085acd44fd29fd849c3698c46d1": {
          "model_module": "@jupyter-widgets/controls",
          "model_name": "ProgressStyleModel",
          "model_module_version": "1.5.0",
          "state": {
            "_model_module": "@jupyter-widgets/controls",
            "_model_module_version": "1.5.0",
            "_model_name": "ProgressStyleModel",
            "_view_count": null,
            "_view_module": "@jupyter-widgets/base",
            "_view_module_version": "1.2.0",
            "_view_name": "StyleView",
            "bar_color": null,
            "description_width": ""
          }
        },
        "89a6b81c627b4a26ac9670d423a0bb29": {
          "model_module": "@jupyter-widgets/base",
          "model_name": "LayoutModel",
          "model_module_version": "1.2.0",
          "state": {
            "_model_module": "@jupyter-widgets/base",
            "_model_module_version": "1.2.0",
            "_model_name": "LayoutModel",
            "_view_count": null,
            "_view_module": "@jupyter-widgets/base",
            "_view_module_version": "1.2.0",
            "_view_name": "LayoutView",
            "align_content": null,
            "align_items": null,
            "align_self": null,
            "border": null,
            "bottom": null,
            "display": null,
            "flex": null,
            "flex_flow": null,
            "grid_area": null,
            "grid_auto_columns": null,
            "grid_auto_flow": null,
            "grid_auto_rows": null,
            "grid_column": null,
            "grid_gap": null,
            "grid_row": null,
            "grid_template_areas": null,
            "grid_template_columns": null,
            "grid_template_rows": null,
            "height": null,
            "justify_content": null,
            "justify_items": null,
            "left": null,
            "margin": null,
            "max_height": null,
            "max_width": null,
            "min_height": null,
            "min_width": null,
            "object_fit": null,
            "object_position": null,
            "order": null,
            "overflow": null,
            "overflow_x": null,
            "overflow_y": null,
            "padding": null,
            "right": null,
            "top": null,
            "visibility": null,
            "width": null
          }
        },
        "49eae3afa9904085b43d7666cbd4c7b7": {
          "model_module": "@jupyter-widgets/controls",
          "model_name": "DescriptionStyleModel",
          "model_module_version": "1.5.0",
          "state": {
            "_model_module": "@jupyter-widgets/controls",
            "_model_module_version": "1.5.0",
            "_model_name": "DescriptionStyleModel",
            "_view_count": null,
            "_view_module": "@jupyter-widgets/base",
            "_view_module_version": "1.2.0",
            "_view_name": "StyleView",
            "description_width": ""
          }
        },
        "98a765fbd69f43368df05dab6efc0f0b": {
          "model_module": "@jupyter-widgets/controls",
          "model_name": "HBoxModel",
          "model_module_version": "1.5.0",
          "state": {
            "_dom_classes": [],
            "_model_module": "@jupyter-widgets/controls",
            "_model_module_version": "1.5.0",
            "_model_name": "HBoxModel",
            "_view_count": null,
            "_view_module": "@jupyter-widgets/controls",
            "_view_module_version": "1.5.0",
            "_view_name": "HBoxView",
            "box_style": "",
            "children": [
              "IPY_MODEL_0dba29603ef44d919d2e6b78b62915b7",
              "IPY_MODEL_8e9096b171014ed391f35510e763a905",
              "IPY_MODEL_9539721f4c9649068cf5175386113cbe"
            ],
            "layout": "IPY_MODEL_d84f8c3d68f944abaeb61c95849133d4"
          }
        },
        "0dba29603ef44d919d2e6b78b62915b7": {
          "model_module": "@jupyter-widgets/controls",
          "model_name": "HTMLModel",
          "model_module_version": "1.5.0",
          "state": {
            "_dom_classes": [],
            "_model_module": "@jupyter-widgets/controls",
            "_model_module_version": "1.5.0",
            "_model_name": "HTMLModel",
            "_view_count": null,
            "_view_module": "@jupyter-widgets/controls",
            "_view_module_version": "1.5.0",
            "_view_name": "HTMLView",
            "description": "",
            "description_tooltip": null,
            "layout": "IPY_MODEL_4181c109d7de493bb6a97aac60f8e51b",
            "placeholder": "​",
            "style": "IPY_MODEL_241fa716443f4ebaba755baf5e8ad551",
            "value": "  0%"
          }
        },
        "8e9096b171014ed391f35510e763a905": {
          "model_module": "@jupyter-widgets/controls",
          "model_name": "FloatProgressModel",
          "model_module_version": "1.5.0",
          "state": {
            "_dom_classes": [],
            "_model_module": "@jupyter-widgets/controls",
            "_model_module_version": "1.5.0",
            "_model_name": "FloatProgressModel",
            "_view_count": null,
            "_view_module": "@jupyter-widgets/controls",
            "_view_module_version": "1.5.0",
            "_view_name": "ProgressView",
            "bar_style": "danger",
            "description": "",
            "description_tooltip": null,
            "layout": "IPY_MODEL_d723b429b3964dc283423fad5ec96286",
            "max": 10,
            "min": 0,
            "orientation": "horizontal",
            "style": "IPY_MODEL_71c0ac58636a4335a33f40601e70b0c7",
            "value": 0
          }
        },
        "9539721f4c9649068cf5175386113cbe": {
          "model_module": "@jupyter-widgets/controls",
          "model_name": "HTMLModel",
          "model_module_version": "1.5.0",
          "state": {
            "_dom_classes": [],
            "_model_module": "@jupyter-widgets/controls",
            "_model_module_version": "1.5.0",
            "_model_name": "HTMLModel",
            "_view_count": null,
            "_view_module": "@jupyter-widgets/controls",
            "_view_module_version": "1.5.0",
            "_view_name": "HTMLView",
            "description": "",
            "description_tooltip": null,
            "layout": "IPY_MODEL_78a38ea4f4fc43dd88013db9cd17cb97",
            "placeholder": "​",
            "style": "IPY_MODEL_a93a73159db845d89e4164982963f1f2",
            "value": " 0/10 [00:00&lt;?, ?it/s]"
          }
        },
        "d84f8c3d68f944abaeb61c95849133d4": {
          "model_module": "@jupyter-widgets/base",
          "model_name": "LayoutModel",
          "model_module_version": "1.2.0",
          "state": {
            "_model_module": "@jupyter-widgets/base",
            "_model_module_version": "1.2.0",
            "_model_name": "LayoutModel",
            "_view_count": null,
            "_view_module": "@jupyter-widgets/base",
            "_view_module_version": "1.2.0",
            "_view_name": "LayoutView",
            "align_content": null,
            "align_items": null,
            "align_self": null,
            "border": null,
            "bottom": null,
            "display": null,
            "flex": null,
            "flex_flow": null,
            "grid_area": null,
            "grid_auto_columns": null,
            "grid_auto_flow": null,
            "grid_auto_rows": null,
            "grid_column": null,
            "grid_gap": null,
            "grid_row": null,
            "grid_template_areas": null,
            "grid_template_columns": null,
            "grid_template_rows": null,
            "height": null,
            "justify_content": null,
            "justify_items": null,
            "left": null,
            "margin": null,
            "max_height": null,
            "max_width": null,
            "min_height": null,
            "min_width": null,
            "object_fit": null,
            "object_position": null,
            "order": null,
            "overflow": null,
            "overflow_x": null,
            "overflow_y": null,
            "padding": null,
            "right": null,
            "top": null,
            "visibility": null,
            "width": null
          }
        },
        "4181c109d7de493bb6a97aac60f8e51b": {
          "model_module": "@jupyter-widgets/base",
          "model_name": "LayoutModel",
          "model_module_version": "1.2.0",
          "state": {
            "_model_module": "@jupyter-widgets/base",
            "_model_module_version": "1.2.0",
            "_model_name": "LayoutModel",
            "_view_count": null,
            "_view_module": "@jupyter-widgets/base",
            "_view_module_version": "1.2.0",
            "_view_name": "LayoutView",
            "align_content": null,
            "align_items": null,
            "align_self": null,
            "border": null,
            "bottom": null,
            "display": null,
            "flex": null,
            "flex_flow": null,
            "grid_area": null,
            "grid_auto_columns": null,
            "grid_auto_flow": null,
            "grid_auto_rows": null,
            "grid_column": null,
            "grid_gap": null,
            "grid_row": null,
            "grid_template_areas": null,
            "grid_template_columns": null,
            "grid_template_rows": null,
            "height": null,
            "justify_content": null,
            "justify_items": null,
            "left": null,
            "margin": null,
            "max_height": null,
            "max_width": null,
            "min_height": null,
            "min_width": null,
            "object_fit": null,
            "object_position": null,
            "order": null,
            "overflow": null,
            "overflow_x": null,
            "overflow_y": null,
            "padding": null,
            "right": null,
            "top": null,
            "visibility": null,
            "width": null
          }
        },
        "241fa716443f4ebaba755baf5e8ad551": {
          "model_module": "@jupyter-widgets/controls",
          "model_name": "DescriptionStyleModel",
          "model_module_version": "1.5.0",
          "state": {
            "_model_module": "@jupyter-widgets/controls",
            "_model_module_version": "1.5.0",
            "_model_name": "DescriptionStyleModel",
            "_view_count": null,
            "_view_module": "@jupyter-widgets/base",
            "_view_module_version": "1.2.0",
            "_view_name": "StyleView",
            "description_width": ""
          }
        },
        "d723b429b3964dc283423fad5ec96286": {
          "model_module": "@jupyter-widgets/base",
          "model_name": "LayoutModel",
          "model_module_version": "1.2.0",
          "state": {
            "_model_module": "@jupyter-widgets/base",
            "_model_module_version": "1.2.0",
            "_model_name": "LayoutModel",
            "_view_count": null,
            "_view_module": "@jupyter-widgets/base",
            "_view_module_version": "1.2.0",
            "_view_name": "LayoutView",
            "align_content": null,
            "align_items": null,
            "align_self": null,
            "border": null,
            "bottom": null,
            "display": null,
            "flex": null,
            "flex_flow": null,
            "grid_area": null,
            "grid_auto_columns": null,
            "grid_auto_flow": null,
            "grid_auto_rows": null,
            "grid_column": null,
            "grid_gap": null,
            "grid_row": null,
            "grid_template_areas": null,
            "grid_template_columns": null,
            "grid_template_rows": null,
            "height": null,
            "justify_content": null,
            "justify_items": null,
            "left": null,
            "margin": null,
            "max_height": null,
            "max_width": null,
            "min_height": null,
            "min_width": null,
            "object_fit": null,
            "object_position": null,
            "order": null,
            "overflow": null,
            "overflow_x": null,
            "overflow_y": null,
            "padding": null,
            "right": null,
            "top": null,
            "visibility": null,
            "width": null
          }
        },
        "71c0ac58636a4335a33f40601e70b0c7": {
          "model_module": "@jupyter-widgets/controls",
          "model_name": "ProgressStyleModel",
          "model_module_version": "1.5.0",
          "state": {
            "_model_module": "@jupyter-widgets/controls",
            "_model_module_version": "1.5.0",
            "_model_name": "ProgressStyleModel",
            "_view_count": null,
            "_view_module": "@jupyter-widgets/base",
            "_view_module_version": "1.2.0",
            "_view_name": "StyleView",
            "bar_color": null,
            "description_width": ""
          }
        },
        "78a38ea4f4fc43dd88013db9cd17cb97": {
          "model_module": "@jupyter-widgets/base",
          "model_name": "LayoutModel",
          "model_module_version": "1.2.0",
          "state": {
            "_model_module": "@jupyter-widgets/base",
            "_model_module_version": "1.2.0",
            "_model_name": "LayoutModel",
            "_view_count": null,
            "_view_module": "@jupyter-widgets/base",
            "_view_module_version": "1.2.0",
            "_view_name": "LayoutView",
            "align_content": null,
            "align_items": null,
            "align_self": null,
            "border": null,
            "bottom": null,
            "display": null,
            "flex": null,
            "flex_flow": null,
            "grid_area": null,
            "grid_auto_columns": null,
            "grid_auto_flow": null,
            "grid_auto_rows": null,
            "grid_column": null,
            "grid_gap": null,
            "grid_row": null,
            "grid_template_areas": null,
            "grid_template_columns": null,
            "grid_template_rows": null,
            "height": null,
            "justify_content": null,
            "justify_items": null,
            "left": null,
            "margin": null,
            "max_height": null,
            "max_width": null,
            "min_height": null,
            "min_width": null,
            "object_fit": null,
            "object_position": null,
            "order": null,
            "overflow": null,
            "overflow_x": null,
            "overflow_y": null,
            "padding": null,
            "right": null,
            "top": null,
            "visibility": null,
            "width": null
          }
        },
        "a93a73159db845d89e4164982963f1f2": {
          "model_module": "@jupyter-widgets/controls",
          "model_name": "DescriptionStyleModel",
          "model_module_version": "1.5.0",
          "state": {
            "_model_module": "@jupyter-widgets/controls",
            "_model_module_version": "1.5.0",
            "_model_name": "DescriptionStyleModel",
            "_view_count": null,
            "_view_module": "@jupyter-widgets/base",
            "_view_module_version": "1.2.0",
            "_view_name": "StyleView",
            "description_width": ""
          }
        }
      }
    }
  },
  "cells": [
    {
      "cell_type": "markdown",
      "metadata": {
        "id": "view-in-github",
        "colab_type": "text"
      },
      "source": [
        "<a href=\"https://colab.research.google.com/github/AndreNasci/ECO904/blob/main/Andre_Augusto_Cesar_do_Nascimento_ECO904_06_N%C3%A3o_Supervisionado.ipynb\" target=\"_parent\"><img src=\"https://colab.research.google.com/assets/colab-badge.svg\" alt=\"Open In Colab\"/></a>"
      ]
    },
    {
      "cell_type": "markdown",
      "source": [
        "# Atividade"
      ],
      "metadata": {
        "id": "_10cwwE7CO0H"
      }
    },
    {
      "cell_type": "markdown",
      "source": [
        "Realize os sequintes procedimentos:\n",
        "- Escolha uma base de dados abaixo\n",
        "- Realize todos os procedimentos de análise e correção da base de dados\n",
        "- Faça o agrupamento dos dados de entrada\n",
        "- Compare com as métricas de avaliação de agrupamento\n",
        "- Repita o procedimeto após decomposição da base de dados"
      ],
      "metadata": {
        "id": "2jqyvyZRCRBV"
      }
    },
    {
      "cell_type": "code",
      "source": [
        "# http://archive.ics.uci.edu/ml/datasets/Las+Vegas+Strip\n",
        "url = 'http://archive.ics.uci.edu/ml/machine-learning-databases/00397/LasVegasTripAdvisorReviews-Dataset.csv'"
      ],
      "metadata": {
        "id": "nCi4hdz_HEmP"
      },
      "execution_count": 1,
      "outputs": []
    },
    {
      "cell_type": "markdown",
      "source": [
        "## Analisando a base de dados"
      ],
      "metadata": {
        "id": "xwKcve_Bh9O_"
      }
    },
    {
      "cell_type": "code",
      "source": [
        "import pandas as pd\n",
        "reviewsDS = pd.read_csv(url, sep=';', decimal=',')\n",
        "reviewsDS.head(5)"
      ],
      "metadata": {
        "colab": {
          "base_uri": "https://localhost:8080/",
          "height": 826
        },
        "id": "UY2sQSkHfsgf",
        "outputId": "e3bf9c90-ef3a-4638-c91b-e0a5f74942c6"
      },
      "execution_count": 2,
      "outputs": [
        {
          "output_type": "execute_result",
          "data": {
            "text/plain": [
              "  User country  Nr. reviews  Nr. hotel reviews  Helpful votes  Score  \\\n",
              "0          USA           11                  4             13      5   \n",
              "1          USA          119                 21             75      3   \n",
              "2          USA           36                  9             25      5   \n",
              "3           UK           14                  7             14      4   \n",
              "4       Canada            5                  5              2      4   \n",
              "\n",
              "  Period of stay Traveler type Pool  Gym Tennis court Spa Casino  \\\n",
              "0        Dec-Feb       Friends   NO  YES           NO  NO    YES   \n",
              "1        Dec-Feb      Business   NO  YES           NO  NO    YES   \n",
              "2        Mar-May      Families   NO  YES           NO  NO    YES   \n",
              "3        Mar-May       Friends   NO  YES           NO  NO    YES   \n",
              "4        Mar-May          Solo   NO  YES           NO  NO    YES   \n",
              "\n",
              "  Free internet                              Hotel name  Hotel stars  \\\n",
              "0           YES  Circus Circus Hotel & Casino Las Vegas          3.0   \n",
              "1           YES  Circus Circus Hotel & Casino Las Vegas          3.0   \n",
              "2           YES  Circus Circus Hotel & Casino Las Vegas          3.0   \n",
              "3           YES  Circus Circus Hotel & Casino Las Vegas          3.0   \n",
              "4           YES  Circus Circus Hotel & Casino Las Vegas          3.0   \n",
              "\n",
              "   Nr. rooms User continent  Member years Review month Review weekday  \n",
              "0       3773  North America             9      January       Thursday  \n",
              "1       3773  North America             3      January         Friday  \n",
              "2       3773  North America             2     February       Saturday  \n",
              "3       3773         Europe             6     February         Friday  \n",
              "4       3773  North America             7        March        Tuesday  "
            ],
            "text/html": [
              "\n",
              "  <div id=\"df-7c061fc2-0e98-421d-9cba-af325c91a14b\">\n",
              "    <div class=\"colab-df-container\">\n",
              "      <div>\n",
              "<style scoped>\n",
              "    .dataframe tbody tr th:only-of-type {\n",
              "        vertical-align: middle;\n",
              "    }\n",
              "\n",
              "    .dataframe tbody tr th {\n",
              "        vertical-align: top;\n",
              "    }\n",
              "\n",
              "    .dataframe thead th {\n",
              "        text-align: right;\n",
              "    }\n",
              "</style>\n",
              "<table border=\"1\" class=\"dataframe\">\n",
              "  <thead>\n",
              "    <tr style=\"text-align: right;\">\n",
              "      <th></th>\n",
              "      <th>User country</th>\n",
              "      <th>Nr. reviews</th>\n",
              "      <th>Nr. hotel reviews</th>\n",
              "      <th>Helpful votes</th>\n",
              "      <th>Score</th>\n",
              "      <th>Period of stay</th>\n",
              "      <th>Traveler type</th>\n",
              "      <th>Pool</th>\n",
              "      <th>Gym</th>\n",
              "      <th>Tennis court</th>\n",
              "      <th>Spa</th>\n",
              "      <th>Casino</th>\n",
              "      <th>Free internet</th>\n",
              "      <th>Hotel name</th>\n",
              "      <th>Hotel stars</th>\n",
              "      <th>Nr. rooms</th>\n",
              "      <th>User continent</th>\n",
              "      <th>Member years</th>\n",
              "      <th>Review month</th>\n",
              "      <th>Review weekday</th>\n",
              "    </tr>\n",
              "  </thead>\n",
              "  <tbody>\n",
              "    <tr>\n",
              "      <th>0</th>\n",
              "      <td>USA</td>\n",
              "      <td>11</td>\n",
              "      <td>4</td>\n",
              "      <td>13</td>\n",
              "      <td>5</td>\n",
              "      <td>Dec-Feb</td>\n",
              "      <td>Friends</td>\n",
              "      <td>NO</td>\n",
              "      <td>YES</td>\n",
              "      <td>NO</td>\n",
              "      <td>NO</td>\n",
              "      <td>YES</td>\n",
              "      <td>YES</td>\n",
              "      <td>Circus Circus Hotel &amp; Casino Las Vegas</td>\n",
              "      <td>3.0</td>\n",
              "      <td>3773</td>\n",
              "      <td>North America</td>\n",
              "      <td>9</td>\n",
              "      <td>January</td>\n",
              "      <td>Thursday</td>\n",
              "    </tr>\n",
              "    <tr>\n",
              "      <th>1</th>\n",
              "      <td>USA</td>\n",
              "      <td>119</td>\n",
              "      <td>21</td>\n",
              "      <td>75</td>\n",
              "      <td>3</td>\n",
              "      <td>Dec-Feb</td>\n",
              "      <td>Business</td>\n",
              "      <td>NO</td>\n",
              "      <td>YES</td>\n",
              "      <td>NO</td>\n",
              "      <td>NO</td>\n",
              "      <td>YES</td>\n",
              "      <td>YES</td>\n",
              "      <td>Circus Circus Hotel &amp; Casino Las Vegas</td>\n",
              "      <td>3.0</td>\n",
              "      <td>3773</td>\n",
              "      <td>North America</td>\n",
              "      <td>3</td>\n",
              "      <td>January</td>\n",
              "      <td>Friday</td>\n",
              "    </tr>\n",
              "    <tr>\n",
              "      <th>2</th>\n",
              "      <td>USA</td>\n",
              "      <td>36</td>\n",
              "      <td>9</td>\n",
              "      <td>25</td>\n",
              "      <td>5</td>\n",
              "      <td>Mar-May</td>\n",
              "      <td>Families</td>\n",
              "      <td>NO</td>\n",
              "      <td>YES</td>\n",
              "      <td>NO</td>\n",
              "      <td>NO</td>\n",
              "      <td>YES</td>\n",
              "      <td>YES</td>\n",
              "      <td>Circus Circus Hotel &amp; Casino Las Vegas</td>\n",
              "      <td>3.0</td>\n",
              "      <td>3773</td>\n",
              "      <td>North America</td>\n",
              "      <td>2</td>\n",
              "      <td>February</td>\n",
              "      <td>Saturday</td>\n",
              "    </tr>\n",
              "    <tr>\n",
              "      <th>3</th>\n",
              "      <td>UK</td>\n",
              "      <td>14</td>\n",
              "      <td>7</td>\n",
              "      <td>14</td>\n",
              "      <td>4</td>\n",
              "      <td>Mar-May</td>\n",
              "      <td>Friends</td>\n",
              "      <td>NO</td>\n",
              "      <td>YES</td>\n",
              "      <td>NO</td>\n",
              "      <td>NO</td>\n",
              "      <td>YES</td>\n",
              "      <td>YES</td>\n",
              "      <td>Circus Circus Hotel &amp; Casino Las Vegas</td>\n",
              "      <td>3.0</td>\n",
              "      <td>3773</td>\n",
              "      <td>Europe</td>\n",
              "      <td>6</td>\n",
              "      <td>February</td>\n",
              "      <td>Friday</td>\n",
              "    </tr>\n",
              "    <tr>\n",
              "      <th>4</th>\n",
              "      <td>Canada</td>\n",
              "      <td>5</td>\n",
              "      <td>5</td>\n",
              "      <td>2</td>\n",
              "      <td>4</td>\n",
              "      <td>Mar-May</td>\n",
              "      <td>Solo</td>\n",
              "      <td>NO</td>\n",
              "      <td>YES</td>\n",
              "      <td>NO</td>\n",
              "      <td>NO</td>\n",
              "      <td>YES</td>\n",
              "      <td>YES</td>\n",
              "      <td>Circus Circus Hotel &amp; Casino Las Vegas</td>\n",
              "      <td>3.0</td>\n",
              "      <td>3773</td>\n",
              "      <td>North America</td>\n",
              "      <td>7</td>\n",
              "      <td>March</td>\n",
              "      <td>Tuesday</td>\n",
              "    </tr>\n",
              "  </tbody>\n",
              "</table>\n",
              "</div>\n",
              "      <button class=\"colab-df-convert\" onclick=\"convertToInteractive('df-7c061fc2-0e98-421d-9cba-af325c91a14b')\"\n",
              "              title=\"Convert this dataframe to an interactive table.\"\n",
              "              style=\"display:none;\">\n",
              "        \n",
              "  <svg xmlns=\"http://www.w3.org/2000/svg\" height=\"24px\"viewBox=\"0 0 24 24\"\n",
              "       width=\"24px\">\n",
              "    <path d=\"M0 0h24v24H0V0z\" fill=\"none\"/>\n",
              "    <path d=\"M18.56 5.44l.94 2.06.94-2.06 2.06-.94-2.06-.94-.94-2.06-.94 2.06-2.06.94zm-11 1L8.5 8.5l.94-2.06 2.06-.94-2.06-.94L8.5 2.5l-.94 2.06-2.06.94zm10 10l.94 2.06.94-2.06 2.06-.94-2.06-.94-.94-2.06-.94 2.06-2.06.94z\"/><path d=\"M17.41 7.96l-1.37-1.37c-.4-.4-.92-.59-1.43-.59-.52 0-1.04.2-1.43.59L10.3 9.45l-7.72 7.72c-.78.78-.78 2.05 0 2.83L4 21.41c.39.39.9.59 1.41.59.51 0 1.02-.2 1.41-.59l7.78-7.78 2.81-2.81c.8-.78.8-2.07 0-2.86zM5.41 20L4 18.59l7.72-7.72 1.47 1.35L5.41 20z\"/>\n",
              "  </svg>\n",
              "      </button>\n",
              "      \n",
              "  <style>\n",
              "    .colab-df-container {\n",
              "      display:flex;\n",
              "      flex-wrap:wrap;\n",
              "      gap: 12px;\n",
              "    }\n",
              "\n",
              "    .colab-df-convert {\n",
              "      background-color: #E8F0FE;\n",
              "      border: none;\n",
              "      border-radius: 50%;\n",
              "      cursor: pointer;\n",
              "      display: none;\n",
              "      fill: #1967D2;\n",
              "      height: 32px;\n",
              "      padding: 0 0 0 0;\n",
              "      width: 32px;\n",
              "    }\n",
              "\n",
              "    .colab-df-convert:hover {\n",
              "      background-color: #E2EBFA;\n",
              "      box-shadow: 0px 1px 2px rgba(60, 64, 67, 0.3), 0px 1px 3px 1px rgba(60, 64, 67, 0.15);\n",
              "      fill: #174EA6;\n",
              "    }\n",
              "\n",
              "    [theme=dark] .colab-df-convert {\n",
              "      background-color: #3B4455;\n",
              "      fill: #D2E3FC;\n",
              "    }\n",
              "\n",
              "    [theme=dark] .colab-df-convert:hover {\n",
              "      background-color: #434B5C;\n",
              "      box-shadow: 0px 1px 3px 1px rgba(0, 0, 0, 0.15);\n",
              "      filter: drop-shadow(0px 1px 2px rgba(0, 0, 0, 0.3));\n",
              "      fill: #FFFFFF;\n",
              "    }\n",
              "  </style>\n",
              "\n",
              "      <script>\n",
              "        const buttonEl =\n",
              "          document.querySelector('#df-7c061fc2-0e98-421d-9cba-af325c91a14b button.colab-df-convert');\n",
              "        buttonEl.style.display =\n",
              "          google.colab.kernel.accessAllowed ? 'block' : 'none';\n",
              "\n",
              "        async function convertToInteractive(key) {\n",
              "          const element = document.querySelector('#df-7c061fc2-0e98-421d-9cba-af325c91a14b');\n",
              "          const dataTable =\n",
              "            await google.colab.kernel.invokeFunction('convertToInteractive',\n",
              "                                                     [key], {});\n",
              "          if (!dataTable) return;\n",
              "\n",
              "          const docLinkHtml = 'Like what you see? Visit the ' +\n",
              "            '<a target=\"_blank\" href=https://colab.research.google.com/notebooks/data_table.ipynb>data table notebook</a>'\n",
              "            + ' to learn more about interactive tables.';\n",
              "          element.innerHTML = '';\n",
              "          dataTable['output_type'] = 'display_data';\n",
              "          await google.colab.output.renderOutput(dataTable, element);\n",
              "          const docLink = document.createElement('div');\n",
              "          docLink.innerHTML = docLinkHtml;\n",
              "          element.appendChild(docLink);\n",
              "        }\n",
              "      </script>\n",
              "    </div>\n",
              "  </div>\n",
              "  "
            ]
          },
          "metadata": {},
          "execution_count": 2
        }
      ]
    },
    {
      "cell_type": "code",
      "source": [
        "reviewsDS.info()"
      ],
      "metadata": {
        "colab": {
          "base_uri": "https://localhost:8080/"
        },
        "id": "7WcDJS7EhK4X",
        "outputId": "904cbd4f-e545-46c0-8018-63844045d276"
      },
      "execution_count": 3,
      "outputs": [
        {
          "output_type": "stream",
          "name": "stdout",
          "text": [
            "<class 'pandas.core.frame.DataFrame'>\n",
            "RangeIndex: 504 entries, 0 to 503\n",
            "Data columns (total 20 columns):\n",
            " #   Column             Non-Null Count  Dtype  \n",
            "---  ------             --------------  -----  \n",
            " 0   User country       504 non-null    object \n",
            " 1   Nr. reviews        504 non-null    int64  \n",
            " 2   Nr. hotel reviews  504 non-null    int64  \n",
            " 3   Helpful votes      504 non-null    int64  \n",
            " 4   Score              504 non-null    int64  \n",
            " 5   Period of stay     504 non-null    object \n",
            " 6   Traveler type      504 non-null    object \n",
            " 7   Pool               504 non-null    object \n",
            " 8   Gym                504 non-null    object \n",
            " 9   Tennis court       504 non-null    object \n",
            " 10  Spa                504 non-null    object \n",
            " 11  Casino             504 non-null    object \n",
            " 12  Free internet      504 non-null    object \n",
            " 13  Hotel name         504 non-null    object \n",
            " 14  Hotel stars        504 non-null    float64\n",
            " 15  Nr. rooms          504 non-null    int64  \n",
            " 16  User continent     504 non-null    object \n",
            " 17  Member years       504 non-null    int64  \n",
            " 18  Review month       504 non-null    object \n",
            " 19  Review weekday     504 non-null    object \n",
            "dtypes: float64(1), int64(6), object(13)\n",
            "memory usage: 78.9+ KB\n"
          ]
        }
      ]
    },
    {
      "cell_type": "code",
      "source": [
        "reviewsDS.describe()"
      ],
      "metadata": {
        "colab": {
          "base_uri": "https://localhost:8080/",
          "height": 300
        },
        "id": "X-nmbkeBhkOd",
        "outputId": "9415047e-64e2-4317-8e2b-b7455777ce79"
      },
      "execution_count": 4,
      "outputs": [
        {
          "output_type": "execute_result",
          "data": {
            "text/plain": [
              "       Nr. reviews  Nr. hotel reviews  Helpful votes       Score  Hotel stars  \\\n",
              "count   504.000000         504.000000     504.000000  504.000000   504.000000   \n",
              "mean     48.130952          16.023810      31.751984    4.123016     4.142857   \n",
              "std      74.996426          23.957953      48.520783    1.007302     0.774487   \n",
              "min       1.000000           0.000000       0.000000    1.000000     3.000000   \n",
              "25%      12.000000           5.000000       8.000000    4.000000     3.500000   \n",
              "50%      23.500000           9.000000      16.000000    4.000000     4.000000   \n",
              "75%      54.250000          18.000000      35.000000    5.000000     5.000000   \n",
              "max     775.000000         263.000000     365.000000    5.000000     5.000000   \n",
              "\n",
              "         Nr. rooms  Member years  \n",
              "count   504.000000    504.000000  \n",
              "mean   2196.380952      0.767857  \n",
              "std    1285.476807     80.692897  \n",
              "min     188.000000  -1806.000000  \n",
              "25%     826.000000      2.000000  \n",
              "50%    2700.000000      4.000000  \n",
              "75%    3025.000000      6.000000  \n",
              "max    4027.000000     13.000000  "
            ],
            "text/html": [
              "\n",
              "  <div id=\"df-5f54a2f8-5f81-4414-a438-b90b9b1b8ceb\">\n",
              "    <div class=\"colab-df-container\">\n",
              "      <div>\n",
              "<style scoped>\n",
              "    .dataframe tbody tr th:only-of-type {\n",
              "        vertical-align: middle;\n",
              "    }\n",
              "\n",
              "    .dataframe tbody tr th {\n",
              "        vertical-align: top;\n",
              "    }\n",
              "\n",
              "    .dataframe thead th {\n",
              "        text-align: right;\n",
              "    }\n",
              "</style>\n",
              "<table border=\"1\" class=\"dataframe\">\n",
              "  <thead>\n",
              "    <tr style=\"text-align: right;\">\n",
              "      <th></th>\n",
              "      <th>Nr. reviews</th>\n",
              "      <th>Nr. hotel reviews</th>\n",
              "      <th>Helpful votes</th>\n",
              "      <th>Score</th>\n",
              "      <th>Hotel stars</th>\n",
              "      <th>Nr. rooms</th>\n",
              "      <th>Member years</th>\n",
              "    </tr>\n",
              "  </thead>\n",
              "  <tbody>\n",
              "    <tr>\n",
              "      <th>count</th>\n",
              "      <td>504.000000</td>\n",
              "      <td>504.000000</td>\n",
              "      <td>504.000000</td>\n",
              "      <td>504.000000</td>\n",
              "      <td>504.000000</td>\n",
              "      <td>504.000000</td>\n",
              "      <td>504.000000</td>\n",
              "    </tr>\n",
              "    <tr>\n",
              "      <th>mean</th>\n",
              "      <td>48.130952</td>\n",
              "      <td>16.023810</td>\n",
              "      <td>31.751984</td>\n",
              "      <td>4.123016</td>\n",
              "      <td>4.142857</td>\n",
              "      <td>2196.380952</td>\n",
              "      <td>0.767857</td>\n",
              "    </tr>\n",
              "    <tr>\n",
              "      <th>std</th>\n",
              "      <td>74.996426</td>\n",
              "      <td>23.957953</td>\n",
              "      <td>48.520783</td>\n",
              "      <td>1.007302</td>\n",
              "      <td>0.774487</td>\n",
              "      <td>1285.476807</td>\n",
              "      <td>80.692897</td>\n",
              "    </tr>\n",
              "    <tr>\n",
              "      <th>min</th>\n",
              "      <td>1.000000</td>\n",
              "      <td>0.000000</td>\n",
              "      <td>0.000000</td>\n",
              "      <td>1.000000</td>\n",
              "      <td>3.000000</td>\n",
              "      <td>188.000000</td>\n",
              "      <td>-1806.000000</td>\n",
              "    </tr>\n",
              "    <tr>\n",
              "      <th>25%</th>\n",
              "      <td>12.000000</td>\n",
              "      <td>5.000000</td>\n",
              "      <td>8.000000</td>\n",
              "      <td>4.000000</td>\n",
              "      <td>3.500000</td>\n",
              "      <td>826.000000</td>\n",
              "      <td>2.000000</td>\n",
              "    </tr>\n",
              "    <tr>\n",
              "      <th>50%</th>\n",
              "      <td>23.500000</td>\n",
              "      <td>9.000000</td>\n",
              "      <td>16.000000</td>\n",
              "      <td>4.000000</td>\n",
              "      <td>4.000000</td>\n",
              "      <td>2700.000000</td>\n",
              "      <td>4.000000</td>\n",
              "    </tr>\n",
              "    <tr>\n",
              "      <th>75%</th>\n",
              "      <td>54.250000</td>\n",
              "      <td>18.000000</td>\n",
              "      <td>35.000000</td>\n",
              "      <td>5.000000</td>\n",
              "      <td>5.000000</td>\n",
              "      <td>3025.000000</td>\n",
              "      <td>6.000000</td>\n",
              "    </tr>\n",
              "    <tr>\n",
              "      <th>max</th>\n",
              "      <td>775.000000</td>\n",
              "      <td>263.000000</td>\n",
              "      <td>365.000000</td>\n",
              "      <td>5.000000</td>\n",
              "      <td>5.000000</td>\n",
              "      <td>4027.000000</td>\n",
              "      <td>13.000000</td>\n",
              "    </tr>\n",
              "  </tbody>\n",
              "</table>\n",
              "</div>\n",
              "      <button class=\"colab-df-convert\" onclick=\"convertToInteractive('df-5f54a2f8-5f81-4414-a438-b90b9b1b8ceb')\"\n",
              "              title=\"Convert this dataframe to an interactive table.\"\n",
              "              style=\"display:none;\">\n",
              "        \n",
              "  <svg xmlns=\"http://www.w3.org/2000/svg\" height=\"24px\"viewBox=\"0 0 24 24\"\n",
              "       width=\"24px\">\n",
              "    <path d=\"M0 0h24v24H0V0z\" fill=\"none\"/>\n",
              "    <path d=\"M18.56 5.44l.94 2.06.94-2.06 2.06-.94-2.06-.94-.94-2.06-.94 2.06-2.06.94zm-11 1L8.5 8.5l.94-2.06 2.06-.94-2.06-.94L8.5 2.5l-.94 2.06-2.06.94zm10 10l.94 2.06.94-2.06 2.06-.94-2.06-.94-.94-2.06-.94 2.06-2.06.94z\"/><path d=\"M17.41 7.96l-1.37-1.37c-.4-.4-.92-.59-1.43-.59-.52 0-1.04.2-1.43.59L10.3 9.45l-7.72 7.72c-.78.78-.78 2.05 0 2.83L4 21.41c.39.39.9.59 1.41.59.51 0 1.02-.2 1.41-.59l7.78-7.78 2.81-2.81c.8-.78.8-2.07 0-2.86zM5.41 20L4 18.59l7.72-7.72 1.47 1.35L5.41 20z\"/>\n",
              "  </svg>\n",
              "      </button>\n",
              "      \n",
              "  <style>\n",
              "    .colab-df-container {\n",
              "      display:flex;\n",
              "      flex-wrap:wrap;\n",
              "      gap: 12px;\n",
              "    }\n",
              "\n",
              "    .colab-df-convert {\n",
              "      background-color: #E8F0FE;\n",
              "      border: none;\n",
              "      border-radius: 50%;\n",
              "      cursor: pointer;\n",
              "      display: none;\n",
              "      fill: #1967D2;\n",
              "      height: 32px;\n",
              "      padding: 0 0 0 0;\n",
              "      width: 32px;\n",
              "    }\n",
              "\n",
              "    .colab-df-convert:hover {\n",
              "      background-color: #E2EBFA;\n",
              "      box-shadow: 0px 1px 2px rgba(60, 64, 67, 0.3), 0px 1px 3px 1px rgba(60, 64, 67, 0.15);\n",
              "      fill: #174EA6;\n",
              "    }\n",
              "\n",
              "    [theme=dark] .colab-df-convert {\n",
              "      background-color: #3B4455;\n",
              "      fill: #D2E3FC;\n",
              "    }\n",
              "\n",
              "    [theme=dark] .colab-df-convert:hover {\n",
              "      background-color: #434B5C;\n",
              "      box-shadow: 0px 1px 3px 1px rgba(0, 0, 0, 0.15);\n",
              "      filter: drop-shadow(0px 1px 2px rgba(0, 0, 0, 0.3));\n",
              "      fill: #FFFFFF;\n",
              "    }\n",
              "  </style>\n",
              "\n",
              "      <script>\n",
              "        const buttonEl =\n",
              "          document.querySelector('#df-5f54a2f8-5f81-4414-a438-b90b9b1b8ceb button.colab-df-convert');\n",
              "        buttonEl.style.display =\n",
              "          google.colab.kernel.accessAllowed ? 'block' : 'none';\n",
              "\n",
              "        async function convertToInteractive(key) {\n",
              "          const element = document.querySelector('#df-5f54a2f8-5f81-4414-a438-b90b9b1b8ceb');\n",
              "          const dataTable =\n",
              "            await google.colab.kernel.invokeFunction('convertToInteractive',\n",
              "                                                     [key], {});\n",
              "          if (!dataTable) return;\n",
              "\n",
              "          const docLinkHtml = 'Like what you see? Visit the ' +\n",
              "            '<a target=\"_blank\" href=https://colab.research.google.com/notebooks/data_table.ipynb>data table notebook</a>'\n",
              "            + ' to learn more about interactive tables.';\n",
              "          element.innerHTML = '';\n",
              "          dataTable['output_type'] = 'display_data';\n",
              "          await google.colab.output.renderOutput(dataTable, element);\n",
              "          const docLink = document.createElement('div');\n",
              "          docLink.innerHTML = docLinkHtml;\n",
              "          element.appendChild(docLink);\n",
              "        }\n",
              "      </script>\n",
              "    </div>\n",
              "  </div>\n",
              "  "
            ]
          },
          "metadata": {},
          "execution_count": 4
        }
      ]
    },
    {
      "cell_type": "markdown",
      "source": [
        "## Correção da base de dados"
      ],
      "metadata": {
        "id": "9Vbk0dXTibd7"
      }
    },
    {
      "cell_type": "markdown",
      "source": [
        "### User country"
      ],
      "metadata": {
        "id": "3DFCqhSjijpf"
      }
    },
    {
      "cell_type": "code",
      "source": [
        "# Analisando os valores diferentes que o atributo possui\n",
        "reviewsDS['User country'].unique()"
      ],
      "metadata": {
        "colab": {
          "base_uri": "https://localhost:8080/"
        },
        "id": "tiIiY_XNifFd",
        "outputId": "b8c16c86-81b8-471f-cd4c-99bc8cdd89d7"
      },
      "execution_count": 5,
      "outputs": [
        {
          "output_type": "execute_result",
          "data": {
            "text/plain": [
              "array(['USA', 'UK', 'Canada', 'India', 'Australia', 'New Zeland',\n",
              "       'Ireland', 'Egypt', 'Finland', 'Kenya', 'Jordan', 'Netherlands',\n",
              "       'Syria', 'Scotland', 'South Africa', 'Swiss',\n",
              "       'United Arab Emirates', 'Hungary', 'China', 'Greece', 'Mexico',\n",
              "       'Croatia', 'Germany', 'Malaysia', 'Thailand', 'Phillippines',\n",
              "       'Israel', 'India ', 'Belgium', 'Puerto Rico', 'Switzerland',\n",
              "       'Norway', 'France', 'Spain', 'Singapore', 'Brazil', 'Costa Rica',\n",
              "       'Iran', 'Saudi Arabia', 'Honduras', 'Denmark', 'Taiwan', 'Hawaii',\n",
              "       'Kuwait', 'Czech Republic', 'Japan', 'Korea', 'Italy'],\n",
              "      dtype=object)"
            ]
          },
          "metadata": {},
          "execution_count": 5
        }
      ]
    },
    {
      "cell_type": "code",
      "source": [
        "y, countries = pd.factorize(reviewsDS['User country'])\n",
        "y, countries"
      ],
      "metadata": {
        "colab": {
          "base_uri": "https://localhost:8080/"
        },
        "id": "1_zjhvRbjF02",
        "outputId": "c16b5a1e-93c8-4409-cc70-037b2683d361"
      },
      "execution_count": 6,
      "outputs": [
        {
          "output_type": "execute_result",
          "data": {
            "text/plain": [
              "(array([ 0,  0,  0,  1,  2,  2,  1,  0,  3,  2,  0,  4,  0,  0,  1,  5,  2,\n",
              "         0,  2,  0,  1,  5,  1,  0,  6,  0,  2,  1,  0,  6,  2,  4,  2,  7,\n",
              "         4,  8,  0,  9,  0,  0, 10,  2, 11,  6,  0,  1,  1, 12,  1,  0,  0,\n",
              "         0,  2,  0, 13, 14,  4,  1,  6,  2,  1,  5, 15,  1, 16,  6,  0,  0,\n",
              "        17, 18, 19, 20, 21,  4,  2,  0,  0,  2,  0,  4,  3, 22,  0,  2,  4,\n",
              "        23, 20,  1,  1,  0,  4,  0, 24,  4,  2,  2,  1,  0, 25, 26,  2,  1,\n",
              "         6, 27,  5, 28,  1,  4,  1,  1,  5,  4,  2,  4,  1,  0,  3, 11,  1,\n",
              "         1,  0,  0, 29,  2,  0,  0,  2,  0,  1,  1,  0,  0,  0,  1,  1,  2,\n",
              "         0,  0,  0,  0,  4,  4,  0,  0,  4,  4, 30,  1,  0,  0,  6,  0, 22,\n",
              "         0, 22,  6,  0,  4,  2,  0,  1, 31,  0,  1,  7,  0,  2,  0, 20,  0,\n",
              "         2,  0,  2,  2,  0,  2, 32,  1,  0,  0, 33,  0,  1,  0,  1,  0,  2,\n",
              "         4, 34, 35,  0,  0,  0,  0,  2,  0,  0,  0,  0,  0, 34,  1,  0,  0,\n",
              "         0,  2,  2,  8,  2,  2,  0,  1, 36,  1,  1,  0,  1,  3,  0,  0,  0,\n",
              "         0, 16,  0, 34, 35,  0,  0,  2,  0, 37,  0,  1,  7,  6,  4, 22,  4,\n",
              "         0,  0, 38,  0,  0,  0,  0,  0,  2,  2,  0,  0,  0,  0,  0,  0, 11,\n",
              "         1,  0,  4,  0, 31,  2,  0,  2,  0, 24,  0,  1,  0,  0,  0,  1, 39,\n",
              "         0,  1,  1,  0,  0,  0,  1,  0,  0,  1,  0,  1,  3,  0,  0,  0,  0,\n",
              "         0, 20,  2,  1, 11,  4,  2, 35,  0,  0,  0,  8,  1,  0,  1,  2,  0,\n",
              "         1,  0,  0, 20,  0,  4,  2,  0,  0,  0,  1, 22,  2,  0,  4,  2,  0,\n",
              "         4,  0, 40, 41, 26, 42,  0, 24, 20, 43, 31,  0, 22,  0,  0,  1,  0,\n",
              "         0,  0, 35,  0,  3,  0, 23,  0, 22,  2,  2,  0,  4,  0,  1,  2,  0,\n",
              "         0,  2,  0,  0,  0,  1,  0,  0, 42, 42,  2,  0,  2,  0,  4,  0,  2,\n",
              "         0,  0,  2,  0,  4,  3, 44,  0,  0, 20,  0,  4,  0,  2,  0,  0,  2,\n",
              "         0,  4,  0,  1,  3,  1,  0,  0,  2,  0,  0,  6,  1, 45,  0,  0,  2,\n",
              "         6,  0,  0, 20,  0,  0, 26,  4,  4,  1,  0,  0,  4,  1,  2,  1,  1,\n",
              "         1, 35,  1, 30,  4, 34,  0,  4,  0,  0,  0,  3,  0,  6, 33,  1,  1,\n",
              "         1,  0,  0, 46,  0, 13,  6,  0,  1,  1,  1,  2,  3, 23,  0,  2,  0,\n",
              "         0,  0,  0,  0,  2,  0,  0,  4, 36,  0,  1,  7,  0,  0,  2,  2,  0,\n",
              "         0,  0,  2,  0,  2,  0, 47,  0,  0,  0,  0,  7,  0,  0,  0,  0,  3,\n",
              "         0,  0,  0,  0,  0,  1,  1,  2,  0,  0,  0]),\n",
              " Index(['USA', 'UK', 'Canada', 'India', 'Australia', 'New Zeland', 'Ireland',\n",
              "        'Egypt', 'Finland', 'Kenya', 'Jordan', 'Netherlands', 'Syria',\n",
              "        'Scotland', 'South Africa', 'Swiss', 'United Arab Emirates', 'Hungary',\n",
              "        'China', 'Greece', 'Mexico', 'Croatia', 'Germany', 'Malaysia',\n",
              "        'Thailand', 'Phillippines', 'Israel', 'India ', 'Belgium',\n",
              "        'Puerto Rico', 'Switzerland', 'Norway', 'France', 'Spain', 'Singapore',\n",
              "        'Brazil', 'Costa Rica', 'Iran', 'Saudi Arabia', 'Honduras', 'Denmark',\n",
              "        'Taiwan', 'Hawaii', 'Kuwait', 'Czech Republic', 'Japan', 'Korea',\n",
              "        'Italy'],\n",
              "       dtype='object'))"
            ]
          },
          "metadata": {},
          "execution_count": 6
        }
      ]
    },
    {
      "cell_type": "code",
      "source": [
        "reviewsDS['User country'] = reviewsDS['User country'].factorize()[0]"
      ],
      "metadata": {
        "id": "X2Ab7XW9lOST"
      },
      "execution_count": 7,
      "outputs": []
    },
    {
      "cell_type": "code",
      "source": [
        "# Checando correlação entre index e nomes\n",
        "reviewsDS['User country'][11], countries[4]"
      ],
      "metadata": {
        "colab": {
          "base_uri": "https://localhost:8080/"
        },
        "id": "e86HElK_lYVK",
        "outputId": "0e16280c-05f0-4750-8959-5fe62e2e1232"
      },
      "execution_count": 8,
      "outputs": [
        {
          "output_type": "execute_result",
          "data": {
            "text/plain": [
              "(4, 'Australia')"
            ]
          },
          "metadata": {},
          "execution_count": 8
        }
      ]
    },
    {
      "cell_type": "markdown",
      "source": [
        "### Traveler type, Hotel name, User continent\n"
      ],
      "metadata": {
        "id": "ldtl3A4Gm5n1"
      }
    },
    {
      "cell_type": "code",
      "source": [
        "reviewsDS['Traveler type'], traveler_type = pd.factorize(reviewsDS['Traveler type'])\n",
        "traveler_type"
      ],
      "metadata": {
        "colab": {
          "base_uri": "https://localhost:8080/"
        },
        "id": "VDoVo4YinGhf",
        "outputId": "92fff1f6-3aa7-46cc-8c00-870817e193e1"
      },
      "execution_count": 9,
      "outputs": [
        {
          "output_type": "execute_result",
          "data": {
            "text/plain": [
              "Index(['Friends', 'Business', 'Families', 'Solo', 'Couples'], dtype='object')"
            ]
          },
          "metadata": {},
          "execution_count": 9
        }
      ]
    },
    {
      "cell_type": "code",
      "source": [
        "reviewsDS['Hotel name'], hotel_names = pd.factorize(reviewsDS['Hotel name'])\n",
        "hotel_names"
      ],
      "metadata": {
        "colab": {
          "base_uri": "https://localhost:8080/"
        },
        "id": "UycTXBxQqmkl",
        "outputId": "d2ffe686-ea7f-4776-e8f5-485bb0e14225"
      },
      "execution_count": 10,
      "outputs": [
        {
          "output_type": "execute_result",
          "data": {
            "text/plain": [
              "Index(['Circus Circus Hotel & Casino Las Vegas', 'Excalibur Hotel & Casino',\n",
              "       'Monte Carlo Resort&Casino', 'Treasure Island- TI Hotel & Casino',\n",
              "       'Tropicana Las Vegas - A Double Tree by Hilton Hotel', 'Caesars Palace',\n",
              "       'The Cosmopolitan Las Vegas', 'The Palazzo Resort Hotel Casino',\n",
              "       'Wynn Las Vegas', 'Trump International Hotel Las Vegas', 'The Cromwell',\n",
              "       'Encore at wynn Las Vegas', 'Hilton Grand Vacations on the Boulevard',\n",
              "       'Marriott's Grand Chateau', 'Tuscany Las Vegas Suites & Casino',\n",
              "       'Hilton Grand Vacations at the Flamingo', 'Wyndham Grand Desert',\n",
              "       'The Venetian Las Vegas Hotel', 'Bellagio Las Vegas', 'Paris Las Vegas',\n",
              "       'The Westin las Vegas Hotel Casino & Spa'],\n",
              "      dtype='object')"
            ]
          },
          "metadata": {},
          "execution_count": 10
        }
      ]
    },
    {
      "cell_type": "code",
      "source": [
        "reviewsDS['User continent'], continents = pd.factorize(reviewsDS['User continent'])\n",
        "continents"
      ],
      "metadata": {
        "colab": {
          "base_uri": "https://localhost:8080/"
        },
        "id": "-_7DwAoWqnVo",
        "outputId": "362c22ae-fbc8-4ff5-8b9f-59115e9d0137"
      },
      "execution_count": 11,
      "outputs": [
        {
          "output_type": "execute_result",
          "data": {
            "text/plain": [
              "Index(['North America', 'Europe', 'Asia', 'Oceania', 'Africa',\n",
              "       'South America'],\n",
              "      dtype='object')"
            ]
          },
          "metadata": {},
          "execution_count": 11
        }
      ]
    },
    {
      "cell_type": "markdown",
      "source": [
        "### Pool, Gym, Tennis court, Spa, Casino, Free internet"
      ],
      "metadata": {
        "id": "zkD3IFl3nxQl"
      }
    },
    {
      "cell_type": "code",
      "source": [
        "dicionario = {'NO': 0, 'YES': 1}\n",
        "reviewsDS['Pool'] = reviewsDS['Pool'].apply(lambda x: dicionario[x]).values\n",
        "reviewsDS['Tennis court'] = reviewsDS['Tennis court'].apply(lambda x: dicionario[x]).values\n",
        "reviewsDS['Spa'] = reviewsDS['Spa'].apply(lambda x: dicionario[x]).values\n",
        "reviewsDS['Casino'] = reviewsDS['Casino'].apply(lambda x: dicionario[x]).values\n",
        "reviewsDS['Gym'] = reviewsDS['Gym'].apply(lambda x: dicionario[x]).values\n",
        "reviewsDS['Free internet'] = reviewsDS['Free internet'].apply(lambda x: dicionario[x]).values"
      ],
      "metadata": {
        "id": "PS5zYpi9pcIP"
      },
      "execution_count": 12,
      "outputs": []
    },
    {
      "cell_type": "code",
      "source": [
        "# reviewsDS['Pool'], has_pool = pd.factorize(reviewsDS['Pool'])\n",
        "# reviewsDS['Tennis court'], has_tennisCourt = pd.factorize(reviewsDS['Tennis court'])\n",
        "# reviewsDS['Spa'], has_spa = pd.factorize(reviewsDS['Spa'])\n",
        "# reviewsDS['Casino'], has_casino = pd.factorize(reviewsDS['Casino'])\n",
        "# reviewsDS['Gym'], has_gym = pd.factorize(reviewsDS['Gym'])\n",
        "# reviewsDS['Free internet'], has_freeInternet = pd.factorize(reviewsDS['Free internet'])"
      ],
      "metadata": {
        "id": "0nYe0yLen9gP"
      },
      "execution_count": 13,
      "outputs": []
    },
    {
      "cell_type": "code",
      "source": [
        "# has_pool, has_tennisCourt, has_spa, has_casino, has_gym, has_freeInternet"
      ],
      "metadata": {
        "id": "cfijihcYo2ZV"
      },
      "execution_count": 14,
      "outputs": []
    },
    {
      "cell_type": "markdown",
      "source": [
        "### Hotel stars"
      ],
      "metadata": {
        "id": "lFvFYJ4Trx46"
      }
    },
    {
      "cell_type": "code",
      "source": [
        "# Só é possível fazer essa conversão graças ao parâmetro (decimal='.')\n",
        "# na importação do arquivo csv\n",
        "reviewsDS['Hotel stars'] = reviewsDS['Hotel stars'].astype(float)"
      ],
      "metadata": {
        "id": "gClKlO1LrxIO"
      },
      "execution_count": 15,
      "outputs": []
    },
    {
      "cell_type": "code",
      "source": [
        "reviewsDS.info()"
      ],
      "metadata": {
        "colab": {
          "base_uri": "https://localhost:8080/"
        },
        "id": "8Q2Cv1TFuJXb",
        "outputId": "e3fb0f5f-312d-48d5-de6e-5bd7cc116649"
      },
      "execution_count": 16,
      "outputs": [
        {
          "output_type": "stream",
          "name": "stdout",
          "text": [
            "<class 'pandas.core.frame.DataFrame'>\n",
            "RangeIndex: 504 entries, 0 to 503\n",
            "Data columns (total 20 columns):\n",
            " #   Column             Non-Null Count  Dtype  \n",
            "---  ------             --------------  -----  \n",
            " 0   User country       504 non-null    int64  \n",
            " 1   Nr. reviews        504 non-null    int64  \n",
            " 2   Nr. hotel reviews  504 non-null    int64  \n",
            " 3   Helpful votes      504 non-null    int64  \n",
            " 4   Score              504 non-null    int64  \n",
            " 5   Period of stay     504 non-null    object \n",
            " 6   Traveler type      504 non-null    int64  \n",
            " 7   Pool               504 non-null    int64  \n",
            " 8   Gym                504 non-null    int64  \n",
            " 9   Tennis court       504 non-null    int64  \n",
            " 10  Spa                504 non-null    int64  \n",
            " 11  Casino             504 non-null    int64  \n",
            " 12  Free internet      504 non-null    int64  \n",
            " 13  Hotel name         504 non-null    int64  \n",
            " 14  Hotel stars        504 non-null    float64\n",
            " 15  Nr. rooms          504 non-null    int64  \n",
            " 16  User continent     504 non-null    int64  \n",
            " 17  Member years       504 non-null    int64  \n",
            " 18  Review month       504 non-null    object \n",
            " 19  Review weekday     504 non-null    object \n",
            "dtypes: float64(1), int64(16), object(3)\n",
            "memory usage: 78.9+ KB\n"
          ]
        }
      ]
    },
    {
      "cell_type": "markdown",
      "source": [
        "### Review month, Review weekday"
      ],
      "metadata": {
        "id": "uYpi2wa8Vn8N"
      }
    },
    {
      "cell_type": "code",
      "source": [
        "reviewsDS['Review month'].unique()"
      ],
      "metadata": {
        "colab": {
          "base_uri": "https://localhost:8080/"
        },
        "id": "guHJUHYyVz9R",
        "outputId": "983135a6-deef-4cb8-c4c3-d86c9fdce54b"
      },
      "execution_count": 17,
      "outputs": [
        {
          "output_type": "execute_result",
          "data": {
            "text/plain": [
              "array(['January', 'February', 'March', 'April', 'May', 'June', 'July',\n",
              "       'August', 'September', 'October', 'November', 'December'],\n",
              "      dtype=object)"
            ]
          },
          "metadata": {},
          "execution_count": 17
        }
      ]
    },
    {
      "cell_type": "code",
      "source": [
        "dicionario_mes = {\n",
        "    'January': 1, 'February': 1, 'March': 3, 'April': 4, 'May': 5, 'June': 6, 'July': 7,\n",
        "    'August': 8, 'September': 9, 'October': 10, 'November': 11, 'December': 12\n",
        "    }\n",
        "\n",
        "reviewsDS['Review month'] = reviewsDS['Review month'].apply(lambda x: dicionario_mes[x]).values"
      ],
      "metadata": {
        "id": "JoA_Hx7jVtfN"
      },
      "execution_count": 18,
      "outputs": []
    },
    {
      "cell_type": "code",
      "source": [
        "reviewsDS['Review weekday'].unique()"
      ],
      "metadata": {
        "colab": {
          "base_uri": "https://localhost:8080/"
        },
        "id": "j_4Y9BhOXhed",
        "outputId": "35d9a874-7365-4faa-8190-9120b5eb1133"
      },
      "execution_count": 19,
      "outputs": [
        {
          "output_type": "execute_result",
          "data": {
            "text/plain": [
              "array(['Thursday', 'Friday', 'Saturday', 'Tuesday', 'Wednesday', 'Sunday',\n",
              "       'Monday'], dtype=object)"
            ]
          },
          "metadata": {},
          "execution_count": 19
        }
      ]
    },
    {
      "cell_type": "code",
      "source": [
        "dicionario_semana = {\n",
        "    'Monday': 0, 'Tuesday': 1, 'Wednesday': 2, 'Thursday': 3, 'Friday': 4, 'Saturday': 5, 'Sunday': 6\n",
        "}\n",
        "\n",
        "reviewsDS['Review weekday'] = reviewsDS['Review weekday'].apply(lambda x: dicionario_semana[x]).values"
      ],
      "metadata": {
        "id": "6YWEtE_qXN3s"
      },
      "execution_count": 20,
      "outputs": []
    },
    {
      "cell_type": "markdown",
      "source": [
        "### Period of stay"
      ],
      "metadata": {
        "id": "o4RXpQZ5YNNX"
      }
    },
    {
      "cell_type": "code",
      "source": [
        "periods = reviewsDS['Period of stay'].unique()\n",
        "periods"
      ],
      "metadata": {
        "colab": {
          "base_uri": "https://localhost:8080/"
        },
        "id": "oCd9iEcHYMis",
        "outputId": "a108cdda-8354-488d-9344-1d6e3c2e8fcd"
      },
      "execution_count": 21,
      "outputs": [
        {
          "output_type": "execute_result",
          "data": {
            "text/plain": [
              "array(['Dec-Feb', 'Mar-May', 'Jun-Aug', 'Sep-Nov'], dtype=object)"
            ]
          },
          "metadata": {},
          "execution_count": 21
        }
      ]
    },
    {
      "cell_type": "code",
      "source": [
        "dicionario_periodo = {'Dec-Feb': 0, 'Mar-May': 1, 'Jun-Aug': 2, 'Sep-Nov': 3}\n",
        "\n",
        "reviewsDS['Period of stay'] = reviewsDS['Period of stay'].apply(lambda x: dicionario_periodo[x]).values"
      ],
      "metadata": {
        "id": "bIa6P3S1Yehw"
      },
      "execution_count": 22,
      "outputs": []
    },
    {
      "cell_type": "code",
      "source": [
        "reviewsDS.info()"
      ],
      "metadata": {
        "colab": {
          "base_uri": "https://localhost:8080/"
        },
        "id": "kMR7KzcObb8w",
        "outputId": "c28db48d-e9bc-41ac-c4a8-fb1e7815d27c"
      },
      "execution_count": 23,
      "outputs": [
        {
          "output_type": "stream",
          "name": "stdout",
          "text": [
            "<class 'pandas.core.frame.DataFrame'>\n",
            "RangeIndex: 504 entries, 0 to 503\n",
            "Data columns (total 20 columns):\n",
            " #   Column             Non-Null Count  Dtype  \n",
            "---  ------             --------------  -----  \n",
            " 0   User country       504 non-null    int64  \n",
            " 1   Nr. reviews        504 non-null    int64  \n",
            " 2   Nr. hotel reviews  504 non-null    int64  \n",
            " 3   Helpful votes      504 non-null    int64  \n",
            " 4   Score              504 non-null    int64  \n",
            " 5   Period of stay     504 non-null    int64  \n",
            " 6   Traveler type      504 non-null    int64  \n",
            " 7   Pool               504 non-null    int64  \n",
            " 8   Gym                504 non-null    int64  \n",
            " 9   Tennis court       504 non-null    int64  \n",
            " 10  Spa                504 non-null    int64  \n",
            " 11  Casino             504 non-null    int64  \n",
            " 12  Free internet      504 non-null    int64  \n",
            " 13  Hotel name         504 non-null    int64  \n",
            " 14  Hotel stars        504 non-null    float64\n",
            " 15  Nr. rooms          504 non-null    int64  \n",
            " 16  User continent     504 non-null    int64  \n",
            " 17  Member years       504 non-null    int64  \n",
            " 18  Review month       504 non-null    int64  \n",
            " 19  Review weekday     504 non-null    int64  \n",
            "dtypes: float64(1), int64(19)\n",
            "memory usage: 78.9 KB\n"
          ]
        }
      ]
    },
    {
      "cell_type": "markdown",
      "source": [
        "## Decomposição dos dados"
      ],
      "metadata": {
        "id": "m2rbt66rb73P"
      }
    },
    {
      "cell_type": "code",
      "source": [
        "from sklearn import decomposition, manifold\n",
        "from tqdm.notebook import tqdm\n",
        "import matplotlib.pyplot as plt\n",
        "\n",
        "# algumas técnicas de decomposição\n",
        "decomp = [\n",
        "    decomposition.PCA(n_components=2,random_state=42),\n",
        "    decomposition.FastICA(n_components=2,random_state=42),\n",
        "    decomposition.FactorAnalysis(n_components=2,random_state=42),\n",
        "    #decomposition.LatentDirichletAllocation(n_components=2,random_state=42),\n",
        "    decomposition.TruncatedSVD(n_components=2,random_state=42),\n",
        "    decomposition.KernelPCA(n_components=2,random_state=42),\n",
        "    #decomposition.NMF(n_components=2,random_state=42),\n",
        "    # daqui pra baixo, o n_components default é 2\n",
        "    manifold.Isomap(),\n",
        "    manifold.LocallyLinearEmbedding(random_state=42),\n",
        "    manifold.MDS(random_state=42),\n",
        "    manifold.SpectralEmbedding(random_state=42),\n",
        "    manifold.TSNE(random_state=42),\n",
        "]\n",
        "\n",
        "# agrup: fit e predict ou fit_predict()\n",
        "# decomp: fit e transform ou fit_transform()\n",
        "\n",
        "plt.figure(figsize=(5, 5 * len(decomp)))\n",
        "plt.subplots_adjust()\n",
        "\n",
        "datasets = []\n",
        "for id, dc in enumerate(tqdm(decomp)):\n",
        "  \n",
        "  Xd = dc.fit_transform(reviewsDS)\n",
        "\n",
        "  datasets.append((Xd,{'n_clusters':2},str(dc)))\n",
        "      \n",
        "  plt.subplot(len(decomp), 1, id+1)\n",
        "  plt.title(str(dc), size=6)\n",
        "\n",
        "  plt.scatter(Xd[:, 0], Xd[:, 1], s=10, c=y)\n",
        "\n",
        "plt.show()"
      ],
      "metadata": {
        "colab": {
          "base_uri": "https://localhost:8080/",
          "height": 1000,
          "referenced_widgets": [
            "a32bf9041cb046bc8ca6f30cef3c5a6e",
            "d5eebb914bfc44b48f9976a27ecb2a27",
            "aa90015885ce437c99eb6d87625eedf7",
            "fad51f902de84cdea1c2f4dd01a48f53",
            "71f312ff622e4c90991eb9dcbcc0f89f",
            "365b948e716d45adb70d70ebfc67cdd3",
            "a984a4e289b343cf817575c1ae061684",
            "d3629ea5e7b6473593786e208b67e8f1",
            "ba8bc085acd44fd29fd849c3698c46d1",
            "89a6b81c627b4a26ac9670d423a0bb29",
            "49eae3afa9904085b43d7666cbd4c7b7"
          ]
        },
        "id": "sqpOmceib-SR",
        "outputId": "ebfbc531-eb64-495e-f5d6-fd8226ffec67"
      },
      "execution_count": 28,
      "outputs": [
        {
          "output_type": "display_data",
          "data": {
            "text/plain": [
              "  0%|          | 0/10 [00:00<?, ?it/s]"
            ],
            "application/vnd.jupyter.widget-view+json": {
              "version_major": 2,
              "version_minor": 0,
              "model_id": "a32bf9041cb046bc8ca6f30cef3c5a6e"
            }
          },
          "metadata": {}
        },
        {
          "output_type": "stream",
          "name": "stderr",
          "text": [
            "/usr/local/lib/python3.10/dist-packages/sklearn/decomposition/_fastica.py:542: FutureWarning: Starting in v1.3, whiten='unit-variance' will be used by default.\n",
            "  warnings.warn(\n",
            "/usr/local/lib/python3.10/dist-packages/sklearn/manifold/_isomap.py:373: UserWarning: The number of connected components of the neighbors graph is 9 > 1. Completing the graph to fit Isomap might be slow. Increase the number of neighbors to avoid this issue.\n",
            "  self._fit_transform(X)\n",
            "/usr/local/lib/python3.10/dist-packages/scipy/sparse/_index.py:103: SparseEfficiencyWarning: Changing the sparsity structure of a csr_matrix is expensive. lil_matrix is more efficient.\n",
            "  self._set_intXint(row, col, x.flat[0])\n",
            "/usr/local/lib/python3.10/dist-packages/scipy/sparse/_index.py:103: SparseEfficiencyWarning: Changing the sparsity structure of a csr_matrix is expensive. lil_matrix is more efficient.\n",
            "  self._set_intXint(row, col, x.flat[0])\n",
            "/usr/local/lib/python3.10/dist-packages/scipy/sparse/_index.py:103: SparseEfficiencyWarning: Changing the sparsity structure of a csr_matrix is expensive. lil_matrix is more efficient.\n",
            "  self._set_intXint(row, col, x.flat[0])\n",
            "/usr/local/lib/python3.10/dist-packages/scipy/sparse/_index.py:103: SparseEfficiencyWarning: Changing the sparsity structure of a csr_matrix is expensive. lil_matrix is more efficient.\n",
            "  self._set_intXint(row, col, x.flat[0])\n",
            "/usr/local/lib/python3.10/dist-packages/scipy/sparse/_index.py:103: SparseEfficiencyWarning: Changing the sparsity structure of a csr_matrix is expensive. lil_matrix is more efficient.\n",
            "  self._set_intXint(row, col, x.flat[0])\n",
            "/usr/local/lib/python3.10/dist-packages/scipy/sparse/_index.py:103: SparseEfficiencyWarning: Changing the sparsity structure of a csr_matrix is expensive. lil_matrix is more efficient.\n",
            "  self._set_intXint(row, col, x.flat[0])\n",
            "/usr/local/lib/python3.10/dist-packages/scipy/sparse/_index.py:103: SparseEfficiencyWarning: Changing the sparsity structure of a csr_matrix is expensive. lil_matrix is more efficient.\n",
            "  self._set_intXint(row, col, x.flat[0])\n",
            "/usr/local/lib/python3.10/dist-packages/scipy/sparse/_index.py:103: SparseEfficiencyWarning: Changing the sparsity structure of a csr_matrix is expensive. lil_matrix is more efficient.\n",
            "  self._set_intXint(row, col, x.flat[0])\n",
            "/usr/local/lib/python3.10/dist-packages/scipy/sparse/_index.py:103: SparseEfficiencyWarning: Changing the sparsity structure of a csr_matrix is expensive. lil_matrix is more efficient.\n",
            "  self._set_intXint(row, col, x.flat[0])\n",
            "/usr/local/lib/python3.10/dist-packages/scipy/sparse/_index.py:103: SparseEfficiencyWarning: Changing the sparsity structure of a csr_matrix is expensive. lil_matrix is more efficient.\n",
            "  self._set_intXint(row, col, x.flat[0])\n",
            "/usr/local/lib/python3.10/dist-packages/scipy/sparse/_index.py:103: SparseEfficiencyWarning: Changing the sparsity structure of a csr_matrix is expensive. lil_matrix is more efficient.\n",
            "  self._set_intXint(row, col, x.flat[0])\n",
            "/usr/local/lib/python3.10/dist-packages/scipy/sparse/_index.py:103: SparseEfficiencyWarning: Changing the sparsity structure of a csr_matrix is expensive. lil_matrix is more efficient.\n",
            "  self._set_intXint(row, col, x.flat[0])\n",
            "/usr/local/lib/python3.10/dist-packages/scipy/sparse/_index.py:103: SparseEfficiencyWarning: Changing the sparsity structure of a csr_matrix is expensive. lil_matrix is more efficient.\n",
            "  self._set_intXint(row, col, x.flat[0])\n",
            "/usr/local/lib/python3.10/dist-packages/scipy/sparse/_index.py:103: SparseEfficiencyWarning: Changing the sparsity structure of a csr_matrix is expensive. lil_matrix is more efficient.\n",
            "  self._set_intXint(row, col, x.flat[0])\n",
            "/usr/local/lib/python3.10/dist-packages/scipy/sparse/_index.py:103: SparseEfficiencyWarning: Changing the sparsity structure of a csr_matrix is expensive. lil_matrix is more efficient.\n",
            "  self._set_intXint(row, col, x.flat[0])\n",
            "/usr/local/lib/python3.10/dist-packages/scipy/sparse/_index.py:103: SparseEfficiencyWarning: Changing the sparsity structure of a csr_matrix is expensive. lil_matrix is more efficient.\n",
            "  self._set_intXint(row, col, x.flat[0])\n",
            "/usr/local/lib/python3.10/dist-packages/scipy/sparse/_index.py:103: SparseEfficiencyWarning: Changing the sparsity structure of a csr_matrix is expensive. lil_matrix is more efficient.\n",
            "  self._set_intXint(row, col, x.flat[0])\n",
            "/usr/local/lib/python3.10/dist-packages/scipy/sparse/_index.py:103: SparseEfficiencyWarning: Changing the sparsity structure of a csr_matrix is expensive. lil_matrix is more efficient.\n",
            "  self._set_intXint(row, col, x.flat[0])\n",
            "/usr/local/lib/python3.10/dist-packages/scipy/sparse/_index.py:103: SparseEfficiencyWarning: Changing the sparsity structure of a csr_matrix is expensive. lil_matrix is more efficient.\n",
            "  self._set_intXint(row, col, x.flat[0])\n",
            "/usr/local/lib/python3.10/dist-packages/scipy/sparse/_index.py:103: SparseEfficiencyWarning: Changing the sparsity structure of a csr_matrix is expensive. lil_matrix is more efficient.\n",
            "  self._set_intXint(row, col, x.flat[0])\n",
            "/usr/local/lib/python3.10/dist-packages/scipy/sparse/_index.py:103: SparseEfficiencyWarning: Changing the sparsity structure of a csr_matrix is expensive. lil_matrix is more efficient.\n",
            "  self._set_intXint(row, col, x.flat[0])\n",
            "/usr/local/lib/python3.10/dist-packages/scipy/sparse/_index.py:103: SparseEfficiencyWarning: Changing the sparsity structure of a csr_matrix is expensive. lil_matrix is more efficient.\n",
            "  self._set_intXint(row, col, x.flat[0])\n",
            "/usr/local/lib/python3.10/dist-packages/scipy/sparse/_index.py:103: SparseEfficiencyWarning: Changing the sparsity structure of a csr_matrix is expensive. lil_matrix is more efficient.\n",
            "  self._set_intXint(row, col, x.flat[0])\n",
            "/usr/local/lib/python3.10/dist-packages/scipy/sparse/_index.py:103: SparseEfficiencyWarning: Changing the sparsity structure of a csr_matrix is expensive. lil_matrix is more efficient.\n",
            "  self._set_intXint(row, col, x.flat[0])\n",
            "/usr/local/lib/python3.10/dist-packages/scipy/sparse/_index.py:103: SparseEfficiencyWarning: Changing the sparsity structure of a csr_matrix is expensive. lil_matrix is more efficient.\n",
            "  self._set_intXint(row, col, x.flat[0])\n",
            "/usr/local/lib/python3.10/dist-packages/scipy/sparse/_index.py:103: SparseEfficiencyWarning: Changing the sparsity structure of a csr_matrix is expensive. lil_matrix is more efficient.\n",
            "  self._set_intXint(row, col, x.flat[0])\n",
            "/usr/local/lib/python3.10/dist-packages/scipy/sparse/_index.py:103: SparseEfficiencyWarning: Changing the sparsity structure of a csr_matrix is expensive. lil_matrix is more efficient.\n",
            "  self._set_intXint(row, col, x.flat[0])\n",
            "/usr/local/lib/python3.10/dist-packages/scipy/sparse/_index.py:103: SparseEfficiencyWarning: Changing the sparsity structure of a csr_matrix is expensive. lil_matrix is more efficient.\n",
            "  self._set_intXint(row, col, x.flat[0])\n",
            "/usr/local/lib/python3.10/dist-packages/scipy/sparse/_index.py:103: SparseEfficiencyWarning: Changing the sparsity structure of a csr_matrix is expensive. lil_matrix is more efficient.\n",
            "  self._set_intXint(row, col, x.flat[0])\n",
            "/usr/local/lib/python3.10/dist-packages/scipy/sparse/_index.py:103: SparseEfficiencyWarning: Changing the sparsity structure of a csr_matrix is expensive. lil_matrix is more efficient.\n",
            "  self._set_intXint(row, col, x.flat[0])\n",
            "/usr/local/lib/python3.10/dist-packages/scipy/sparse/_index.py:103: SparseEfficiencyWarning: Changing the sparsity structure of a csr_matrix is expensive. lil_matrix is more efficient.\n",
            "  self._set_intXint(row, col, x.flat[0])\n",
            "/usr/local/lib/python3.10/dist-packages/scipy/sparse/_index.py:103: SparseEfficiencyWarning: Changing the sparsity structure of a csr_matrix is expensive. lil_matrix is more efficient.\n",
            "  self._set_intXint(row, col, x.flat[0])\n",
            "/usr/local/lib/python3.10/dist-packages/scipy/sparse/_index.py:103: SparseEfficiencyWarning: Changing the sparsity structure of a csr_matrix is expensive. lil_matrix is more efficient.\n",
            "  self._set_intXint(row, col, x.flat[0])\n",
            "/usr/local/lib/python3.10/dist-packages/scipy/sparse/_index.py:103: SparseEfficiencyWarning: Changing the sparsity structure of a csr_matrix is expensive. lil_matrix is more efficient.\n",
            "  self._set_intXint(row, col, x.flat[0])\n",
            "/usr/local/lib/python3.10/dist-packages/scipy/sparse/_index.py:103: SparseEfficiencyWarning: Changing the sparsity structure of a csr_matrix is expensive. lil_matrix is more efficient.\n",
            "  self._set_intXint(row, col, x.flat[0])\n",
            "/usr/local/lib/python3.10/dist-packages/scipy/sparse/_index.py:103: SparseEfficiencyWarning: Changing the sparsity structure of a csr_matrix is expensive. lil_matrix is more efficient.\n",
            "  self._set_intXint(row, col, x.flat[0])\n",
            "/usr/local/lib/python3.10/dist-packages/sklearn/manifold/_mds.py:299: FutureWarning: The default value of `normalized_stress` will change to `'auto'` in version 1.4. To suppress this warning, manually set the value of `normalized_stress`.\n",
            "  warnings.warn(\n",
            "/usr/local/lib/python3.10/dist-packages/sklearn/manifold/_spectral_embedding.py:274: UserWarning: Graph is not fully connected, spectral embedding may not work as expected.\n",
            "  warnings.warn(\n"
          ]
        },
        {
          "output_type": "display_data",
          "data": {
            "text/plain": [
              "<Figure size 500x5000 with 10 Axes>"
            ],
            "image/png": "[encoded data removed]"
          },
          "metadata": {}
        }
      ]
    },
    {
      "cell_type": "code",
      "source": [
        "datasets"
      ],
      "metadata": {
        "colab": {
          "base_uri": "https://localhost:8080/"
        },
        "id": "k8n0WB8Q_NZ-",
        "outputId": "ac2f4790-cdcb-4808-c59d-66fc86ccfd54"
      },
      "execution_count": 30,
      "outputs": [
        {
          "output_type": "execute_result",
          "data": {
            "text/plain": [
              "[(array([[-1.57695117e+03, -2.67754981e+01],\n",
              "         [-1.57582215e+03,  9.62641473e+01],\n",
              "         [-1.57670502e+03, -8.39062069e-02],\n",
              "         ...,\n",
              "         [ 1.37120164e+03,  7.70133742e+01],\n",
              "         [ 1.36990997e+03, -5.92471752e+01],\n",
              "         [ 1.37042597e+03,  4.67655409e+00]]),\n",
              "  {'n_clusters': 2},\n",
              "  'PCA(n_components=2, random_state=42)'),\n",
              " (array([[-0.05330214,  0.01845946],\n",
              "         [-0.05872919, -0.04469628],\n",
              "         [-0.05447941,  0.00475878],\n",
              "         ...,\n",
              "         [ 0.04396062, -0.04362961],\n",
              "         [ 0.04996939,  0.02631249],\n",
              "         [ 0.0471474 , -0.00649908]]),\n",
              "  {'n_clusters': 2},\n",
              "  'FastICA(n_components=2, random_state=42)'),\n",
              " (array([[-1.22770394, -0.28167526],\n",
              "         [-1.22770267,  0.98257438],\n",
              "         [-1.22770372, -0.01941134],\n",
              "         ...,\n",
              "         [ 1.06710738,  0.14092321],\n",
              "         [ 1.06710623, -0.66976454],\n",
              "         [ 1.067108  ,  1.00407103]]),\n",
              "  {'n_clusters': 2},\n",
              "  'FactorAnalysis(n_components=2, random_state=42)'),\n",
              " (array([[ 3.77266472e+03, -5.06802541e+01],\n",
              "         [ 3.77490273e+03,  7.33983457e+01],\n",
              "         [ 3.77316995e+03, -2.33775144e+01],\n",
              "         ...,\n",
              "         [ 8.28577228e+02,  1.35217662e+02],\n",
              "         [ 8.26161081e+02, -1.96701115e+00],\n",
              "         [ 8.27435593e+02,  6.28364088e+01]]),\n",
              "  {'n_clusters': 2},\n",
              "  'TruncatedSVD(random_state=42)'),\n",
              " (array([[-1.57695117e+03, -2.67754981e+01],\n",
              "         [-1.57582215e+03,  9.62641473e+01],\n",
              "         [-1.57670502e+03, -8.39062069e-02],\n",
              "         ...,\n",
              "         [ 1.37120164e+03,  7.70133742e+01],\n",
              "         [ 1.36990997e+03, -5.92471752e+01],\n",
              "         [ 1.37042597e+03,  4.67655409e+00]]),\n",
              "  {'n_clusters': 2},\n",
              "  'KernelPCA(n_components=2, random_state=42)'),\n",
              " (array([[-1623.88235158,  -598.35154819],\n",
              "         [-1719.17632625,  -637.84596126],\n",
              "         [-1647.83298276,  -614.90492723],\n",
              "         ...,\n",
              "         [ 2482.1492781 ,    55.43122979],\n",
              "         [ 2590.48358414,  -129.0340458 ],\n",
              "         [ 2561.53719069,   -74.23141739]]),\n",
              "  {'n_clusters': 2},\n",
              "  'Isomap()'),\n",
              " (array([[-0.00253222,  0.00345323],\n",
              "         [-0.00228949,  0.00383511],\n",
              "         [-0.00238164,  0.00369015],\n",
              "         ...,\n",
              "         [ 0.00672388, -0.09709254],\n",
              "         [ 0.00662843, -0.09724252],\n",
              "         [ 0.00684087, -0.09690836]]),\n",
              "  {'n_clusters': 2},\n",
              "  'LocallyLinearEmbedding(random_state=42)'),\n",
              " (array([[-1576.18849531,   -50.34507365],\n",
              "         [-1578.20648513,    54.74791793],\n",
              "         [-1576.62089237,   -28.14069872],\n",
              "         ...,\n",
              "         [ 1367.2660783 ,   132.2877347 ],\n",
              "         [ 1368.17148928,    57.23357516],\n",
              "         [ 1369.87238647,   -35.97815898]]),\n",
              "  {'n_clusters': 2},\n",
              "  'MDS(random_state=42)'),\n",
              " (array([[ 1.43111894e-02, -6.72118026e-15],\n",
              "         [ 1.43111894e-02, -6.72430085e-15],\n",
              "         [ 1.43111894e-02, -6.72525969e-15],\n",
              "         ...,\n",
              "         [-1.35254800e-03,  9.21864998e-03],\n",
              "         [-1.35254800e-03,  9.42781527e-03],\n",
              "         [-1.35254800e-03,  9.39481012e-03]]),\n",
              "  {'n_clusters': 2},\n",
              "  'SpectralEmbedding(random_state=42)'),\n",
              " (array([[-33.339493 ,   4.192856 ],\n",
              "         [-31.794724 ,   4.072596 ],\n",
              "         [-32.70922  ,   3.8225465],\n",
              "         ...,\n",
              "         [ 20.865475 ,   9.199597 ],\n",
              "         [ 23.027203 ,  14.027035 ],\n",
              "         [ 21.003487 ,  11.909371 ]], dtype=float32),\n",
              "  {'n_clusters': 2},\n",
              "  'TSNE(random_state=42)')]"
            ]
          },
          "metadata": {},
          "execution_count": 30
        }
      ]
    },
    {
      "cell_type": "code",
      "source": [
        "\n",
        "from sklearn import cluster, mixture, metrics\n",
        "from sklearn.neighbors import kneighbors_graph\n",
        "from sklearn.preprocessing import StandardScaler\n",
        "from tqdm.notebook import tqdm\n",
        "import time\n",
        "import warnings\n",
        "\n",
        "# https://scikit-learn.org/stable/modules/clustering.html\n",
        "\n",
        "metricas = []\n",
        "\n",
        "plot_num = 1\n",
        "plt.figure(figsize=(9 * 2 + 3, 13))\n",
        "plt.subplots_adjust(left=0.02, right=0.98, bottom=0.001, top=0.95, wspace=0.05, hspace=0.01)\n",
        "\n",
        "for i, (dados, config, nome) in enumerate(tqdm(datasets)):\n",
        "\n",
        "  X, y_true = dados\n",
        "\n",
        "  agrupadores = [\n",
        "      cluster.KMeans(n_clusters=config['n_clusters'], random_state=42),\n",
        "      cluster.MeanShift(), # define o numero de cluster sozinho, em geral, de acordo com a densidade dos dados no espaço\n",
        "      cluster.MiniBatchKMeans(n_clusters=config['n_clusters'], random_state=42), # kmeans otimizado para rodar em grupos grandes\n",
        "      cluster.AgglomerativeClustering(n_clusters=config['n_clusters'], linkage='ward'), # se diferencia do kmeans \n",
        "      # pela forma como calcula distãncia entre os pontos\n",
        "      cluster.SpectralClustering(n_clusters=config['n_clusters'], eigen_solver='arpack', affinity='nearest_neighbors', random_state=42),\n",
        "      cluster.DBSCAN(),\n",
        "      cluster.OPTICS(),\n",
        "      cluster.AffinityPropagation(random_state=42),\n",
        "      cluster.AgglomerativeClustering(n_clusters=config['n_clusters'], linkage='average', metric='cityblock'),\n",
        "      cluster.Birch(n_clusters=config['n_clusters']),\n",
        "      mixture.GaussianMixture(n_components=config['n_clusters'], covariance_type='full'), # não faz parte da biblioteca de \n",
        "      # clusterizador do kmeans, mas da biblioteca de mistura (mixture)\n",
        "  ]\n",
        "\n",
        "  for ag in tqdm(agrupadores):\n",
        "\n",
        "    warnings.filterwarnings('ignore')\n",
        "\n",
        "    t0 = time.time()\n",
        "    ag.fit(X)\n",
        "    t1 = time.time() # gambiarra pra saber o tempo de treinamento\n",
        "\n",
        "    warnings.filterwarnings('default')\n",
        "\n",
        "    if hasattr(ag, \"labels_\"): # tem técnicas que retornam automaticamente as labels dos dados\n",
        "      y_pred = ag.labels_.astype(int)\n",
        "    else: # tem outras que, para isso, precisamos usar o predict\n",
        "      y_pred = ag.predict(X)\n",
        "\n",
        "    if len(set(y_pred)) > 1: # se ele encontra mais de um cluster, há mais métricas\n",
        "    # disponíveis para serem exploradas\n",
        "\n",
        "      metricas.append({\n",
        "        'dataset':nome,\n",
        "        'algorithm':str(ag),\n",
        "        'time':t1-t0,\n",
        "        'mutualInfo(MI)':metrics.mutual_info_score(y_true,y_pred),\n",
        "        'adjustedMI':metrics.adjusted_mutual_info_score(y_true,y_pred),\n",
        "        'normalizedMI':metrics.normalized_mutual_info_score(y_true,y_pred),\n",
        "        'rand(R)':metrics.rand_score(y_true,y_pred),\n",
        "        'adjustedR':metrics.adjusted_rand_score(y_true,y_pred),\n",
        "        'completeness':metrics.completeness_score(y_true,y_pred),\n",
        "        'fowlkesMallows':metrics.fowlkes_mallows_score(y_true,y_pred),\n",
        "        'homogeneity':metrics.homogeneity_score(y_true,y_pred),\n",
        "        'vMeasure':metrics.v_measure_score(y_true,y_pred),\n",
        "        'calinskiHarabasz':metrics.calinski_harabasz_score(X,y_pred),\n",
        "        'daviesBouldin':metrics.davies_bouldin_score(X,y_pred),\n",
        "        'silhouette':metrics.silhouette_score(X,y_pred),\n",
        "      })\n",
        "\n",
        "    else: # caso contrário, somente estas:\n",
        "      # esta técnica só gerou um grupo (cluster)\n",
        "      metricas.append({\n",
        "        'dataset':nome,\n",
        "        'algorithm':str(ag),\n",
        "        'time':t1-t0,\n",
        "      })\n",
        "\n",
        "    plt.subplot(len(datasets), len(agrupadores), plot_num)\n",
        "    if i == 0:\n",
        "      plt.title(str(ag), size=6)\n",
        "\n",
        "    plt.scatter(X[:, 0], X[:, 1], s=10, c=y_pred)\n",
        "    plot_num += 1\n",
        "\n",
        "plt.show()"
      ],
      "metadata": {
        "colab": {
          "base_uri": "https://localhost:8080/",
          "height": 287,
          "referenced_widgets": [
            "98a765fbd69f43368df05dab6efc0f0b",
            "0dba29603ef44d919d2e6b78b62915b7",
            "8e9096b171014ed391f35510e763a905",
            "9539721f4c9649068cf5175386113cbe",
            "d84f8c3d68f944abaeb61c95849133d4",
            "4181c109d7de493bb6a97aac60f8e51b",
            "241fa716443f4ebaba755baf5e8ad551",
            "d723b429b3964dc283423fad5ec96286",
            "71c0ac58636a4335a33f40601e70b0c7",
            "78a38ea4f4fc43dd88013db9cd17cb97",
            "a93a73159db845d89e4164982963f1f2"
          ]
        },
        "id": "924PmBbd99sD",
        "outputId": "62976e2e-8f9b-4fa6-cbc5-7c2d9fb62fd3"
      },
      "execution_count": 29,
      "outputs": [
        {
          "output_type": "display_data",
          "data": {
            "text/plain": [
              "  0%|          | 0/10 [00:00<?, ?it/s]"
            ],
            "application/vnd.jupyter.widget-view+json": {
              "version_major": 2,
              "version_minor": 0,
              "model_id": "98a765fbd69f43368df05dab6efc0f0b"
            }
          },
          "metadata": {}
        },
        {
          "output_type": "error",
          "ename": "ValueError",
          "evalue": "ignored",
          "traceback": [
            "\u001b[0;31m---------------------------------------------------------------------------\u001b[0m",
            "\u001b[0;31mValueError\u001b[0m                                Traceback (most recent call last)",
            "\u001b[0;32m<ipython-input-29-3d2f43b4b6a8>\u001b[0m in \u001b[0;36m<cell line: 16>\u001b[0;34m()\u001b[0m\n\u001b[1;32m     16\u001b[0m \u001b[0;32mfor\u001b[0m \u001b[0mi\u001b[0m\u001b[0;34m,\u001b[0m \u001b[0;34m(\u001b[0m\u001b[0mdados\u001b[0m\u001b[0;34m,\u001b[0m \u001b[0mconfig\u001b[0m\u001b[0;34m,\u001b[0m \u001b[0mnome\u001b[0m\u001b[0;34m)\u001b[0m \u001b[0;32min\u001b[0m \u001b[0menumerate\u001b[0m\u001b[0;34m(\u001b[0m\u001b[0mtqdm\u001b[0m\u001b[0;34m(\u001b[0m\u001b[0mdatasets\u001b[0m\u001b[0;34m)\u001b[0m\u001b[0;34m)\u001b[0m\u001b[0;34m:\u001b[0m\u001b[0;34m\u001b[0m\u001b[0;34m\u001b[0m\u001b[0m\n\u001b[1;32m     17\u001b[0m \u001b[0;34m\u001b[0m\u001b[0m\n\u001b[0;32m---> 18\u001b[0;31m   \u001b[0mX\u001b[0m\u001b[0;34m,\u001b[0m \u001b[0my_true\u001b[0m \u001b[0;34m=\u001b[0m \u001b[0mdados\u001b[0m\u001b[0;34m\u001b[0m\u001b[0;34m\u001b[0m\u001b[0m\n\u001b[0m\u001b[1;32m     19\u001b[0m \u001b[0;34m\u001b[0m\u001b[0m\n\u001b[1;32m     20\u001b[0m   agrupadores = [\n",
            "\u001b[0;31mValueError\u001b[0m: too many values to unpack (expected 2)"
          ]
        },
        {
          "output_type": "display_data",
          "data": {
            "text/plain": [
              "<Figure size 2100x1300 with 0 Axes>"
            ]
          },
          "metadata": {}
        }
      ]
    }
  ]
}