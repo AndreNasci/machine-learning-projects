{
  "nbformat": 4,
  "nbformat_minor": 0,
  "metadata": {
    "colab": {
      "provenance": [],
      "authorship_tag": "ABX9TyMKr6lfjR+QqsrG8/ExMWkj",
      "include_colab_link": true
    },
    "kernelspec": {
      "name": "python3",
      "display_name": "Python 3"
    },
    "language_info": {
      "name": "python"
    }
  },
  "cells": [
    {
      "cell_type": "markdown",
      "metadata": {
        "id": "view-in-github",
        "colab_type": "text"
      },
      "source": [
        "<a href=\"https://colab.research.google.com/github/AndreNasci/TinyML/blob/main/List_2_TF_with_Mutiple_Layers.ipynb\" target=\"_parent\"><img src=\"https://colab.research.google.com/assets/colab-badge.svg\" alt=\"Open In Colab\"/></a>"
      ]
    },
    {
      "cell_type": "markdown",
      "source": [
        "# List 2 - TF with Multiple Layers\n",
        "André Augusto César do Nascimento <br>\n",
        "2018001244"
      ],
      "metadata": {
        "id": "rA-zdDWAmIGl"
      }
    },
    {
      "cell_type": "markdown",
      "source": [
        "### First model - 1 neuron, 1 layer"
      ],
      "metadata": {
        "id": "TwLRRzbOvxfh"
      }
    },
    {
      "cell_type": "code",
      "source": [
        "# Import libraries\n",
        "import tensorflow as tf\n",
        "import numpy as np\n",
        "\n",
        "print(tf.version.VERSION)"
      ],
      "metadata": {
        "colab": {
          "base_uri": "https://localhost:8080/"
        },
        "id": "gR7JDZMMm-bJ",
        "outputId": "0ba45157-d146-4d56-c7de-baec96cd868e"
      },
      "execution_count": 1,
      "outputs": [
        {
          "output_type": "stream",
          "name": "stdout",
          "text": [
            "2.12.0\n"
          ]
        }
      ]
    },
    {
      "cell_type": "code",
      "execution_count": 8,
      "metadata": {
        "id": "m56DI7ltmAYH"
      },
      "outputs": [],
      "source": [
        "# Layer code - Neural network with one neuron\n",
        "my_layer = tf.keras.layers.Dense(units=1, input_shape=[1])\n",
        "\n",
        "# tf.keras.Sequential = groups a linear stack of layers into a tf.keras.model\n",
        "model = tf.keras.Sequential([my_layer])\n",
        "\n",
        "# compile the model\n",
        "model.compile(optimizer='sgd', loss='mean_squared_error')"
      ]
    },
    {
      "cell_type": "code",
      "source": [
        "# Dataset\n",
        "xs = np.array([-1.0, 0.0, 1.0, 2.0, 3.0, 4.0], dtype=float)\n",
        "ys = np.array([-3.0, -1.0, 1.0, 3.0, 5.0, 7.0], dtype=float)"
      ],
      "metadata": {
        "id": "FE22QQOBpR2C"
      },
      "execution_count": 9,
      "outputs": []
    },
    {
      "cell_type": "code",
      "source": [
        "model.summary()"
      ],
      "metadata": {
        "colab": {
          "base_uri": "https://localhost:8080/"
        },
        "id": "SlSyer0mpdkY",
        "outputId": "40980bee-9d5d-4f39-e74b-2f244c580e44"
      },
      "execution_count": 10,
      "outputs": [
        {
          "output_type": "stream",
          "name": "stdout",
          "text": [
            "Model: \"sequential_3\"\n",
            "_________________________________________________________________\n",
            " Layer (type)                Output Shape              Param #   \n",
            "=================================================================\n",
            " dense_3 (Dense)             (None, 1)                 2         \n",
            "                                                                 \n",
            "=================================================================\n",
            "Total params: 2\n",
            "Trainable params: 2\n",
            "Non-trainable params: 0\n",
            "_________________________________________________________________\n"
          ]
        }
      ]
    },
    {
      "cell_type": "code",
      "source": [
        "# Training the model - 500 steps/epochs\n",
        "# Learning the internal parameters of the neuron\n",
        "model.fit(xs, ys, epochs=500)"
      ],
      "metadata": {
        "id": "H7FpFd1XpX4m"
      },
      "execution_count": null,
      "outputs": []
    },
    {
      "cell_type": "code",
      "source": [
        "# Predict a value\n",
        "print(model.predict([10.0]))"
      ],
      "metadata": {
        "colab": {
          "base_uri": "https://localhost:8080/"
        },
        "id": "YioXlhv9qGyb",
        "outputId": "138bdc93-6021-481b-f847-a817846c0285"
      },
      "execution_count": 16,
      "outputs": [
        {
          "output_type": "stream",
          "name": "stdout",
          "text": [
            "1/1 [==============================] - 0s 38ms/step\n",
            "[[18.98262]]\n"
          ]
        }
      ]
    },
    {
      "cell_type": "code",
      "source": [
        "# Inspecting the neuron\n",
        "print(my_layer.get_weights())\n",
        "# [w value, b value]"
      ],
      "metadata": {
        "colab": {
          "base_uri": "https://localhost:8080/"
        },
        "id": "8K4o1-_jrj-7",
        "outputId": "f8372df1-5a06-4b4f-dc3a-48cb4a0f0367"
      },
      "execution_count": 18,
      "outputs": [
        {
          "output_type": "stream",
          "name": "stdout",
          "text": [
            "[array([[1.9974812]], dtype=float32), array([-0.992191], dtype=float32)]\n"
          ]
        }
      ]
    },
    {
      "cell_type": "code",
      "source": [
        "# Saving model to analyse\n",
        "model.save('first_model.h5')"
      ],
      "metadata": {
        "id": "4GNbo65HsJ8T"
      },
      "execution_count": 20,
      "outputs": []
    },
    {
      "cell_type": "markdown",
      "source": [
        "### Second model - 3 neurons, 2 layers"
      ],
      "metadata": {
        "id": "KoVhl1tTv5gk"
      }
    },
    {
      "cell_type": "code",
      "source": [
        "# Creating layers\n",
        "my_layer_1 = tf.keras.layers.Dense(units=2, input_shape=[1])\n",
        "my_layer_2 = tf.keras.layers.Dense(units=1)\n",
        "\n",
        "# Composing and compiling the model\n",
        "model = tf.keras.Sequential([my_layer_1, my_layer_2])\n",
        "model.compile(optimizer='sgd', loss='mean_squared_error')"
      ],
      "metadata": {
        "id": "c9E35jm6vu6b"
      },
      "execution_count": 23,
      "outputs": []
    },
    {
      "cell_type": "code",
      "source": [
        "# Model description\n",
        "model.summary()"
      ],
      "metadata": {
        "colab": {
          "base_uri": "https://localhost:8080/"
        },
        "id": "DN5cLbLQwx3I",
        "outputId": "09094c1c-967f-4495-87a2-dc7854029022"
      },
      "execution_count": 25,
      "outputs": [
        {
          "output_type": "stream",
          "name": "stdout",
          "text": [
            "Model: \"sequential_6\"\n",
            "_________________________________________________________________\n",
            " Layer (type)                Output Shape              Param #   \n",
            "=================================================================\n",
            " dense_8 (Dense)             (None, 2)                 4         \n",
            "                                                                 \n",
            " dense_9 (Dense)             (None, 1)                 3         \n",
            "                                                                 \n",
            "=================================================================\n",
            "Total params: 7\n",
            "Trainable params: 7\n",
            "Non-trainable params: 0\n",
            "_________________________________________________________________\n"
          ]
        }
      ]
    },
    {
      "cell_type": "code",
      "source": [
        "# Dataset\n",
        "xs = np.array([-1.0, 0.0, 1.0, 2.0, 3.0, 4.0], dtype=float)\n",
        "ys = np.array([-3.0, -1.0, 1.0, 3.0, 5.0, 7.0], dtype=float)\n",
        "\n",
        "# Training the model\n",
        "model.fit(xs, ys, epochs=500)"
      ],
      "metadata": {
        "id": "A4Fi54u0wngD"
      },
      "execution_count": null,
      "outputs": []
    },
    {
      "cell_type": "code",
      "source": [
        "# Inspecting the neurons\n",
        "print(\"Layer 1:\", my_layer_1.get_weights())\n",
        "print(\"Layer 2:\", my_layer_2.get_weights())\n",
        "# [w values, b values]"
      ],
      "metadata": {
        "colab": {
          "base_uri": "https://localhost:8080/"
        },
        "id": "lfBkg-4qxErm",
        "outputId": "70933d44-2c96-455d-c8bb-cd3f6d1b2042"
      },
      "execution_count": 26,
      "outputs": [
        {
          "output_type": "stream",
          "name": "stdout",
          "text": [
            "Layer 1: [array([[1.464588  , 0.26778272]], dtype=float32), array([-0.38417536,  0.1968715 ], dtype=float32)]\n",
            "Layer 2: [array([[ 1.5213453],\n",
            "       [-0.8519761]], dtype=float32), array([-0.24780574], dtype=float32)]\n"
          ]
        }
      ]
    },
    {
      "cell_type": "markdown",
      "source": [
        "w -> 1 per input <br>\n",
        "b -> 1 per neuron\n",
        "\n",
        "The neuron in the second layer has 2 inputs. <br>\n",
        "y = w1x1 + w2x2 + b"
      ],
      "metadata": {
        "id": "IBu_u208xXGx"
      }
    },
    {
      "cell_type": "code",
      "source": [
        "# Inspecting the outputs manually\n",
        "\n",
        "value_to_predict = 10.0\n",
        "\n",
        "layer1_w1 = (my_layer_1.get_weights()[0][0][0])\n",
        "layer1_w2 = (my_layer_1.get_weights()[0][0][1])\n",
        "layer1_b1 = (my_layer_1.get_weights()[1][0])\n",
        "layer1_b2 = (my_layer_1.get_weights()[1][1])\n",
        "\n",
        "layer2_w1 = (my_layer_2.get_weights()[0][0])\n",
        "layer2_w2 = (my_layer_2.get_weights()[0][1])\n",
        "layer2_b = (my_layer_2.get_weights()[1][0])\n",
        "\n",
        "neuron1_output = (layer1_w1 * value_to_predict) + layer1_b1\n",
        "neuron2_output = (layer1_w2 * value_to_predict) + layer1_b2\n",
        "neuron3_output = (layer2_w1 * neuron1_output) + (layer2_w2 * neuron2_output) + layer2_b\n",
        "\n",
        "print(neuron3_output)"
      ],
      "metadata": {
        "colab": {
          "base_uri": "https://localhost:8080/"
        },
        "id": "rDzNAR3Yxclb",
        "outputId": "b58afa54-aa58-4691-854b-95e9146fb236"
      },
      "execution_count": 30,
      "outputs": [
        {
          "output_type": "stream",
          "name": "stdout",
          "text": [
            "[18.999996]\n"
          ]
        }
      ]
    },
    {
      "cell_type": "code",
      "source": [
        "# Saving model to analyse\n",
        "model.save('second_model.h5')"
      ],
      "metadata": {
        "id": "hbW2DsoP0Ugx"
      },
      "execution_count": 31,
      "outputs": []
    },
    {
      "cell_type": "markdown",
      "source": [
        "### List 2 Deliveries\n",
        "\n",
        "a) Done above\n",
        "\n",
        "b) New model with the following layers: <br>\n",
        "`my_layer_1 = tf.keras.layers.Dense(units=2, input_shape=[1])`<br>\n",
        "`my_layer_2 = tf.keras.layers.Dense(units=2, input_shape=[1])`<br>\n",
        "`my_layer_3 = tf.keras.layers.Dense(units=1)`"
      ],
      "metadata": {
        "id": "jFHPKq7e0A7f"
      }
    },
    {
      "cell_type": "code",
      "source": [
        "# Creating layers\n",
        "my_layer_1 = tf.keras.layers.Dense(units=2, input_shape=[1])\n",
        "my_layer_2 = tf.keras.layers.Dense(units=2, input_shape=[1])\n",
        "my_layer_3 = tf.keras.layers.Dense(units=1)\n",
        "\n",
        "# Composing and compiling the model\n",
        "model = tf.keras.Sequential([my_layer_1, my_layer_2, my_layer_3])\n",
        "model.compile(optimizer='sgd', loss='mean_squared_error')"
      ],
      "metadata": {
        "id": "7rwZmB4D1E4Z"
      },
      "execution_count": 121,
      "outputs": []
    },
    {
      "cell_type": "code",
      "source": [
        "# Model description\n",
        "model.summary()"
      ],
      "metadata": {
        "colab": {
          "base_uri": "https://localhost:8080/"
        },
        "id": "UhGzImQS1cEW",
        "outputId": "3707d6bd-587d-4b45-da17-06679a54fd1c"
      },
      "execution_count": 122,
      "outputs": [
        {
          "output_type": "stream",
          "name": "stdout",
          "text": [
            "Model: \"sequential_16\"\n",
            "_________________________________________________________________\n",
            " Layer (type)                Output Shape              Param #   \n",
            "=================================================================\n",
            " dense_37 (Dense)            (None, 2)                 4         \n",
            "                                                                 \n",
            " dense_38 (Dense)            (None, 2)                 6         \n",
            "                                                                 \n",
            " dense_39 (Dense)            (None, 1)                 3         \n",
            "                                                                 \n",
            "=================================================================\n",
            "Total params: 13\n",
            "Trainable params: 13\n",
            "Non-trainable params: 0\n",
            "_________________________________________________________________\n"
          ]
        }
      ]
    },
    {
      "cell_type": "code",
      "source": [
        "predictions = []\n",
        "class myCallback(tf.keras.callbacks.Callback):\n",
        "  def on_epoch_end(self, epoch, logs={}):\n",
        "    predictions.append(model.predict(xs))\n",
        "callbacks = myCallback()"
      ],
      "metadata": {
        "id": "A07CWdIaLPly"
      },
      "execution_count": 123,
      "outputs": []
    },
    {
      "cell_type": "code",
      "source": [
        "# Dataset\n",
        "xs = np.array([-1.0, 0.0, 1.0, 2.0, 3.0, 4.0], dtype=float)\n",
        "ys = np.array([-3.0, -1.0, 1.0, 3.0, 5.0, 7.0], dtype=float)\n",
        "\n",
        "# Training the model - the amount of epochs was reduced to avoid overfit\n",
        "history = model.fit(xs, ys, epochs=100, callbacks=[callbacks], verbose=0)\n",
        "#model.fit(xs, ys, epochs=100)"
      ],
      "metadata": {
        "id": "bf5U2ZHe11gU"
      },
      "execution_count": null,
      "outputs": []
    },
    {
      "cell_type": "code",
      "source": [
        "# Inspecting the neurons\n",
        "print(\"Layer 1:\\n\", my_layer_1.get_weights())\n",
        "print(\"Layer 2:\\n\", my_layer_2.get_weights())\n",
        "print(\"Layer 3:\\n\", my_layer_3.get_weights())\n",
        "# [w values, b values]"
      ],
      "metadata": {
        "colab": {
          "base_uri": "https://localhost:8080/"
        },
        "id": "T5nQcrrm19Jj",
        "outputId": "4c30c0d8-33d8-48ba-e2e1-e3463205d3bd"
      },
      "execution_count": 125,
      "outputs": [
        {
          "output_type": "stream",
          "name": "stdout",
          "text": [
            "Layer 1:\n",
            " [array([[0.76912796, 1.4479206 ]], dtype=float32), array([ 0.14641052, -0.18567443], dtype=float32)]\n",
            "Layer 2:\n",
            " [array([[ 0.8954161, -0.9164459],\n",
            "       [-1.1371545,  1.1238066]], dtype=float32), array([ 0.05493158, -0.10728768], dtype=float32)]\n",
            "Layer 3:\n",
            " [array([[-0.72173893],\n",
            "       [ 1.418624  ]], dtype=float32), array([-0.07483255], dtype=float32)]\n"
          ]
        }
      ]
    },
    {
      "cell_type": "code",
      "source": [
        "# Testing the model\n",
        "value_to_predict = 10.0\n",
        "print(model.predict([value_to_predict]))"
      ],
      "metadata": {
        "colab": {
          "base_uri": "https://localhost:8080/"
        },
        "id": "mcZcCy8Q2W7-",
        "outputId": "5325196f-5b5f-47be-b80e-dd3481e1bc4e"
      },
      "execution_count": 126,
      "outputs": [
        {
          "output_type": "stream",
          "name": "stdout",
          "text": [
            "1/1 [==============================] - 0s 49ms/step\n",
            "[[18.997145]]\n"
          ]
        }
      ]
    },
    {
      "cell_type": "code",
      "source": [
        "# Inspecting the outputs manually\n",
        "\n",
        "# Layer 1\n",
        "  # Neuron 1\n",
        "layer1_w1 = (my_layer_1.get_weights()[0][0][0])\n",
        "layer1_b1 = (my_layer_1.get_weights()[1][0])\n",
        "  # Neuron 2\n",
        "layer1_w2 = (my_layer_1.get_weights()[0][0][1])\n",
        "layer1_b2 = (my_layer_1.get_weights()[1][1])\n",
        "\n",
        "# Layer 2\n",
        "  # Neuron 3\n",
        "layer2_w1 = (my_layer_2.get_weights()[0][0][0])\n",
        "layer2_w2 = (my_layer_2.get_weights()[0][1][0])\n",
        "layer2_b1 = (my_layer_2.get_weights()[1][0])\n",
        "  # Neuron 4\n",
        "layer2_w3 = (my_layer_2.get_weights()[0][0][1])\n",
        "layer2_w4 = (my_layer_2.get_weights()[0][1][1])\n",
        "layer2_b2 = (my_layer_2.get_weights()[1][1])\n",
        "\n",
        "# Layer 3\n",
        "  # Neuron 5\n",
        "layer3_w1 = (my_layer_3.get_weights()[0][0])\n",
        "layer3_w2 = (my_layer_3.get_weights()[0][1])\n",
        "layer3_b = (my_layer_3.get_weights()[1][0])\n",
        "\n",
        "# OUTPUTS\n",
        "  # Layer 1\n",
        "neuron1_output = (layer1_w1 * value_to_predict) + layer1_b1\n",
        "neuron2_output = (layer1_w2 * value_to_predict) + layer1_b2\n",
        "  # Layer 2\n",
        "neuron3_output = (layer2_w1 * neuron1_output) + (layer2_w2 * neuron2_output) + layer2_b1\n",
        "neuron4_output = (layer2_w3 * neuron1_output) + (layer2_w4 * neuron2_output) + layer2_b2 \n",
        "  # Layer 3\n",
        "neuron5_output = (layer3_w1 * neuron3_output) + (layer3_w2 * neuron4_output) + layer3_b\n",
        "\n",
        "print(neuron5_output)"
      ],
      "metadata": {
        "colab": {
          "base_uri": "https://localhost:8080/"
        },
        "id": "3Usiq8tO2grd",
        "outputId": "925fc2c0-ae1d-452c-cc6e-e5d6fa5f22db"
      },
      "execution_count": 127,
      "outputs": [
        {
          "output_type": "stream",
          "name": "stdout",
          "text": [
            "[18.997143]\n"
          ]
        }
      ]
    },
    {
      "cell_type": "code",
      "source": [
        "# Saving model to analyse\n",
        "model.save('third_model.h5')"
      ],
      "metadata": {
        "id": "7Z8mbKYOL5nl"
      },
      "execution_count": 128,
      "outputs": []
    },
    {
      "cell_type": "code",
      "source": [
        "# Plot model loss\n",
        "import matplotlib.pyplot as plt\n",
        "plt.plot(history.history['loss'])\n",
        "plt.title('model loss')\n",
        "plt.ylabel('loss')\n",
        "plt.xlabel('epoch')\n",
        "plt.legend(['train'], loc='upper right')\n",
        "plt.show()"
      ],
      "metadata": {
        "colab": {
          "base_uri": "https://localhost:8080/",
          "height": 472
        },
        "id": "662N7PFzKAqO",
        "outputId": "2a91638b-e51d-4960-d597-9e8989a8a7b5"
      },
      "execution_count": 130,
      "outputs": [
        {
          "output_type": "display_data",
          "data": {
            "text/plain": [
              "<Figure size 640x480 with 1 Axes>"
            ],
            "image/png": "[encoded data removed]"
          },
          "metadata": {}
        }
      ]
    }
  ]
}