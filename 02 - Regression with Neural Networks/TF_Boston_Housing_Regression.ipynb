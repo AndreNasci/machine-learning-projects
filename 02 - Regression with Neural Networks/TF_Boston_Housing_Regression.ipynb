{
  "cells": [
    {
      "cell_type": "markdown",
      "metadata": {
        "id": "Zo2JiEtkzvQL"
      },
      "source": [
        "# House Pricing Regression using Dense Neural Network (DNN)"
      ]
    },
    {
      "cell_type": "markdown",
      "metadata": {
        "id": "z56YN3JZ0Duh"
      },
      "source": [
        "## Importar Bibliotecas"
      ]
    },
    {
      "cell_type": "code",
      "execution_count": 1,
      "metadata": {
        "id": "YfPnR74Gzc_q"
      },
      "outputs": [],
      "source": [
        "import numpy as np\n",
        "import matplotlib.pyplot as plt\n",
        "import tensorflow as tf"
      ]
    },
    {
      "cell_type": "markdown",
      "metadata": {
        "id": "xrGLDV6q0PCc"
      },
      "source": [
        "## Load e descrição do Dataset\n",
        "[The Boston house-price data](http://lib.stat.cmu.edu/datasets/boston)\n",
        "Esse dataset, mantido pela Carnegie Mellon University, é um conjunto de dados clássico e frequentemente usado em aprendizado de máquina e regressão. Ele contém informações sobre 506 casas vendidas em subúrbios de Boston entre 1970 e 1978. O objetivo do conjunto de dados é prever o preço de uma casa com base em 13 variáveis (*features*), como:\n",
        "\n",
        "- CRIM: taxa de criminalidade per capita (por town).\n",
        "- ZN: proporção de área residencial zoneada para grandes lotes\n",
        "- INDUS: proporção de área zoneada para uso industrial (por town)\n",
        "- CHAS: Charles River (binário: 1 se beira o rio, 0 se não)\n",
        "- NOX: concentração de óxidos de nitrogênio (partes por milhão)\n",
        "- RM: número médio de quartos por moradia\n",
        "- AGE: proporção de unidades ocupadas pelos proprietários construídas antes de 1940\n",
        "- DIS: distância ponderada para cinco centros de emprego de Boston (milhas)\n",
        "- RAD: índice de acessibilidade de radial highways\n",
        "- TAX: taxa de imposto de propriedade por $10.000\n",
        "- PTRATIO: razão aluno-professor nas escolas (por town).\n",
        "- B: 1000(Bk - 0,63)^2 onde Bk é a proporção de negros (por town).\n",
        "- LSTAT: porcentagem da população que não concluiu o ensino médio\n",
        "\n",
        "\n",
        "<br>\n",
        "O target, ou valor a ser previsto, é dado pela coluna MEDV:\n",
        "\n",
        "- MEDV (TARGET): Valor mediano das casas ocupadas pelos proprietários em US$ 1.000s\n",
        "\n",
        "<br>\n",
        "\n",
        "**Objetivo**\n",
        "Construir um **modelo de regressão** que usa as informações disponíveis (*features*) dessa base de dados como input e retorna um único valor de predição do valor da casa (em US$ 1000) como output.\n",
        "\n",
        "O dataset pode ser obtido diretamente de: [tf.keras.datasets.boston_housing](https://www.tensorflow.org/api_docs/python/tf/keras/datasets/boston_housing/load_data)\n"
      ]
    },
    {
      "cell_type": "code",
      "execution_count": 17,
      "metadata": {
        "id": "Ib2Ihepx0N6h"
      },
      "outputs": [],
      "source": [
        "# O keras possui alguns datasets prontos para serem usados\n",
        "# Entre eles, o boston_housing (descrito acima)\n",
        "data = tf.keras.datasets.boston_housing\n",
        "\n",
        "# dividindo o conjunto de dados entre os dados de treinamento e teste\n",
        "(x_treino, y_treino), (x_teste, y_teste) = data.load_data()"
      ]
    },
    {
      "cell_type": "code",
      "execution_count": 4,
      "metadata": {
        "id": "pq1bMIRd38b8",
        "outputId": "d956b639-a48a-4204-8ea1-3f1fda4c988d",
        "colab": {
          "base_uri": "https://localhost:8080/"
        }
      },
      "outputs": [
        {
          "output_type": "stream",
          "name": "stdout",
          "text": [
            "(404, 13)\n",
            "(404,)\n"
          ]
        }
      ],
      "source": [
        "# 404 samples, com 13 colunas (features)\n",
        "print(y_treino.shape)\n",
        "# 404 saidas (labels)\n",
        "print(y_treino.shape)"
      ]
    },
    {
      "cell_type": "code",
      "execution_count": 5,
      "metadata": {
        "id": "qHaUYnSs4bq4",
        "outputId": "0049bc11-58a9-422b-be24-56de12d7e385",
        "colab": {
          "base_uri": "https://localhost:8080/"
        }
      },
      "outputs": [
        {
          "output_type": "stream",
          "name": "stdout",
          "text": [
            "(102, 13)\n",
            "(102,)\n"
          ]
        }
      ],
      "source": [
        "# verificando dados separados para teste\n",
        "print(x_teste.shape)\n",
        "print(y_teste.shape)"
      ]
    },
    {
      "cell_type": "code",
      "source": [
        "# verificando features da linha 0\n",
        "y_treino[0]"
      ],
      "metadata": {
        "id": "4AZZyahM2Gxh",
        "outputId": "afa9ae22-9666-4ce6-8b93-2dcb0fd20078",
        "colab": {
          "base_uri": "https://localhost:8080/"
        }
      },
      "execution_count": 8,
      "outputs": [
        {
          "output_type": "execute_result",
          "data": {
            "text/plain": [
              "array([  1.23247,   0.     ,   8.14   ,   0.     ,   0.538  ,   6.142  ,\n",
              "        91.7    ,   3.9769 ,   4.     , 307.     ,  21.     , 396.9    ,\n",
              "        18.72   ])"
            ]
          },
          "metadata": {},
          "execution_count": 8
        }
      ]
    },
    {
      "cell_type": "code",
      "source": [
        "# label da linha 0\n",
        "y_treino[0]"
      ],
      "metadata": {
        "id": "mDSLZRoz6xeo",
        "outputId": "40cf1100-4766-48ab-de1a-5405c4dd7f8d",
        "colab": {
          "base_uri": "https://localhost:8080/"
        }
      },
      "execution_count": 9,
      "outputs": [
        {
          "output_type": "execute_result",
          "data": {
            "text/plain": [
              "15.2"
            ]
          },
          "metadata": {},
          "execution_count": 9
        }
      ]
    },
    {
      "cell_type": "markdown",
      "metadata": {
        "id": "44ENgGg2Qudp"
      },
      "source": [
        "### Explorando o Target (Y)"
      ]
    },
    {
      "cell_type": "code",
      "execution_count": 10,
      "metadata": {
        "id": "imESCCOODh8K",
        "outputId": "b0665ef9-4d74-4eb3-aa48-2be230a8cd26",
        "colab": {
          "base_uri": "https://localhost:8080/"
        }
      },
      "outputs": [
        {
          "output_type": "execute_result",
          "data": {
            "text/plain": [
              "array([15.2, 42.3, 50. , 21.1, 17.7])"
            ]
          },
          "metadata": {},
          "execution_count": 10
        }
      ],
      "source": [
        "# 5 primeiros itens do target\n",
        "y_treino[:5]"
      ]
    },
    {
      "cell_type": "code",
      "execution_count": 15,
      "metadata": {
        "id": "82O77YHNybhA",
        "outputId": "8f7ce472-4e1b-4323-96b4-871bcaacd5de",
        "colab": {
          "base_uri": "https://localhost:8080/"
        }
      },
      "outputs": [
        {
          "output_type": "stream",
          "name": "stdout",
          "text": [
            "Preço mínimo em $K: 5.0\n",
            "Preço médio $K: 22.4\n",
            "Preço máximo em $K: 50.0\n"
          ]
        }
      ],
      "source": [
        "# Obtendo algumas métricas das labels de treino\n",
        "print('Preço mínimo em $K:', y_treino.min())\n",
        "print('Preço médio $K:', round(y_treino.mean(), 2))\n",
        "print('Preço máximo em $K:', y_treino.max())"
      ]
    },
    {
      "cell_type": "code",
      "source": [
        "# Obtendo algumas métricas das labels de teste\n",
        "print('Preço mínimo em $K:', y_teste.min())\n",
        "print('Preço médio $K:', round(y_teste.mean(), 2))\n",
        "print('Preço máximo em $K:', y_teste.max())"
      ],
      "metadata": {
        "colab": {
          "base_uri": "https://localhost:8080/"
        },
        "id": "j5MbVxfOdbMH",
        "outputId": "db3bf17f-4068-4c24-d7bd-43b9da440244"
      },
      "execution_count": 16,
      "outputs": [
        {
          "output_type": "stream",
          "name": "stdout",
          "text": [
            "Preço mínimo em $K: 5.6\n",
            "Preço médio $K: 23.08\n",
            "Preço máximo em $K: 50.0\n"
          ]
        }
      ]
    },
    {
      "cell_type": "code",
      "execution_count": 18,
      "metadata": {
        "id": "1SCj8H9rysOM",
        "outputId": "9bf6d0f7-6425-442d-b1f4-9d65714aaa76",
        "colab": {
          "base_uri": "https://localhost:8080/",
          "height": 449
        }
      },
      "outputs": [
        {
          "output_type": "display_data",
          "data": {
            "text/plain": [
              "<Figure size 640x480 with 1 Axes>"
            ],
            "image/png": "[encoded data removed]"
          },
          "metadata": {}
        }
      ],
      "source": [
        "# Gerando histogramas com essas métricas\n",
        "plt.hist(y_treino, label='Treino')\n",
        "plt.hist(y_teste, label = 'Teste')\n",
        "plt.xlabel('Preço em K$')\n",
        "plt.legend();\n",
        "# Notar que os dados de treinamento tem mais ou menos a mesma distribuição\n",
        "# Isso é algo bom e necessário para um bom treinamento do algoritmo"
      ]
    },
    {
      "cell_type": "markdown",
      "metadata": {
        "id": "_M47lzg7z3vI"
      },
      "source": [
        "### Explorando os Atributos de Entrada (X)"
      ]
    },
    {
      "cell_type": "code",
      "source": [
        "# Quantas features existem no dataset\n",
        "len(x_treino[1])"
      ],
      "metadata": {
        "id": "Idro-sR28Ava",
        "outputId": "416de856-b673-4f9d-eb29-f9f41cf00595",
        "colab": {
          "base_uri": "https://localhost:8080/"
        }
      },
      "execution_count": 19,
      "outputs": [
        {
          "output_type": "execute_result",
          "data": {
            "text/plain": [
              "13"
            ]
          },
          "metadata": {},
          "execution_count": 19
        }
      ]
    },
    {
      "cell_type": "code",
      "execution_count": 20,
      "metadata": {
        "id": "sgy3E-Y7D__F",
        "outputId": "7752b22c-f742-4cde-c605-113699ce200e",
        "colab": {
          "base_uri": "https://localhost:8080/"
        }
      },
      "outputs": [
        {
          "output_type": "stream",
          "name": "stdout",
          "text": [
            "Atributo 0: varia de 0.00632 a 88.9762\n",
            "Atributo 1: varia de 0.0 a 100.0\n",
            "Atributo 2: varia de 0.46 a 27.74\n",
            "Atributo 3: varia de 0.0 a 1.0\n",
            "Atributo 4: varia de 0.385 a 0.871\n",
            "Atributo 5: varia de 3.561 a 8.725\n",
            "Atributo 6: varia de 2.9 a 100.0\n",
            "Atributo 7: varia de 1.1296 a 10.7103\n",
            "Atributo 8: varia de 1.0 a 24.0\n",
            "Atributo 9: varia de 188.0 a 711.0\n",
            "Atributo 10: varia de 12.6 a 22.0\n",
            "Atributo 11: varia de 0.32 a 396.9\n",
            "Atributo 12: varia de 1.73 a 37.97\n"
          ]
        }
      ],
      "source": [
        "# Verificar o min e o max de cada feature (atributos)\n",
        "for i in range(len(x_treino[0])):\n",
        "  print(f\"Atributo {i}: varia de {x_treino[:,i].min()} a {x_treino[:,i].max()}\")\n"
      ]
    },
    {
      "cell_type": "code",
      "execution_count": 21,
      "metadata": {
        "id": "hXAskOWeGHSx",
        "outputId": "7553ee9f-31d5-40c9-e4ea-5a207c42816f",
        "colab": {
          "base_uri": "https://localhost:8080/",
          "height": 430
        }
      },
      "outputs": [
        {
          "output_type": "display_data",
          "data": {
            "text/plain": [
              "<Figure size 640x480 with 1 Axes>"
            ],
            "image/png": "[encoded data removed]"
          },
          "metadata": {}
        }
      ],
      "source": [
        "# mudar o numero da feature na linha abaixo plota um gráfico diferente\n",
        "feature = 2\n",
        "plt.hist(x_treino[:,feature], label='Treino')\n",
        "plt.hist(x_teste[:,feature], label='Teste')\n",
        "plt.legend();"
      ]
    },
    {
      "cell_type": "markdown",
      "metadata": {
        "id": "0-H0LwB_7von"
      },
      "source": [
        "### Pré-processamento dos dados\n",
        "\n",
        "**Normalizing Data**:\n"
      ]
    },
    {
      "cell_type": "code",
      "execution_count": 25,
      "metadata": {
        "id": "uZrGVMsH0X3F"
      },
      "outputs": [],
      "source": [
        "# StandardScaler aplica uma escala a um conjunto de dados (normaliza)\n",
        "from sklearn.preprocessing import StandardScaler\n",
        "scaler = StandardScaler()\n",
        "\n",
        "# fit do scaler no conjunto de treinamento (somente)\n",
        "scaler.fit(x_treino)\n",
        "\n",
        "# then we call the transform method to scale both the training and testing data\n",
        "x_treino_normalizado = scaler.transform(x_treino)\n",
        "x_teste_normalizado = scaler.transform(x_teste)"
      ]
    },
    {
      "cell_type": "markdown",
      "metadata": {
        "id": "MG_fd0Ig5BuM"
      },
      "source": [
        "Another way do normalize data directly with numpy is:\n",
        "- Get per-feature statistics (mean, standard deviation) from the training set to normalize by:\n",
        "  - x_train_mean = np.mean(x_train, axis=0)\n",
        "  - x_train_std = np.std(x_train, axis=0)\n",
        "  - x_train_norm = (x_train - x_train_mean) / x_train_std\n",
        "\n",
        "  - x_test_norm = (x_test - x_train_mean) / x_train_std\n",
        "\n",
        "**Note** that the quantities used for normalizing the test data are computed using the training data. You should never use in your workflow any quantity computed on the test data, even for something as simple as data normalization."
      ]
    },
    {
      "cell_type": "code",
      "execution_count": 27,
      "metadata": {
        "id": "mMP87jskSZuv",
        "outputId": "b3659323-c55b-4019-c646-494a04eef11c",
        "colab": {
          "base_uri": "https://localhost:8080/"
        }
      },
      "outputs": [
        {
          "output_type": "stream",
          "name": "stdout",
          "text": [
            "9.234847178400438\n",
            "-3.8172503201932715\n"
          ]
        }
      ],
      "source": [
        "# Verificando máximnos e mínimos dos dados normalizados\n",
        "print (x_treino_normalizado.max())\n",
        "print (x_treino_normalizado.min())"
      ]
    },
    {
      "cell_type": "markdown",
      "metadata": {
        "id": "pYMsyOk8-xnf"
      },
      "source": [
        "## Define Model"
      ]
    },
    {
      "cell_type": "code",
      "execution_count": null,
      "metadata": {
        "id": "JBUukyQ0INrf",
        "outputId": "01dde474-909e-4961-b7fd-28415357ba53",
        "colab": {
          "base_uri": "https://localhost:8080/"
        }
      },
      "outputs": [
        {
          "output_type": "execute_result",
          "data": {
            "text/plain": [
              "(404, 13)"
            ]
          },
          "metadata": {},
          "execution_count": 18
        }
      ],
      "source": [
        "x_treino.shape"
      ]
    },
    {
      "cell_type": "code",
      "execution_count": 28,
      "metadata": {
        "id": "sDlDs9YO5qk_",
        "outputId": "c24af5b8-9f60-4076-e889-347f3535e64c",
        "colab": {
          "base_uri": "https://localhost:8080/"
        }
      },
      "outputs": [
        {
          "output_type": "execute_result",
          "data": {
            "text/plain": [
              "13"
            ]
          },
          "metadata": {},
          "execution_count": 28
        }
      ],
      "source": [
        "input_shape = x_treino.shape[1]\n",
        "input_shape # sempre 13 features de entrada (características das casas)"
      ]
    },
    {
      "cell_type": "markdown",
      "metadata": {
        "id": "UZimwlA92lLr"
      },
      "source": [
        "The model should be created, for example with those layers:\n",
        "- [input] ==> [hidden] ==> [output]:\n",
        "  - 13 ==> [20] ==>  1\n",
        "\n",
        "The **Input Layer** should be 13 (number of features) and the **Output Layer** shoub be 1 to match the target (y). The number of neurons at **Hidden layers** are arbitrary."
      ]
    },
    {
      "cell_type": "code",
      "execution_count": 29,
      "metadata": {
        "id": "dEdoqWl28dB3",
        "outputId": "859542f8-0bec-418e-eec6-df6c9e1ee401",
        "colab": {
          "base_uri": "https://localhost:8080/"
        }
      },
      "outputs": [
        {
          "output_type": "stream",
          "name": "stdout",
          "text": [
            "Model: \"sequential\"\n",
            "_________________________________________________________________\n",
            " Layer (type)                Output Shape              Param #   \n",
            "=================================================================\n",
            " dense (Dense)               (None, 20)                280       \n",
            "                                                                 \n",
            " dense_1 (Dense)             (None, 1)                 21        \n",
            "                                                                 \n",
            "=================================================================\n",
            "Total params: 301 (1.18 KB)\n",
            "Trainable params: 301 (1.18 KB)\n",
            "Non-trainable params: 0 (0.00 Byte)\n",
            "_________________________________________________________________\n"
          ]
        }
      ],
      "source": [
        "# The Input Layer should be 13 (number of features) and the Output Layer shoub\n",
        "# be 1 to match the target (y). The number of neurons at Hidden layers are arbitrary.\n",
        "# Quanto mais simples melhor. Muitos neurônios podem fazer o modelo muito bom para\n",
        "# o treino, mas não ser capaz de realizar inferências de forma satisfatória (overfit)\n",
        "model = tf.keras.models.Sequential([\n",
        "    tf.keras.layers.Input(input_shape),\n",
        "    tf.keras.layers.Dense(20, activation='relu'), # começando com 20\n",
        "    tf.keras.layers.Dense(1)\n",
        "    ])\n",
        "\n",
        "# activation='relu' : cria a não linearidade (simula o comportamento do diodo)\n",
        "# para qualquer modelo = USE O RELU\n",
        "\n",
        "model.summary()"
      ]
    },
    {
      "cell_type": "markdown",
      "metadata": {
        "id": "FNTU33Hn1TRj"
      },
      "source": [
        "Input layer has 13 conections, one for each feature [X]. Each feature goes to each one of the neurons of 1st Dense Layer, that has 20 Neurons. So, total parameters 1st Dense Layer will be ws=(13 x 20) + bs=20 ==> 280. The output layer will be only one Neuron that has one input from the output of previous layer (20 ) + 1 b ==> 21.\n",
        "\n",
        "For simplicity, the input layer can be \"merge with 1st layer\""
      ]
    },
    {
      "cell_type": "code",
      "execution_count": 30,
      "metadata": {
        "id": "yXHoc5X42iR2",
        "outputId": "18a8718e-2866-458d-a95b-d95cc2ef2a33",
        "colab": {
          "base_uri": "https://localhost:8080/"
        }
      },
      "outputs": [
        {
          "output_type": "stream",
          "name": "stdout",
          "text": [
            "Model: \"sequential_1\"\n",
            "_________________________________________________________________\n",
            " Layer (type)                Output Shape              Param #   \n",
            "=================================================================\n",
            " dense_2 (Dense)             (None, 20)                280       \n",
            "                                                                 \n",
            " dense_3 (Dense)             (None, 1)                 21        \n",
            "                                                                 \n",
            "=================================================================\n",
            "Total params: 301 (1.18 KB)\n",
            "Trainable params: 301 (1.18 KB)\n",
            "Non-trainable params: 0 (0.00 Byte)\n",
            "_________________________________________________________________\n"
          ]
        }
      ],
      "source": [
        "# Esse código abaixo é só uma outra forma de gerar o mesmo modelo\n",
        "model = tf.keras.models.Sequential([\n",
        "    tf.keras.layers.Dense(20,\n",
        "                          activation='relu',\n",
        "                          input_shape = [13]),\n",
        "    tf.keras.layers.Dense(1)\n",
        "    ])\n",
        "\n",
        "model.summary()"
      ]
    },
    {
      "cell_type": "markdown",
      "metadata": {
        "id": "IfGTI8SY_3AL"
      },
      "source": [
        "##Compile Model"
      ]
    },
    {
      "cell_type": "markdown",
      "metadata": {
        "id": "QzTQem0EHY-O"
      },
      "source": [
        "### Type of errors\n",
        "In statistics, `Mean Absolute Error (MAE)` is a measure of errors between paired observations expressing the same phenomenon. Examples of Y versus X include comparisons of predicted versus observed, subsequent time versus initial time, and one technique of measurement versus an alternative technique of measurement. MAE is calculated as:\n",
        "\n",
        "\n",
        "$$MAE=\\frac{1}{n}\\sum_{i=1}^{n}(\\left|y_{i}-\\hat{y}_{i}\\right|)$$\n",
        "\n",
        "\n",
        "Another alternative to evaluate regression is the `Root Mean Square Error (RMSE)`.\n",
        "This is the root of the  mean of the squared errors. It is a most popular measure of regression model's performance because also keep the same unit as y and larger errors are noted more than with MAE.\n",
        "\n",
        "$$RSME=\\sqrt{\\frac{1}{n}\\sum_{i=1}^{n}{(y_{i}-\\hat{y}_{i})}^2}$$\n",
        "\n",
        "You can use MSE to calculate loss, but also tracking the MAE or RSME, once those values will have the \"same order\" of the Target (in the case, multiples of USD1,000)."
      ]
    },
    {
      "cell_type": "markdown",
      "metadata": {
        "id": "K7yHe1BU_Cr2"
      },
      "source": [
        "The optimizer used is [ADAM](https://www.tensorflow.org/api_docs/python/tf/keras/optimizers/Adam), a stochastic gradient descent method that is based on adaptive estimation of first-order and second-order moments. The hyperparameter \"Learning-Rate\" used is the default ==> 0.001"
      ]
    },
    {
      "cell_type": "code",
      "execution_count": 31,
      "metadata": {
        "id": "NA21O9Y0_BJ7"
      },
      "outputs": [],
      "source": [
        "# Escolher o erro do modelo\n",
        "# É interessante que o erro seja apresentado na mesma unidade da métrica,\n",
        "# como o RSME faz.\n",
        "model.compile(\n",
        "    optimizer='adam', # deixa um pouco mais pesado, mas é o mais utilizado\n",
        "    loss='mse',\n",
        "    metrics=['mae'] # used to monitor the training and testing steps.\n",
        "    )"
      ]
    },
    {
      "cell_type": "markdown",
      "metadata": {
        "id": "pJZ4fvT3_yd7"
      },
      "source": [
        "## Train the model"
      ]
    },
    {
      "cell_type": "code",
      "execution_count": 32,
      "metadata": {
        "id": "RxklrX_R_uvn"
      },
      "outputs": [],
      "source": [
        "history = model.fit(\n",
        "    x_treino_normalizado,\n",
        "    y_treino,\n",
        "    epochs=1000, # 1000 épocas\n",
        "    verbose=0 # evitar comentários do treinamento\n",
        "    )"
      ]
    },
    {
      "cell_type": "markdown",
      "metadata": {
        "id": "0xAXSo5-HCIo"
      },
      "source": [
        "Inspecting the model"
      ]
    },
    {
      "cell_type": "code",
      "execution_count": 33,
      "metadata": {
        "id": "PXzMCGzVUuTx",
        "outputId": "9be913ef-d338-4126-f8a6-59464147bbbb",
        "colab": {
          "base_uri": "https://localhost:8080/"
        }
      },
      "outputs": [
        {
          "output_type": "stream",
          "name": "stdout",
          "text": [
            "13/13 [==============================] - 0s 2ms/step - loss: 5.6522 - mae: 1.6629\n",
            "Training data MAE: 1.7\n"
          ]
        }
      ],
      "source": [
        "train_eval = model.evaluate(x_treino_normalizado, y_treino)\n",
        "print (\"Training data MAE: {:.2}\".format(train_eval[1]))\n",
        "# MAE: 1.7 = $ 1.700,00"
      ]
    },
    {
      "cell_type": "code",
      "execution_count": 34,
      "metadata": {
        "id": "ShUfx2ZSCylX",
        "outputId": "76d2a0ef-dfc0-4505-8736-15bc379b2740",
        "colab": {
          "base_uri": "https://localhost:8080/"
        }
      },
      "outputs": [
        {
          "output_type": "execute_result",
          "data": {
            "text/plain": [
              "dict_keys(['loss', 'mae'])"
            ]
          },
          "metadata": {},
          "execution_count": 34
        }
      ],
      "source": [
        "history.history.keys()"
      ]
    },
    {
      "cell_type": "code",
      "execution_count": 35,
      "metadata": {
        "id": "npIubpXaKl6u",
        "outputId": "33a5a775-0777-4f01-c95b-455541119398",
        "colab": {
          "base_uri": "https://localhost:8080/",
          "height": 472
        }
      },
      "outputs": [
        {
          "output_type": "display_data",
          "data": {
            "text/plain": [
              "<Figure size 640x480 with 1 Axes>"
            ],
            "image/png": "[encoded data removed]"
          },
          "metadata": {}
        }
      ],
      "source": [
        "# MSE = $^2 (unidade)\n",
        "plt.plot(history.history['loss'], label='MSE')\n",
        "plt.title('model loss')\n",
        "plt.ylabel('loss')\n",
        "plt.xlabel('epoch')\n",
        "plt.legend(loc='upper right')\n",
        "#plt.ylim([0,50])\n",
        "plt.show()"
      ]
    },
    {
      "cell_type": "code",
      "execution_count": 36,
      "metadata": {
        "id": "g6qHpwg8BpZi",
        "outputId": "c961b6fc-d054-4c68-b11a-d33ebab5cf66",
        "colab": {
          "base_uri": "https://localhost:8080/",
          "height": 472
        }
      },
      "outputs": [
        {
          "output_type": "display_data",
          "data": {
            "text/plain": [
              "<Figure size 640x480 with 1 Axes>"
            ],
            "image/png": "[encoded data removed]"
          },
          "metadata": {}
        }
      ],
      "source": [
        "# MAE = $ (unidade)\n",
        "plt.plot(history.history['mae'], label='MAE')\n",
        "plt.title('model loss')\n",
        "plt.ylabel('loss in $K')\n",
        "plt.xlabel('epoch')\n",
        "plt.legend(loc='upper right')\n",
        "#plt.ylim([0,50])\n",
        "plt.show()"
      ]
    },
    {
      "cell_type": "markdown",
      "metadata": {
        "id": "JYHTdEJVH0tZ"
      },
      "source": [
        "## Testing the trained model\n",
        "\n"
      ]
    },
    {
      "cell_type": "code",
      "execution_count": 37,
      "metadata": {
        "id": "QBuJGqbSH6xT",
        "outputId": "59310825-2858-4e8f-fc21-3ce2f4331a6d",
        "colab": {
          "base_uri": "https://localhost:8080/"
        }
      },
      "outputs": [
        {
          "output_type": "stream",
          "name": "stdout",
          "text": [
            "4/4 [==============================] - 0s 9ms/step - loss: 16.6935 - mae: 2.6394\n",
            "Test data MAE: 2.6\n"
          ]
        }
      ],
      "source": [
        "# Testando com dados novos, que o modelo nunca viu\n",
        "test_eval = model.evaluate(x_teste_normalizado, y_teste)\n",
        "print (\"Test data MAE: {:.2}\".format(test_eval[1]))"
      ]
    },
    {
      "cell_type": "code",
      "execution_count": 38,
      "metadata": {
        "id": "J4H-5TF42ZjL",
        "outputId": "63fae40b-327e-4233-ec24-0d14c3a4a61b",
        "colab": {
          "base_uri": "https://localhost:8080/"
        }
      },
      "outputs": [
        {
          "output_type": "execute_result",
          "data": {
            "text/plain": [
              "4.086"
            ]
          },
          "metadata": {},
          "execution_count": 38
        }
      ],
      "source": [
        "rsme = round(np.sqrt(test_eval[0]), 3)\n",
        "rsme"
      ]
    },
    {
      "cell_type": "markdown",
      "metadata": {
        "id": "we1LXnkDzbaS"
      },
      "source": [
        "The model has an RSME error of around USD4,000 and an MAE of around USD 2,600, what is very good for house's price estimation.  "
      ]
    },
    {
      "cell_type": "markdown",
      "metadata": {
        "id": "G_-PyEde1sAq"
      },
      "source": [
        "Note: With features **not normalized**, we got loss (MSE): 22.0815; RSME: USD4,700 and  MAE: USD3,500"
      ]
    },
    {
      "cell_type": "code",
      "execution_count": 39,
      "metadata": {
        "id": "tkaTLMaTIbIL",
        "outputId": "68e6260f-94da-4f76-b0a9-482619bdb397",
        "colab": {
          "base_uri": "https://localhost:8080/"
        }
      },
      "outputs": [
        {
          "output_type": "stream",
          "name": "stdout",
          "text": [
            "4/4 [==============================] - 0s 3ms/step\n",
            "[[ 8.132537]\n",
            " [18.593914]\n",
            " [22.434732]\n",
            " [37.8076  ]\n",
            " [24.97108 ]]\n"
          ]
        }
      ],
      "source": [
        "y_hat = model.predict(x_teste_normalizado) # y_hat é o nome dado para o valor previsto\n",
        "print(y_hat[:5]) # get the output predict values for the 5 first samples"
      ]
    },
    {
      "cell_type": "code",
      "execution_count": 40,
      "metadata": {
        "id": "9p9buLk54A1W",
        "outputId": "229898c7-2071-43c1-ffe3-60ac78d7f2d7",
        "colab": {
          "base_uri": "https://localhost:8080/"
        }
      },
      "outputs": [
        {
          "output_type": "execute_result",
          "data": {
            "text/plain": [
              "array([ 7.2, 18.8, 19. , 27. , 22.2])"
            ]
          },
          "metadata": {},
          "execution_count": 40
        }
      ],
      "source": [
        "y_teste[:5] # get the output real known values for the 5 first samples"
      ]
    },
    {
      "cell_type": "code",
      "execution_count": 41,
      "metadata": {
        "id": "ERuEyCmx4QHY",
        "outputId": "ce0004ac-e886-4f44-a123-7d24948eb8af",
        "colab": {
          "base_uri": "https://localhost:8080/",
          "height": 449
        }
      },
      "outputs": [
        {
          "output_type": "display_data",
          "data": {
            "text/plain": [
              "<Figure size 640x480 with 1 Axes>"
            ],
            "image/png": "[encoded data removed]"
          },
          "metadata": {}
        }
      ],
      "source": [
        "plt.hist(y_hat, label='predictions', color = 'b')\n",
        "plt.hist(y_teste, label = 'real values', color = 'r', alpha=0.5) # alpha é a transparência das colunas\n",
        "plt.xlabel('Price in K$')\n",
        "plt.legend();"
      ]
    },
    {
      "cell_type": "markdown",
      "metadata": {
        "id": "RQgmjypmxaFP"
      },
      "source": [
        "## Doing Inference"
      ]
    },
    {
      "cell_type": "code",
      "execution_count": 42,
      "metadata": {
        "id": "EIior9FBvdcs",
        "outputId": "816674d1-4e63-4616-97fe-717332a7a2ac",
        "colab": {
          "base_uri": "https://localhost:8080/"
        }
      },
      "outputs": [
        {
          "output_type": "execute_result",
          "data": {
            "text/plain": [
              "(13,)"
            ]
          },
          "metadata": {},
          "execution_count": 42
        }
      ],
      "source": [
        "xt = np.array([1.1, 0., 9., 0., 0.6, 7., 92., 3.8 , 4., 300., 21., 200, 19.5]) # valores \"chutados\"\n",
        "xt.shape"
      ]
    },
    {
      "cell_type": "code",
      "execution_count": 43,
      "metadata": {
        "id": "Vp2mV37ZyOXE",
        "outputId": "364806bc-853e-4136-e6ee-212314e63df4",
        "colab": {
          "base_uri": "https://localhost:8080/"
        }
      },
      "outputs": [
        {
          "output_type": "execute_result",
          "data": {
            "text/plain": [
              "(404, 13)"
            ]
          },
          "metadata": {},
          "execution_count": 43
        }
      ],
      "source": [
        "x_treino.shape"
      ]
    },
    {
      "cell_type": "code",
      "execution_count": 44,
      "metadata": {
        "id": "2qp7KDtgyz8g",
        "outputId": "533da062-39b5-4bc7-dcf7-00364a90eaf4",
        "colab": {
          "base_uri": "https://localhost:8080/"
        }
      },
      "outputs": [
        {
          "output_type": "execute_result",
          "data": {
            "text/plain": [
              "(1, 13)"
            ]
          },
          "metadata": {},
          "execution_count": 44
        }
      ],
      "source": [
        "xt = np.reshape(xt, (1, 13)) # reshape porque é uma matriz 1x13\n",
        "xt.shape"
      ]
    },
    {
      "cell_type": "code",
      "execution_count": 45,
      "metadata": {
        "id": "1pLLiifrzO-3",
        "outputId": "ee95d6eb-733c-4269-9526-833d5ebbd9d4",
        "colab": {
          "base_uri": "https://localhost:8080/"
        }
      },
      "outputs": [
        {
          "output_type": "execute_result",
          "data": {
            "text/plain": [
              "array([[  1.1,   0. ,   9. ,   0. ,   0.6,   7. ,  92. ,   3.8,   4. ,\n",
              "        300. ,  21. , 200. ,  19.5]])"
            ]
          },
          "metadata": {},
          "execution_count": 45
        }
      ],
      "source": [
        "xt"
      ]
    },
    {
      "cell_type": "code",
      "execution_count": 46,
      "metadata": {
        "id": "XDlArmS2xfuR",
        "outputId": "542a5a9b-a5fb-4170-b67b-cedf0c64b65b",
        "colab": {
          "base_uri": "https://localhost:8080/"
        }
      },
      "outputs": [
        {
          "output_type": "execute_result",
          "data": {
            "text/plain": [
              "array([[-0.28659955, -0.48361547, -0.30934443, -0.25683275,  0.36401915,\n",
              "         1.03386853,  0.82381223,  0.02945662, -0.62624905, -0.63729594,\n",
              "         1.14850044, -1.64672402,  0.93287232]])"
            ]
          },
          "metadata": {},
          "execution_count": 46
        }
      ],
      "source": [
        "xt_norm = scaler.transform(xt) # mesmo scaler feito com os dados de treinamento\n",
        "xt_norm"
      ]
    },
    {
      "cell_type": "code",
      "execution_count": 47,
      "metadata": {
        "id": "fHbXuOGkzJ-n",
        "outputId": "12e0c3d9-04e2-4269-a072-d119d04b5035",
        "colab": {
          "base_uri": "https://localhost:8080/"
        }
      },
      "outputs": [
        {
          "output_type": "stream",
          "name": "stdout",
          "text": [
            "1/1 [==============================] - 0s 24ms/step\n"
          ]
        },
        {
          "output_type": "execute_result",
          "data": {
            "text/plain": [
              "array([[16.403364]], dtype=float32)"
            ]
          },
          "metadata": {},
          "execution_count": 47
        }
      ],
      "source": [
        "yt = model.predict(xt_norm)\n",
        "yt"
      ]
    },
    {
      "cell_type": "code",
      "execution_count": 48,
      "metadata": {
        "id": "lfb5RGKT0rs3",
        "outputId": "8405de9c-f484-466b-ccd5-92241de3f4c1",
        "colab": {
          "base_uri": "https://localhost:8080/"
        }
      },
      "outputs": [
        {
          "output_type": "stream",
          "name": "stdout",
          "text": [
            "1/1 [==============================] - 0s 21ms/step\n",
            "The predict value for this house is US$16.40 thousand\n"
          ]
        }
      ],
      "source": [
        "xt = np.array([1.1, 0., 9., 0., 0.6, 7., 92., 3.8 , 4., 300., 21., 200, 19.5])\n",
        "xt = np.reshape(xt, (1, 13))\n",
        "xt_norm = scaler.transform(xt)\n",
        "yt = model.predict(xt_norm)\n",
        "print(\"The predict value for this house is US${:.2f} thousand\".format(yt[0][0]))"
      ]
    },
    {
      "cell_type": "markdown",
      "metadata": {
        "id": "RUNbBC_FgcWZ"
      },
      "source": [
        "# Extra\n",
        "## Finding the correct Hyperparameters\n",
        "- [KerasTuner](https://keras.io/keras_tuner/)\n",
        "\n",
        "KerasTuner is an easy-to-use, scalable hyperparameter optimization framework that solves the pain points of hyperparameter search.\n"
      ]
    },
    {
      "cell_type": "code",
      "execution_count": 49,
      "metadata": {
        "id": "dql5K0r9gU1F",
        "colab": {
          "base_uri": "https://localhost:8080/"
        },
        "outputId": "bef43513-04fd-4d6b-bd0b-171dd9a7df52"
      },
      "outputs": [
        {
          "output_type": "stream",
          "name": "stdout",
          "text": [
            "Collecting keras-tuner\n",
            "  Downloading keras_tuner-1.4.7-py3-none-any.whl (129 kB)\n",
            "\u001b[?25l     \u001b[90m━━━━━━━━━━━━━━━━━━━━━━━━━━━━━━━━━━━━━━━━\u001b[0m \u001b[32m0.0/129.1 kB\u001b[0m \u001b[31m?\u001b[0m eta \u001b[36m-:--:--\u001b[0m\r\u001b[2K     \u001b[90m━━━━━━━━━━━━━━━━━━━━━━━━━━━━━━━━━━━━━━━━\u001b[0m \u001b[32m129.1/129.1 kB\u001b[0m \u001b[31m3.6 MB/s\u001b[0m eta \u001b[36m0:00:00\u001b[0m\n",
            "\u001b[?25hRequirement already satisfied: keras in /usr/local/lib/python3.10/dist-packages (from keras-tuner) (2.15.0)\n",
            "Requirement already satisfied: packaging in /usr/local/lib/python3.10/dist-packages (from keras-tuner) (24.0)\n",
            "Requirement already satisfied: requests in /usr/local/lib/python3.10/dist-packages (from keras-tuner) (2.31.0)\n",
            "Collecting kt-legacy (from keras-tuner)\n",
            "  Downloading kt_legacy-1.0.5-py3-none-any.whl (9.6 kB)\n",
            "Requirement already satisfied: charset-normalizer<4,>=2 in /usr/local/lib/python3.10/dist-packages (from requests->keras-tuner) (3.3.2)\n",
            "Requirement already satisfied: idna<4,>=2.5 in /usr/local/lib/python3.10/dist-packages (from requests->keras-tuner) (3.6)\n",
            "Requirement already satisfied: urllib3<3,>=1.21.1 in /usr/local/lib/python3.10/dist-packages (from requests->keras-tuner) (2.0.7)\n",
            "Requirement already satisfied: certifi>=2017.4.17 in /usr/local/lib/python3.10/dist-packages (from requests->keras-tuner) (2024.2.2)\n",
            "Installing collected packages: kt-legacy, keras-tuner\n",
            "Successfully installed keras-tuner-1.4.7 kt-legacy-1.0.5\n"
          ]
        }
      ],
      "source": [
        "!pip install keras-tuner --upgrade"
      ]
    },
    {
      "cell_type": "code",
      "execution_count": 50,
      "metadata": {
        "id": "AP1tw9u9g5Uf"
      },
      "outputs": [],
      "source": [
        "import tensorflow as tf\n",
        "import keras_tuner as kt"
      ]
    },
    {
      "cell_type": "code",
      "execution_count": 51,
      "metadata": {
        "id": "VLYVscNQkaWS"
      },
      "outputs": [],
      "source": [
        "data = tf.keras.datasets.boston_housing\n",
        "(x_train, y_train), (x_test, y_test) = data.load_data()"
      ]
    },
    {
      "cell_type": "code",
      "execution_count": 52,
      "metadata": {
        "id": "pE7gSlcTkl20"
      },
      "outputs": [],
      "source": [
        "from sklearn.preprocessing import StandardScaler\n",
        "scaler = StandardScaler()\n",
        "\n",
        "# first we fit the scaler on the training dataset\n",
        "scaler.fit(x_train)\n",
        "\n",
        "# then we call the transform method to scale both the training and testing data\n",
        "x_train_norm = scaler.transform(x_train)\n",
        "x_test_norm = scaler.transform(x_test)"
      ]
    },
    {
      "cell_type": "markdown",
      "metadata": {
        "id": "5UHfySq-hJHo"
      },
      "source": [
        "Write a function that creates and returns a Keras model. Use the `hp` argument to define the hyperparameters during model creation."
      ]
    },
    {
      "cell_type": "code",
      "execution_count": 53,
      "metadata": {
        "id": "qbvjlmNdhBn6"
      },
      "outputs": [],
      "source": [
        "def build_model(hp):\n",
        "  model = tf.keras.Sequential()\n",
        "  model.add(tf.keras.layers.Dense(\n",
        "      hp.Choice('units', [10, 20, 30]), # testa com 10, 20 e 30 neurônios (searchGrid)\n",
        "      activation='relu'))\n",
        "\n",
        "  model.add(tf.keras.layers.Dense(1))\n",
        "  model.compile(optimizer='adam', loss='mse')\n",
        "  return model"
      ]
    },
    {
      "cell_type": "markdown",
      "metadata": {
        "id": "lsNpzZpeh2Hi"
      },
      "source": [
        "Initialize a tuner (here, RandomSearch). We use objective to specify the objective to select the best models, and we use max_trials to specify the number of different models to try."
      ]
    },
    {
      "cell_type": "code",
      "execution_count": 54,
      "metadata": {
        "id": "zufG9sUjh1xV"
      },
      "outputs": [],
      "source": [
        "tuner = kt.RandomSearch(\n",
        "    build_model,\n",
        "    objective='val_loss',\n",
        "    max_trials=5)"
      ]
    },
    {
      "cell_type": "markdown",
      "metadata": {
        "id": "wN6Ci84OiFaZ"
      },
      "source": [
        "Start the search and get the best model:"
      ]
    },
    {
      "cell_type": "code",
      "execution_count": 55,
      "metadata": {
        "id": "WnkdoSzLiJUY",
        "outputId": "dae1ed87-a5b7-4b32-91ec-f6b08ad952de",
        "colab": {
          "base_uri": "https://localhost:8080/"
        }
      },
      "outputs": [
        {
          "output_type": "stream",
          "name": "stdout",
          "text": [
            "Trial 3 Complete [00h 00m 53s]\n",
            "val_loss: 18.832929611206055\n",
            "\n",
            "Best val_loss So Far: 17.850248336791992\n",
            "Total elapsed time: 00h 03m 03s\n"
          ]
        }
      ],
      "source": [
        "tuner.search(\n",
        "    x_train_norm, y_train,\n",
        "    epochs=500,\n",
        "    validation_data=(x_test_norm, y_test))\n",
        "\n",
        "best_model = tuner.get_best_models()[0]"
      ]
    },
    {
      "cell_type": "code",
      "execution_count": 56,
      "metadata": {
        "id": "70gOV5Idme4w",
        "outputId": "d24bb3f4-c1e8-4150-9b47-4307dc2a2b04",
        "colab": {
          "base_uri": "https://localhost:8080/"
        }
      },
      "outputs": [
        {
          "output_type": "stream",
          "name": "stdout",
          "text": [
            "Search space summary\n",
            "Default search space size: 1\n",
            "units (Choice)\n",
            "{'default': 10, 'conditions': [], 'values': [10, 20, 30], 'ordered': True}\n"
          ]
        }
      ],
      "source": [
        "tuner.search_space_summary()"
      ]
    },
    {
      "cell_type": "code",
      "execution_count": 57,
      "metadata": {
        "id": "zcF6Ogb_mtYW",
        "outputId": "14b09ead-b396-4d0b-8ddb-b90a07cd4a93",
        "colab": {
          "base_uri": "https://localhost:8080/"
        }
      },
      "outputs": [
        {
          "output_type": "stream",
          "name": "stdout",
          "text": [
            "Results summary\n",
            "Results in ./untitled_project\n",
            "Showing 10 best trials\n",
            "Objective(name=\"val_loss\", direction=\"min\")\n",
            "\n",
            "Trial 1 summary\n",
            "Hyperparameters:\n",
            "units: 20\n",
            "Score: 17.850248336791992\n",
            "\n",
            "Trial 2 summary\n",
            "Hyperparameters:\n",
            "units: 10\n",
            "Score: 18.832929611206055\n",
            "\n",
            "Trial 0 summary\n",
            "Hyperparameters:\n",
            "units: 30\n",
            "Score: 19.066219329833984\n"
          ]
        }
      ],
      "source": [
        "tuner.results_summary()"
      ]
    }
  ],
  "metadata": {
    "colab": {
      "provenance": []
    },
    "kernelspec": {
      "display_name": "Python 3",
      "name": "python3"
    },
    "language_info": {
      "name": "python"
    }
  },
  "nbformat": 4,
  "nbformat_minor": 0
}