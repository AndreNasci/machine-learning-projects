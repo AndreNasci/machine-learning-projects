{
  "nbformat": 4,
  "nbformat_minor": 0,
  "metadata": {
    "colab": {
      "name": "TF_First_Neural_Network_v2_exploring_epochs.ipynb",
      "provenance": [],
      "include_colab_link": true
    },
    "kernelspec": {
      "display_name": "Python 3",
      "language": "python",
      "name": "python3"
    },
    "language_info": {
      "codemirror_mode": {
        "name": "ipython",
        "version": 3
      },
      "file_extension": ".py",
      "mimetype": "text/x-python",
      "name": "python",
      "nbconvert_exporter": "python",
      "pygments_lexer": "ipython3",
      "version": "3.6.9"
    }
  },
  "cells": [
    {
      "cell_type": "markdown",
      "metadata": {
        "id": "view-in-github",
        "colab_type": "text"
      },
      "source": [
        "<a href=\"https://colab.research.google.com/github/AndreNasci/TinyML/blob/main/Class%2006%20-%20ML%20Regression%20with%20DNN/TF_First_Neural_Network_exploring_epochs_and_callbacks.ipynb\" target=\"_parent\"><img src=\"https://colab.research.google.com/assets/colab-badge.svg\" alt=\"Open In Colab\"/></a>"
      ]
    },
    {
      "cell_type": "markdown",
      "metadata": {
        "id": "8LXOB7WZMEyN"
      },
      "source": [
        "# TF First Neural Network V2\n",
        "- Exploring EPOCHS using CallBacks"
      ]
    },
    {
      "cell_type": "markdown",
      "metadata": {
        "id": "O9_MLEnwMGLw"
      },
      "source": [
        "## Import Libraries"
      ]
    },
    {
      "cell_type": "code",
      "metadata": {
        "id": "QCm3x_4F8bvg",
        "colab": {
          "base_uri": "https://localhost:8080/"
        },
        "outputId": "50849ef3-14b7-4f6c-e8cf-e213e7e1d533"
      },
      "source": [
        "%tensorflow_version 2.x\n",
        "import tensorflow as tf\n",
        "import numpy as np\n",
        "\n",
        "# verificar versão do TF\n",
        "print(tf.version.VERSION)"
      ],
      "execution_count": 1,
      "outputs": [
        {
          "output_type": "stream",
          "name": "stdout",
          "text": [
            "Colab only includes TensorFlow 2.x; %tensorflow_version has no effect.\n",
            "2.12.0\n"
          ]
        }
      ]
    },
    {
      "cell_type": "markdown",
      "metadata": {
        "id": "TFwzjVOyMYj0"
      },
      "source": [
        "## Dataset"
      ]
    },
    {
      "cell_type": "code",
      "metadata": {
        "id": "o4i0p7efDX2M"
      },
      "source": [
        "# define some training data (xs as inputs and ys as outputs)\n",
        "\n",
        "# esses pontos formam uma reta\n",
        "xs = np.array([-1.0,  0.0, 1.0, 2.0, 3.0, 4.0], dtype=float) \n",
        "ys = np.array([-3.0, -1.0, 1.0, 3.0, 5.0, 7.0], dtype=float)"
      ],
      "execution_count": 3,
      "outputs": []
    },
    {
      "cell_type": "markdown",
      "metadata": {
        "id": "GVMr79-_MiII"
      },
      "source": [
        "## Define Model (NN Arquitecture)"
      ]
    },
    {
      "cell_type": "code",
      "metadata": {
        "id": "CLqOZPfC8gfb"
      },
      "source": [
        "# define a neural network with one neuron\n",
        "# for more information on TF functions see: https://www.tensorflow.org/api_docs\n",
        "\n",
        "# um neurônio e uma entrada\n",
        "model = tf.keras.Sequential([tf.keras.layers.Dense(units=1, input_shape=[1])])"
      ],
      "execution_count": 4,
      "outputs": []
    },
    {
      "cell_type": "markdown",
      "metadata": {
        "id": "SaqMbbf5Mos8"
      },
      "source": [
        "## Compile Model"
      ]
    },
    {
      "cell_type": "code",
      "metadata": {
        "id": "rUyEy3iMDKy3"
      },
      "source": [
        "# use stochastic gradient descent (sgd) for optimization and\n",
        "# the mean squared error loss function\n",
        "\n",
        "model.compile(optimizer='sgd', loss='mean_squared_error')"
      ],
      "execution_count": 5,
      "outputs": []
    },
    {
      "cell_type": "code",
      "metadata": {
        "id": "B_iL7WpMNCWp",
        "colab": {
          "base_uri": "https://localhost:8080/"
        },
        "outputId": "ff3353de-cbd5-4dad-a4ff-b4cd125b8871"
      },
      "source": [
        "model.summary()"
      ],
      "execution_count": 6,
      "outputs": [
        {
          "output_type": "stream",
          "name": "stdout",
          "text": [
            "Model: \"sequential\"\n",
            "_________________________________________________________________\n",
            " Layer (type)                Output Shape              Param #   \n",
            "=================================================================\n",
            " dense (Dense)               (None, 1)                 2         \n",
            "                                                                 \n",
            "=================================================================\n",
            "Total params: 2\n",
            "Trainable params: 2\n",
            "Non-trainable params: 0\n",
            "_________________________________________________________________\n"
          ]
        }
      ]
    },
    {
      "cell_type": "markdown",
      "metadata": {
        "id": "UsF5wyWpO3fP"
      },
      "source": [
        "Viewing initial weights (parameters)"
      ]
    },
    {
      "cell_type": "code",
      "metadata": {
        "id": "foCw7XZhNU8i",
        "colab": {
          "base_uri": "https://localhost:8080/"
        },
        "outputId": "98d0b238-8e97-4eae-cd76-59c4e2ced388"
      },
      "source": [
        "model.get_weights() # list of parameters "
      ],
      "execution_count": 7,
      "outputs": [
        {
          "output_type": "execute_result",
          "data": {
            "text/plain": [
              "[array([[-0.20426643]], dtype=float32), array([0.], dtype=float32)]"
            ]
          },
          "metadata": {},
          "execution_count": 7
        }
      ]
    },
    {
      "cell_type": "code",
      "metadata": {
        "id": "c7Z5OEcDOAEy",
        "colab": {
          "base_uri": "https://localhost:8080/"
        },
        "outputId": "20e1a78d-40c7-4016-cb40-a51a91990fa1"
      },
      "source": [
        "print(\"wi = \", model.get_weights()[0])\n",
        "print(\"b  = \", model.get_weights()[1])"
      ],
      "execution_count": 8,
      "outputs": [
        {
          "output_type": "stream",
          "name": "stdout",
          "text": [
            "wi =  [[-0.20426643]]\n",
            "b  =  [0.]\n"
          ]
        }
      ]
    },
    {
      "cell_type": "markdown",
      "metadata": {
        "id": "RDHKYghlNBLh"
      },
      "source": [
        "## Training"
      ]
    },
    {
      "cell_type": "markdown",
      "source": [
        "More info about callbacks:\n",
        "https://www.tensorflow.org/api_docs/python/tf/keras/callbacks/Callback\n",
        "\n",
        "A callback is a powerful tool to **customize the behavior of a Keras model during training, evaluation, or inference**. Examples include tf.keras.callbacks.TensorBoard to visualize training progress and results with TensorBoard, or tf.keras.callbacks.ModelCheckpoint to periodically save your model during training.\n",
        "https://www.tensorflow.org/guide/keras/custom_callback\n",
        "\n",
        "All callbacks subclass the keras.callbacks.Callback class, and override a set of methods called at various stages of training, testing, and predicting. Callbacks are useful to get a **view on internal states and statistics of the model during training.**"
      ],
      "metadata": {
        "id": "yemSmOY7BSNW"
      }
    },
    {
      "cell_type": "code",
      "metadata": {
        "id": "pEbM3UYJ_uCw"
      },
      "source": [
        "predictions = []\n",
        "# Subclass keras.callbacks.Callback (custom callback)\n",
        "class myCallback(tf.keras.callbacks.Callback):\n",
        "  # override method\n",
        "  def on_epoch_end(self, epoch, logs={}):\n",
        "    predictions.append(model.predict(xs))\n",
        "callbacks = myCallback()"
      ],
      "execution_count": 11,
      "outputs": []
    },
    {
      "cell_type": "code",
      "metadata": {
        "id": "UorrgCYTETFn"
      },
      "source": [
        "# fit the model to the data (aka train the model)\n",
        "\n",
        "history = model.fit(xs, ys, epochs=500, callbacks=[callbacks], verbose=0)"
      ],
      "execution_count": null,
      "outputs": []
    },
    {
      "cell_type": "code",
      "source": [
        "# This callback is automatically applied to every Keras model. The History object gets returned by the fit method of models.\n",
        "type(history)"
      ],
      "metadata": {
        "id": "Zm4o3is6K6qI",
        "outputId": "5149e62e-f310-4a3d-e840-528b13ca2729",
        "colab": {
          "base_uri": "https://localhost:8080/"
        }
      },
      "execution_count": 15,
      "outputs": [
        {
          "output_type": "execute_result",
          "data": {
            "text/plain": [
              "keras.callbacks.History"
            ]
          },
          "metadata": {},
          "execution_count": 15
        }
      ]
    },
    {
      "cell_type": "markdown",
      "source": [
        "https://www.tensorflow.org/api_docs/python/tf/keras/callbacks/History </br>\n",
        "`dir(history)`: '__class__', '__delattr__', '__dict__', '__dir__', '__doc__', '__eq__', '__format__', '__ge__', '__getattribute__', '__gt__', '__hash__',\n",
        " '__init__', '__init_subclass__', '__le__', '__lt__', '__module__', '__ne__', '__new__', '__reduce__', '__reduce_ex__', '__repr__', '__setattr__', '__sizeof__', '__str__', '__subclasshook__', '__weakref__', '_chief_worker_only', '_implements_predict_batch_hooks', '_implements_test_batch_hooks', '_implements_train_batch_hooks',\n",
        " '_keras_api_names', '_keras_api_names_v1', '_supports_tf_logs', 'epoch', 'history', 'model', 'on_batch_begin', 'on_batch_end', 'on_epoch_begin', 'on_epoch_end', 'on_predict_batch_begin',\n",
        " 'on_predict_batch_end', 'on_predict_begin', 'on_predict_end', 'on_test_batch_begin', 'on_test_batch_end', 'on_test_begin', 'on_test_end', 'on_train_batch_begin', 'on_train_batch_end',\n",
        " 'on_train_begin', 'on_train_end', 'params', 'set_model', 'set_params', 'validation_data']"
      ],
      "metadata": {
        "id": "-Gf6cjccMQ19"
      }
    },
    {
      "cell_type": "markdown",
      "metadata": {
        "id": "93itssi3PgsX"
      },
      "source": [
        "Inspect model"
      ]
    },
    {
      "cell_type": "code",
      "metadata": {
        "id": "vpdU7AZbT0YJ",
        "colab": {
          "base_uri": "https://localhost:8080/",
          "height": 472
        },
        "outputId": "6281b07d-a97c-4908-a83f-44d491aedf0d"
      },
      "source": [
        "import matplotlib.pyplot as plt\n",
        "plt.plot(history.history['loss'])\n",
        "plt.title('model loss')\n",
        "plt.ylabel('loss')\n",
        "plt.xlabel('epoch')\n",
        "plt.legend(['train'], loc='upper right')\n",
        "plt.show()"
      ],
      "execution_count": 13,
      "outputs": [
        {
          "output_type": "display_data",
          "data": {
            "text/plain": [
              "<Figure size 640x480 with 1 Axes>"
            ],
            "image/png": "[encoded data removed]"
          },
          "metadata": {}
        }
      ]
    },
    {
      "cell_type": "code",
      "metadata": {
        "id": "Knk6L2pzPjo_",
        "colab": {
          "base_uri": "https://localhost:8080/"
        },
        "outputId": "acc25a02-8604-4a14-ed43-9887ea348c94"
      },
      "source": [
        "print(\"wi = \", model.get_weights()[0])\n",
        "print(\"b  = \", model.get_weights()[1])"
      ],
      "execution_count": 31,
      "outputs": [
        {
          "output_type": "stream",
          "name": "stdout",
          "text": [
            "wi =  [[1.9972397]]\n",
            "b  =  [-0.99144226]\n"
          ]
        }
      ]
    },
    {
      "cell_type": "markdown",
      "metadata": {
        "id": "_oli3anGPV4z"
      },
      "source": [
        "## Test model"
      ]
    },
    {
      "cell_type": "code",
      "metadata": {
        "id": "nidfsvPCEWlE",
        "colab": {
          "base_uri": "https://localhost:8080/"
        },
        "outputId": "5296ae1d-45fa-4640-faf9-c87a238a5f43"
      },
      "source": [
        "# Predict the output of a new data (Inference)\n",
        "\n",
        "print(model.predict([10.0]))"
      ],
      "execution_count": null,
      "outputs": [
        {
          "output_type": "stream",
          "name": "stdout",
          "text": [
            "[[18.984566]]\n"
          ]
        }
      ]
    },
    {
      "cell_type": "code",
      "metadata": {
        "id": "wsi1qdWpAuCY",
        "colab": {
          "base_uri": "https://localhost:8080/"
        },
        "outputId": "5c5414e8-9add-469a-d7bf-4194c7afdac9"
      },
      "source": [
        "# Inferência dos dados de treino\n",
        "y_hat = model.predict(xs)\n",
        "y_hat.shape"
      ],
      "execution_count": 32,
      "outputs": [
        {
          "output_type": "stream",
          "name": "stdout",
          "text": [
            "1/1 [==============================] - 0s 39ms/step\n"
          ]
        },
        {
          "output_type": "execute_result",
          "data": {
            "text/plain": [
              "(6, 1)"
            ]
          },
          "metadata": {},
          "execution_count": 32
        }
      ]
    },
    {
      "cell_type": "code",
      "metadata": {
        "id": "z7_reKh8CQ8H",
        "colab": {
          "base_uri": "https://localhost:8080/"
        },
        "outputId": "43509955-358c-44b6-93aa-d3176b695e34"
      },
      "source": [
        "y_hat"
      ],
      "execution_count": 33,
      "outputs": [
        {
          "output_type": "execute_result",
          "data": {
            "text/plain": [
              "array([[-2.988682  ],\n",
              "       [-0.99144226],\n",
              "       [ 1.0057974 ],\n",
              "       [ 3.0030372 ],\n",
              "       [ 5.000277  ],\n",
              "       [ 6.9975166 ]], dtype=float32)"
            ]
          },
          "metadata": {},
          "execution_count": 33
        }
      ]
    },
    {
      "cell_type": "code",
      "metadata": {
        "id": "WIDpWAouCaBC",
        "colab": {
          "base_uri": "https://localhost:8080/"
        },
        "outputId": "2c4f53ba-6a0c-4850-966c-8185618423f6"
      },
      "source": [
        "# Dados verdadeiros de outputs\n",
        "ys"
      ],
      "execution_count": 34,
      "outputs": [
        {
          "output_type": "execute_result",
          "data": {
            "text/plain": [
              "array([-3., -1.,  1.,  3.,  5.,  7.])"
            ]
          },
          "metadata": {},
          "execution_count": 34
        }
      ]
    },
    {
      "cell_type": "code",
      "metadata": {
        "id": "V1M4NgGIMrBV",
        "colab": {
          "base_uri": "https://localhost:8080/",
          "height": 472
        },
        "outputId": "c655170a-6d7f-4fdd-e4c8-daab3b51f63f"
      },
      "source": [
        "# Plot dos dados verdadeiros de saída\n",
        "plt.plot(xs, ys, color='red', marker='o', label='ys')\n",
        "plt.axis([-1,5,-5,8])\n",
        "plt.title('X match Y')\n",
        "plt.xlabel('xs (input data)')\n",
        "plt.ylabel('ys (output)')\n",
        "plt.legend(loc='upper left')\n",
        "plt.grid()"
      ],
      "execution_count": 35,
      "outputs": [
        {
          "output_type": "display_data",
          "data": {
            "text/plain": [
              "<Figure size 640x480 with 1 Axes>"
            ],
            "image/png": "[encoded data removed]"
          },
          "metadata": {}
        }
      ]
    },
    {
      "cell_type": "code",
      "metadata": {
        "id": "kebrP9CEBIfx",
        "colab": {
          "base_uri": "https://localhost:8080/"
        },
        "outputId": "3ae3b72d-a068-4e52-b478-966621032caa"
      },
      "source": [
        "# Quantidade de predictions geradas do treino (1 por época)\n",
        "len(predictions)"
      ],
      "execution_count": null,
      "outputs": [
        {
          "output_type": "execute_result",
          "data": {
            "text/plain": [
              "500"
            ]
          },
          "metadata": {},
          "execution_count": 17
        }
      ]
    },
    {
      "cell_type": "code",
      "metadata": {
        "id": "JqMGl465BfC9",
        "colab": {
          "base_uri": "https://localhost:8080/"
        },
        "outputId": "0dba94a9-d9c9-45f1-9a3b-7aca77e1cbc6"
      },
      "source": [
        "# predicitions da época 10\n",
        "predictions[10]"
      ],
      "execution_count": null,
      "outputs": [
        {
          "output_type": "execute_result",
          "data": {
            "text/plain": [
              "array([[-1.3970841],\n",
              "       [ 0.0438943],\n",
              "       [ 1.4848727],\n",
              "       [ 2.925851 ],\n",
              "       [ 4.3668294],\n",
              "       [ 5.807808 ]], dtype=float32)"
            ]
          },
          "metadata": {},
          "execution_count": 21
        }
      ]
    },
    {
      "cell_type": "code",
      "metadata": {
        "id": "ERv44Ar_GigE",
        "colab": {
          "base_uri": "https://localhost:8080/",
          "height": 295
        },
        "outputId": "acfe575e-4ebb-4871-f3fa-0c773719eb3f"
      },
      "source": [
        "# Plot das predictions da época 5\n",
        "EPOCH = 5\n",
        "plt.plot(xs, ys, color='red', marker='o', label='ys')\n",
        "plt.plot(xs, predictions[EPOCH-1], color='blue', marker='x', label='predictions')\n",
        "plt.axis([-1,5,-5,8])\n",
        "plt.title('Predictions')\n",
        "plt.xlabel('xs (input data)')\n",
        "plt.ylabel('ys (output)')\n",
        "plt.legend(loc='upper left')\n",
        "plt.grid()"
      ],
      "execution_count": null,
      "outputs": [
        {
          "output_type": "display_data",
          "data": {
            "image/png": "[encoded data removed]",
            "text/plain": [
              "<Figure size 432x288 with 1 Axes>"
            ]
          },
          "metadata": {
            "needs_background": "light"
          }
        }
      ]
    },
    {
      "cell_type": "code",
      "metadata": {
        "id": "-yRATIeOLP7v",
        "colab": {
          "base_uri": "https://localhost:8080/",
          "height": 350
        },
        "outputId": "37d87a2d-8957-4272-d1fd-064863252f77"
      },
      "source": [
        "# Plot com predictions de várias épocas\n",
        "EPOCHS = [1, 10, 25, 50, 100]\n",
        "plt.figure(figsize=(10,5))\n",
        "plt.plot(xs, ys, color='red', marker='o', label='ys')\n",
        "for EPOCH in EPOCHS:\n",
        "    plt.plot(xs, predictions[EPOCH-1], label = \"Epoch = \"+str(EPOCH))\n",
        "\n",
        "plt.axis([-1,5,-5,8])\n",
        "plt.title('Predictions')\n",
        "plt.xlabel('xs (input data)')\n",
        "plt.ylabel('ys (output)')\n",
        "plt.legend(loc='upper left')\n",
        "plt.grid()"
      ],
      "execution_count": null,
      "outputs": [
        {
          "output_type": "display_data",
          "data": {
            "image/png": "[encoded data removed]",
            "text/plain": [
              "<Figure size 720x360 with 1 Axes>"
            ]
          },
          "metadata": {
            "needs_background": "light"
          }
        }
      ]
    }
  ]
}